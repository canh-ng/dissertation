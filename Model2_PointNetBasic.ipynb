{
  "nbformat": 4,
  "nbformat_minor": 0,
  "metadata": {
    "colab": {
      "name": "Model2_PointNetBasic.ipynb",
      "version": "0.3.2",
      "provenance": [],
      "collapsed_sections": []
    },
    "kernelspec": {
      "name": "python3",
      "display_name": "Python 3"
    },
    "accelerator": "GPU"
  },
  "cells": [
    {
      "metadata": {
        "id": "tMSZgKjJXemK",
        "colab_type": "text"
      },
      "cell_type": "markdown",
      "source": [
        "# Model 2 - PointNet Basic\n",
        "\n",
        "## Prediction of radiotherapy plan violation from spatial arrangement of target and organ at risk structures using deep learning\n",
        "\n",
        "_By Phillip Hungerford,  University of New South Wales_\n",
        "\n",
        "## PointNet Basic Model Testing"
      ]
    },
    {
      "metadata": {
        "id": "T--qZczHXjx_",
        "colab_type": "code",
        "outputId": "f6804813-eb6b-46c7-8f41-8fc125e61396",
        "colab": {
          "base_uri": "https://localhost:8080/",
          "height": 55
        }
      },
      "cell_type": "code",
      "source": [
        "from google.colab import drive\n",
        "drive.mount('/content/drive')"
      ],
      "execution_count": 1,
      "outputs": [
        {
          "output_type": "stream",
          "text": [
            "Drive already mounted at /content/drive; to attempt to forcibly remount, call drive.mount(\"/content/drive\", force_remount=True).\n"
          ],
          "name": "stdout"
        }
      ]
    },
    {
      "metadata": {
        "id": "3jVNahVSXl-V",
        "colab_type": "code",
        "outputId": "c60ca07f-f220-48bf-85e5-f9f2e7296c7b",
        "colab": {
          "base_uri": "https://localhost:8080/",
          "height": 35
        }
      },
      "cell_type": "code",
      "source": [
        "cd drive"
      ],
      "execution_count": 2,
      "outputs": [
        {
          "output_type": "stream",
          "text": [
            "/content/drive\n"
          ],
          "name": "stdout"
        }
      ]
    },
    {
      "metadata": {
        "id": "IX80XsiwXnuB",
        "colab_type": "code",
        "outputId": "140aca68-c646-4f08-b49f-bcdb86676edc",
        "colab": {
          "base_uri": "https://localhost:8080/",
          "height": 35
        }
      },
      "cell_type": "code",
      "source": [
        "cd My Drive"
      ],
      "execution_count": 3,
      "outputs": [
        {
          "output_type": "stream",
          "text": [
            "/content/drive/My Drive\n"
          ],
          "name": "stdout"
        }
      ]
    },
    {
      "metadata": {
        "id": "ZizvZbgfXo44",
        "colab_type": "code",
        "outputId": "2248d3aa-4ad0-4942-9b0c-38d4e7d682ab",
        "colab": {
          "base_uri": "https://localhost:8080/",
          "height": 35
        }
      },
      "cell_type": "code",
      "source": [
        "cd Dissertation/5_Code/1_code"
      ],
      "execution_count": 4,
      "outputs": [
        {
          "output_type": "stream",
          "text": [
            "/content/drive/My Drive/Dissertation/5_Code/1_code\n"
          ],
          "name": "stdout"
        }
      ]
    },
    {
      "metadata": {
        "id": "_BemM3GiXqNv",
        "colab_type": "code",
        "outputId": "9cbc2845-7e2a-498d-8f8b-f1dd65d0b81a",
        "colab": {
          "base_uri": "https://localhost:8080/",
          "height": 138
        }
      },
      "cell_type": "code",
      "source": [
        "ls"
      ],
      "execution_count": 5,
      "outputs": [
        {
          "output_type": "stream",
          "text": [
            " DataPreparation.ipynb          Model5_ANN.ipynb\n",
            "'EDA&PreProcessing.ipynb'       my_model_16_16_16.h5\n",
            " keras-test.ipynb               original-voxel-model.ipynb\n",
            " Model1_PointNetFull.ipynb      PointNetBasic.ipynb\n",
            " Model2_PointNetBasic.ipynb     \u001b[0m\u001b[01;34mPy\u001b[0m/\n",
            " Model3_PointNetBasic_l.ipynb   \u001b[01;34m__pycache__\u001b[0m/\n",
            " Model4_3DCNN.ipynb             voxel-model.ipynb\n"
          ],
          "name": "stdout"
        }
      ]
    },
    {
      "metadata": {
        "id": "RHK1KUooSJ6x",
        "colab_type": "text"
      },
      "cell_type": "markdown",
      "source": [
        "## 1. Set Seed for Reproducibility"
      ]
    },
    {
      "metadata": {
        "id": "U5kqoW_TSOfD",
        "colab_type": "code",
        "colab": {
          "base_uri": "https://localhost:8080/",
          "height": 35
        },
        "outputId": "77f7bed8-641d-46e4-fdea-b0f3b4b3651f"
      },
      "cell_type": "code",
      "source": [
        "# Seed value\n",
        "# Apparently you may use different seed values at each stage\n",
        "seed_value= 0\n",
        "\n",
        "# 1. Set `PYTHONHASHSEED` environment variable at a fixed value\n",
        "import os\n",
        "os.environ['PYTHONHASHSEED']=str(seed_value)\n",
        "\n",
        "# 2. Set `python` built-in pseudo-random generator at a fixed value\n",
        "import random\n",
        "random.seed(seed_value)\n",
        "\n",
        "# 3. Set `numpy` pseudo-random generator at a fixed value\n",
        "import numpy as np\n",
        "np.random.seed(seed_value)\n",
        "\n",
        "# 4. Set `tensorflow` pseudo-random generator at a fixed value\n",
        "import tensorflow as tf\n",
        "tf.set_random_seed(seed_value)\n",
        "\n",
        "# 5. Configure a new global `tensorflow` session\n",
        "from keras import backend as K\n",
        "session_conf = tf.ConfigProto(intra_op_parallelism_threads=1, inter_op_parallelism_threads=1)\n",
        "sess = tf.Session(graph=tf.get_default_graph(), config=session_conf)\n",
        "K.set_session(sess)"
      ],
      "execution_count": 6,
      "outputs": [
        {
          "output_type": "stream",
          "text": [
            "Using TensorFlow backend.\n"
          ],
          "name": "stderr"
        }
      ]
    },
    {
      "metadata": {
        "id": "qzfmJn0JSP6_",
        "colab_type": "text"
      },
      "cell_type": "markdown",
      "source": [
        "## 2. Install dependencies"
      ]
    },
    {
      "metadata": {
        "id": "3QiimTraXrte",
        "colab_type": "code",
        "colab": {}
      },
      "cell_type": "code",
      "source": [
        "# Import dependencies\n",
        "import os\n",
        "import time\n",
        "import random\n",
        "import numpy as np\n",
        "import tensorflow as tf\n",
        "from numpy.random import seed\n",
        "import matplotlib.pyplot as plt\n",
        "from keras.optimizers import Adam\n",
        "from keras.models import Sequential\n",
        "from tensorflow import set_random_seed\n",
        "from mlxtend.plotting import plot_confusion_matrix\n",
        "from sklearn.model_selection import train_test_split\n",
        "from sklearn.metrics import roc_auc_score, roc_curve, classification_report, auc, confusion_matrix\n",
        "from keras.layers import Dense, MaxPooling1D, Convolution1D, Dropout, Flatten, BatchNormalization\n",
        "from keras.callbacks import ModelCheckpoint, TensorBoard, EarlyStopping"
      ],
      "execution_count": 0,
      "outputs": []
    },
    {
      "metadata": {
        "id": "mZId-KztSTJh",
        "colab_type": "text"
      },
      "cell_type": "markdown",
      "source": [
        "## 3. Load data"
      ]
    },
    {
      "metadata": {
        "id": "AtaSCueUXtDx",
        "colab_type": "code",
        "outputId": "e40f1214-b42b-4db0-95e1-6e1b1d58b98d",
        "colab": {
          "base_uri": "https://localhost:8080/",
          "height": 69
        }
      },
      "cell_type": "code",
      "source": [
        "num_points=3140\n",
        "X = np.load('../2_pipeline/3140-xyz.npy')\n",
        "y = np.load('../2_pipeline/labels.npy')\n",
        "\n",
        "#split data into 1: train+validation set and 2: test set \n",
        "X_train_val, X_test, y_train_val, y_test = \\\n",
        "train_test_split(X, y, random_state=0, test_size=0.2)\n",
        "\n",
        "# split train+validation set into 1a) training and 1b) validation sets\n",
        "X_train, X_val, y_train, y_val = \\\n",
        "train_test_split(X_train_val, y_train_val, random_state=1, test_size=0.2)\n",
        "\n",
        "#from keras.utils import to_categorical\n",
        "#y_test = to_categorical(y_test)\n",
        "#y_train = to_categorical(y_train)\n",
        "\n",
        "print('Training shape is: ', X_train.shape)\n",
        "print('Validation shape is: ', X_val.shape)\n",
        "print('Test shape is: ', X_test.shape)"
      ],
      "execution_count": 8,
      "outputs": [
        {
          "output_type": "stream",
          "text": [
            "Training shape is:  (182, 3140, 3)\n",
            "Validation shape is:  (46, 3140, 3)\n",
            "Test shape is:  (58, 3140, 3)\n"
          ],
          "name": "stdout"
        }
      ]
    },
    {
      "metadata": {
        "id": "7iuELZVXSVIM",
        "colab_type": "text"
      },
      "cell_type": "markdown",
      "source": [
        "## 4. Build Model"
      ]
    },
    {
      "metadata": {
        "id": "TbiQQij7XvGG",
        "colab_type": "code",
        "colab": {
          "base_uri": "https://localhost:8080/",
          "height": 89
        },
        "outputId": "f956b5f5-23ba-4f1b-84a1-bfdb12f9a6cd"
      },
      "cell_type": "code",
      "source": [
        "# hyperparameters\n",
        "# number of categories\n",
        "k = 1\n",
        "# define optimizer\n",
        "opt = Adam(lr=0.001, decay=0.7)\n",
        "max_epochs=25\n",
        "batch_size=32\n",
        "dropout_rate = 0.7\n",
        "\n",
        "# Class weights\n",
        "class_weight = {0: 0.2, 1: 0.8}"
      ],
      "execution_count": 9,
      "outputs": [
        {
          "output_type": "stream",
          "text": [
            "WARNING:tensorflow:From /usr/local/lib/python3.6/dist-packages/tensorflow/python/framework/op_def_library.py:263: colocate_with (from tensorflow.python.framework.ops) is deprecated and will be removed in a future version.\n",
            "Instructions for updating:\n",
            "Colocations handled automatically by placer.\n"
          ],
          "name": "stdout"
        }
      ]
    },
    {
      "metadata": {
        "id": "Hc_dlLs4aNnx",
        "colab_type": "code",
        "outputId": "9ce07076-2639-4023-bf42-fe3e68701daf",
        "colab": {
          "base_uri": "https://localhost:8080/",
          "height": 625
        }
      },
      "cell_type": "code",
      "source": [
        "################################################################################\n",
        "### POINTNET ARCHITECTURE\n",
        "################################################################################\n",
        "# Point functions (MLP implemented as conv1d)\n",
        "model = Sequential()\n",
        "model.add(Convolution1D(64, 1, input_shape=(num_points, 3), activation='relu'))\n",
        "model.add(Convolution1D(64, 1, activation='relu'))\n",
        "model.add(Convolution1D(64, 1, activation='relu'))\n",
        "model.add(Convolution1D(128, 1, activation='relu'))\n",
        "model.add(Convolution1D(1024, 1, activation='relu'))\n",
        "\n",
        "# Symmetric function: max pooling\n",
        "model.add(MaxPooling1D(pool_size=num_points))\n",
        "\n",
        "#fully connected\n",
        "model.add(Dense(512, activation='relu'))\n",
        "model.add(Dropout(rate=dropout_rate))\n",
        "model.add(Dense(256, activation='relu'))\n",
        "model.add(Dropout(rate=dropout_rate))\n",
        "model.add(Dense(1, activation='sigmoid'))\n",
        "model.add(Flatten())\n",
        "\n",
        " # MLP on global point cloud vector\n",
        "model.compile(loss='binary_crossentropy', optimizer=opt, metrics=['accuracy'])\n",
        "model.summary()"
      ],
      "execution_count": 10,
      "outputs": [
        {
          "output_type": "stream",
          "text": [
            "WARNING:tensorflow:From /usr/local/lib/python3.6/dist-packages/keras/backend/tensorflow_backend.py:3445: calling dropout (from tensorflow.python.ops.nn_ops) with keep_prob is deprecated and will be removed in a future version.\n",
            "Instructions for updating:\n",
            "Please use `rate` instead of `keep_prob`. Rate should be set to `rate = 1 - keep_prob`.\n",
            "_________________________________________________________________\n",
            "Layer (type)                 Output Shape              Param #   \n",
            "=================================================================\n",
            "conv1d_1 (Conv1D)            (None, 3140, 64)          256       \n",
            "_________________________________________________________________\n",
            "conv1d_2 (Conv1D)            (None, 3140, 64)          4160      \n",
            "_________________________________________________________________\n",
            "conv1d_3 (Conv1D)            (None, 3140, 64)          4160      \n",
            "_________________________________________________________________\n",
            "conv1d_4 (Conv1D)            (None, 3140, 128)         8320      \n",
            "_________________________________________________________________\n",
            "conv1d_5 (Conv1D)            (None, 3140, 1024)        132096    \n",
            "_________________________________________________________________\n",
            "max_pooling1d_1 (MaxPooling1 (None, 1, 1024)           0         \n",
            "_________________________________________________________________\n",
            "dense_1 (Dense)              (None, 1, 512)            524800    \n",
            "_________________________________________________________________\n",
            "dropout_1 (Dropout)          (None, 1, 512)            0         \n",
            "_________________________________________________________________\n",
            "dense_2 (Dense)              (None, 1, 256)            131328    \n",
            "_________________________________________________________________\n",
            "dropout_2 (Dropout)          (None, 1, 256)            0         \n",
            "_________________________________________________________________\n",
            "dense_3 (Dense)              (None, 1, 1)              257       \n",
            "_________________________________________________________________\n",
            "flatten_1 (Flatten)          (None, 1)                 0         \n",
            "=================================================================\n",
            "Total params: 805,377\n",
            "Trainable params: 805,377\n",
            "Non-trainable params: 0\n",
            "_________________________________________________________________\n"
          ],
          "name": "stdout"
        }
      ]
    },
    {
      "metadata": {
        "id": "F17FJpQySY1o",
        "colab_type": "text"
      },
      "cell_type": "markdown",
      "source": [
        "## 5. Train & Evaluate Model"
      ]
    },
    {
      "metadata": {
        "id": "FYl7wys3aTsN",
        "colab_type": "code",
        "outputId": "a5ad1a76-4b56-4b09-d240-85ee5bc5d59d",
        "colab": {
          "base_uri": "https://localhost:8080/",
          "height": 1005
        }
      },
      "cell_type": "code",
      "source": [
        "# Fit the model\n",
        "history = model.fit(X_train, y_train, batch_size=batch_size, epochs=max_epochs,\\\n",
        "                    shuffle=True, verbose=1, validation_data=(X_val, y_val),\\\n",
        "                    class_weight=class_weight)\n",
        "\n",
        "# Evaluate Model\n",
        "scores = model.evaluate(X_test, y_test, verbose=0)\n",
        "print(\"Average loss of: \", scores[0])\n",
        "print(\"Average accuracy of: \", scores[1])"
      ],
      "execution_count": 11,
      "outputs": [
        {
          "output_type": "stream",
          "text": [
            "WARNING:tensorflow:From /usr/local/lib/python3.6/dist-packages/tensorflow/python/ops/math_ops.py:3066: to_int32 (from tensorflow.python.ops.math_ops) is deprecated and will be removed in a future version.\n",
            "Instructions for updating:\n",
            "Use tf.cast instead.\n",
            "Train on 182 samples, validate on 46 samples\n",
            "Epoch 1/25\n",
            "182/182 [==============================] - 5s 26ms/step - loss: 0.8875 - acc: 0.4780 - val_loss: 1.0089 - val_acc: 0.6739\n",
            "Epoch 2/25\n",
            "182/182 [==============================] - 1s 7ms/step - loss: 1.1155 - acc: 0.5330 - val_loss: 0.8687 - val_acc: 0.6739\n",
            "Epoch 3/25\n",
            "182/182 [==============================] - 1s 7ms/step - loss: 1.1826 - acc: 0.4780 - val_loss: 0.8229 - val_acc: 0.5217\n",
            "Epoch 4/25\n",
            "182/182 [==============================] - 1s 7ms/step - loss: 0.8531 - acc: 0.4945 - val_loss: 0.8623 - val_acc: 0.5217\n",
            "Epoch 5/25\n",
            "182/182 [==============================] - 1s 7ms/step - loss: 1.0529 - acc: 0.4505 - val_loss: 0.8766 - val_acc: 0.5217\n",
            "Epoch 6/25\n",
            "182/182 [==============================] - 1s 7ms/step - loss: 0.8049 - acc: 0.5549 - val_loss: 0.8911 - val_acc: 0.5217\n",
            "Epoch 7/25\n",
            "182/182 [==============================] - 1s 7ms/step - loss: 0.8302 - acc: 0.5055 - val_loss: 0.8833 - val_acc: 0.5217\n",
            "Epoch 8/25\n",
            "182/182 [==============================] - 1s 7ms/step - loss: 0.7503 - acc: 0.4505 - val_loss: 0.8741 - val_acc: 0.5217\n",
            "Epoch 9/25\n",
            "182/182 [==============================] - 1s 7ms/step - loss: 0.8358 - acc: 0.4505 - val_loss: 0.8668 - val_acc: 0.5217\n",
            "Epoch 10/25\n",
            "182/182 [==============================] - 1s 7ms/step - loss: 0.8393 - acc: 0.4451 - val_loss: 0.8558 - val_acc: 0.5217\n",
            "Epoch 11/25\n",
            "182/182 [==============================] - 1s 7ms/step - loss: 0.8397 - acc: 0.4670 - val_loss: 0.8576 - val_acc: 0.5217\n",
            "Epoch 12/25\n",
            "182/182 [==============================] - 1s 7ms/step - loss: 0.6160 - acc: 0.5330 - val_loss: 0.8561 - val_acc: 0.5217\n",
            "Epoch 13/25\n",
            "182/182 [==============================] - 1s 7ms/step - loss: 0.7179 - acc: 0.4725 - val_loss: 0.8473 - val_acc: 0.5217\n",
            "Epoch 14/25\n",
            "182/182 [==============================] - 1s 7ms/step - loss: 0.6639 - acc: 0.5110 - val_loss: 0.8409 - val_acc: 0.5217\n",
            "Epoch 15/25\n",
            "182/182 [==============================] - 1s 7ms/step - loss: 0.9081 - acc: 0.5275 - val_loss: 0.8464 - val_acc: 0.5217\n",
            "Epoch 16/25\n",
            "182/182 [==============================] - 1s 7ms/step - loss: 0.7287 - acc: 0.4890 - val_loss: 0.8480 - val_acc: 0.5217\n",
            "Epoch 17/25\n",
            "182/182 [==============================] - 1s 7ms/step - loss: 0.7395 - acc: 0.4945 - val_loss: 0.8437 - val_acc: 0.5217\n",
            "Epoch 18/25\n",
            "182/182 [==============================] - 1s 7ms/step - loss: 0.8824 - acc: 0.4560 - val_loss: 0.8409 - val_acc: 0.5217\n",
            "Epoch 19/25\n",
            "182/182 [==============================] - 1s 7ms/step - loss: 0.6102 - acc: 0.5055 - val_loss: 0.8439 - val_acc: 0.5217\n",
            "Epoch 20/25\n",
            "182/182 [==============================] - 1s 7ms/step - loss: 0.7168 - acc: 0.4890 - val_loss: 0.8447 - val_acc: 0.5217\n",
            "Epoch 21/25\n",
            "182/182 [==============================] - 1s 7ms/step - loss: 0.6220 - acc: 0.4725 - val_loss: 0.8440 - val_acc: 0.5217\n",
            "Epoch 22/25\n",
            "182/182 [==============================] - 1s 7ms/step - loss: 0.8272 - acc: 0.3681 - val_loss: 0.8420 - val_acc: 0.5217\n",
            "Epoch 23/25\n",
            "182/182 [==============================] - 1s 7ms/step - loss: 0.6134 - acc: 0.5385 - val_loss: 0.8397 - val_acc: 0.5217\n",
            "Epoch 24/25\n",
            "182/182 [==============================] - 1s 7ms/step - loss: 0.6140 - acc: 0.4286 - val_loss: 0.8384 - val_acc: 0.5217\n",
            "Epoch 25/25\n",
            "182/182 [==============================] - 1s 7ms/step - loss: 0.6119 - acc: 0.5110 - val_loss: 0.8360 - val_acc: 0.5217\n",
            "Average loss of:  0.6353723468451664\n",
            "Average accuracy of:  0.6896551806351234\n"
          ],
          "name": "stdout"
        }
      ]
    },
    {
      "metadata": {
        "id": "pz_WO2UOaWiG",
        "colab_type": "code",
        "outputId": "82b5b2b0-55c0-4570-a2bd-abc4e7a3a562",
        "colab": {
          "base_uri": "https://localhost:8080/",
          "height": 1306
        }
      },
      "cell_type": "code",
      "source": [
        "print(\"\\n###################### Model Performance ############################\")\n",
        "# Make predictions \n",
        "y_pred = model.predict(X_test)\n",
        "\n",
        "# evaluate the model\n",
        "_, train_acc = model.evaluate(X_train, y_train, verbose=0)\n",
        "_, test_acc = model.evaluate(X_test, y_test, verbose=0)\n",
        "print('\\nTrain: %.3f, Test: %.3f' % (train_acc, test_acc))\n",
        "print(\"\\n#####################################################################\")\n",
        "\n",
        "# Create the confusion matrix\n",
        "ann_cm = confusion_matrix(y_true = y_test, y_pred = y_pred.round())\n",
        "print(\"\\nOur test confusion matrix yields: \")\n",
        "fig, ax = plot_confusion_matrix(conf_mat=ann_cm)\n",
        "plt.show()\n",
        "print(\"\\n#####################################################################\")\n",
        "\n",
        "#Classification report\n",
        "ann_report = classification_report(y_test, y_pred.round())\n",
        "print(\"\\nClassfication Report for test:\\n\", ann_report)\n",
        "print(\"\\n#####################################################################\")\n",
        "\n",
        "# Plot AUC\n",
        "from sklearn.metrics import roc_curve, auc\n",
        "fpr, tpr, thresholds = roc_curve(y_test, y_pred)\n",
        "auc = auc(fpr, tpr)\n",
        "\n",
        "print(\"\\nThe AUC is\", auc)\n",
        "# Create AUC plot\n",
        "plt.figure(1)\n",
        "plt.plot([0, 1], [0, 1], 'k--')\n",
        "plt.plot(fpr, tpr, label='Keras (area = {:.3f})'.format(auc))\n",
        "plt.xlabel('False positive rate')\n",
        "plt.ylabel('True positive rate')\n",
        "plt.title('ROC curve')\n",
        "plt.legend(loc='best')\n",
        "plt.show()\n",
        "# Zoom in view of the upper left corner.\n",
        "plt.figure(2)\n",
        "plt.xlim(0, 0.2)\n",
        "plt.ylim(0.8, 1)\n",
        "plt.plot([0, 1], [0, 1], 'k--')\n",
        "plt.plot(fpr, tpr, label='Keras (area = {:.3f})'.format(auc))\n",
        "plt.xlabel('False positive rate')\n",
        "plt.ylabel('True positive rate')\n",
        "plt.title('ROC curve (zoomed in at top left)')\n",
        "plt.legend(loc='best')\n",
        "plt.show()\n",
        "print(\"\\n#####################################################################\")"
      ],
      "execution_count": 12,
      "outputs": [
        {
          "output_type": "stream",
          "text": [
            "\n",
            "###################### Model Performance ############################\n",
            "\n",
            "Train: 0.599, Test: 0.690\n",
            "\n",
            "#####################################################################\n",
            "\n",
            "Our test confusion matrix yields: \n"
          ],
          "name": "stdout"
        },
        {
          "output_type": "display_data",
          "data": {
            "image/png": "[encoded data removed]",
            "text/plain": [
              "<Figure size 432x288 with 1 Axes>"
            ]
          },
          "metadata": {
            "tags": []
          }
        },
        {
          "output_type": "stream",
          "text": [
            "\n",
            "#####################################################################\n",
            "\n",
            "Classfication Report for test:\n",
            "               precision    recall  f1-score   support\n",
            "\n",
            "         0.0       0.82      0.64      0.72        36\n",
            "         1.0       0.57      0.77      0.65        22\n",
            "\n",
            "   micro avg       0.69      0.69      0.69        58\n",
            "   macro avg       0.69      0.71      0.69        58\n",
            "weighted avg       0.72      0.69      0.69        58\n",
            "\n",
            "\n",
            "#####################################################################\n",
            "\n",
            "The AUC is 0.7487373737373737\n"
          ],
          "name": "stdout"
        },
        {
          "output_type": "display_data",
          "data": {
            "image/png": "[encoded data removed]",
            "text/plain": [
              "<Figure size 432x288 with 1 Axes>"
            ]
          },
          "metadata": {
            "tags": []
          }
        },
        {
          "output_type": "display_data",
          "data": {
            "image/png": "[encoded data removed]",
            "text/plain": [
              "<Figure size 432x288 with 1 Axes>"
            ]
          },
          "metadata": {
            "tags": []
          }
        },
        {
          "output_type": "stream",
          "text": [
            "\n",
            "#####################################################################\n"
          ],
          "name": "stdout"
        }
      ]
    },
    {
      "metadata": {
        "id": "pCcYMfQNaZTl",
        "colab_type": "code",
        "colab": {}
      },
      "cell_type": "code",
      "source": [
        "################################################################################\n",
        "# Save model\n",
        "#import pickle\n",
        "\n",
        "# Save history\n",
        "#with open('/trainHistoryDict', 'wb') as file_pi:\n",
        "        #pickle.dump(history.history, file_pi)\n",
        "\n",
        "# Save model\n",
        "#from keras.models import load_model\n",
        "#model.save('my_model'+str(num_points)+'4D.h5')  # creates a HDF5 file 'my_model.h5'\n",
        "#del model  # deletes the existing model\n",
        "\n",
        "################################################################################"
      ],
      "execution_count": 0,
      "outputs": []
    },
    {
      "metadata": {
        "id": "NyqAfe7gx41Z",
        "colab_type": "text"
      },
      "cell_type": "markdown",
      "source": [
        "## Multi-class Model k=4, 0 = No violation, 1 = bladder violation, 2 = rectum violation, 3 = both"
      ]
    },
    {
      "metadata": {
        "id": "uWS67fdoyEFr",
        "colab_type": "code",
        "colab": {
          "base_uri": "https://localhost:8080/",
          "height": 155
        },
        "outputId": "416db0cc-06a5-4c81-b318-05cbebff7600"
      },
      "cell_type": "code",
      "source": [
        "num_points=3140\n",
        "X = np.load('../2_pipeline/3140-xyz.npy')\n",
        "y = np.load('../2_pipeline/labels_k4.npy')\n",
        "\n",
        "#split data into 1: train+validation set and 2: test set \n",
        "X_train_val, X_test, y_train_val, y_test = \\\n",
        "train_test_split(X, y, random_state=0, test_size=0.2)\n",
        "\n",
        "# split train+validation set into 1a) training and 1b) validation sets\n",
        "X_train, X_val, y_train, y_val = \\\n",
        "train_test_split(X_train_val, y_train_val, random_state=1, test_size=0.2)\n",
        "\n",
        "from keras.utils import to_categorical\n",
        "y_test = to_categorical(y_test)\n",
        "y_val = to_categorical(y_val)\n",
        "y_train = to_categorical(y_train)\n",
        "\n",
        "print('Training shape is: ', X_train.shape)\n",
        "print('Validation shape is: ', X_val.shape)\n",
        "print('Test shape is: ', X_test.shape)\n",
        "\n",
        "bladder_proportion = round(sum(y==1)/268,2)\n",
        "rectum_proportion = round(sum(y==2)/268,2)\n",
        "both_proportion = round(sum(y==3)/268,2)\n",
        "total = round(bladder_proportion+rectum_proportion+both_proportion,2)\n",
        "\n",
        "print()\n",
        "print(\"Proportion of bladder violations: \", bladder_proportion)\n",
        "print(\"Proportion of rectum violations: \", rectum_proportion)\n",
        "print(\"Proportion of both violations: \", both_proportion)\n",
        "print(\"Proportion of no violations: \", round(1-total,2))"
      ],
      "execution_count": 67,
      "outputs": [
        {
          "output_type": "stream",
          "text": [
            "Training shape is:  (182, 3140, 3)\n",
            "Validation shape is:  (46, 3140, 3)\n",
            "Test shape is:  (58, 3140, 3)\n",
            "\n",
            "Proportion of bladder violations:  0.04\n",
            "Proportion of rectum violations:  0.25\n",
            "Proportion of both violations:  0.03\n",
            "Proportion of no violations:  0.68\n"
          ],
          "name": "stdout"
        }
      ]
    },
    {
      "metadata": {
        "id": "z2M-ZtOp3hs4",
        "colab_type": "code",
        "colab": {}
      },
      "cell_type": "code",
      "source": [
        "# Class weights\n",
        "class_weight = { 0:1, 1:8, 2:4, 3:8}"
      ],
      "execution_count": 0,
      "outputs": []
    },
    {
      "metadata": {
        "id": "5Sw5xfKLx68h",
        "colab_type": "code",
        "colab": {
          "base_uri": "https://localhost:8080/",
          "height": 553
        },
        "outputId": "55d06327-31af-4e28-f2f4-6df2b2fac2e7"
      },
      "cell_type": "code",
      "source": [
        "################################################################################\n",
        "### POINTNET ARCHITECTURE\n",
        "################################################################################\n",
        "# Point functions (MLP implemented as conv1d)\n",
        "model = Sequential()\n",
        "model.add(Convolution1D(64, 1, input_shape=(num_points, 3), activation='relu'))\n",
        "model.add(Convolution1D(64, 1, activation='relu'))\n",
        "model.add(Convolution1D(64, 1, activation='relu'))\n",
        "model.add(Convolution1D(128, 1, activation='relu'))\n",
        "model.add(Convolution1D(1024, 1, activation='relu'))\n",
        "\n",
        "# Symmetric function: max pooling\n",
        "model.add(MaxPooling1D(pool_size=num_points))\n",
        "\n",
        "#fully connected\n",
        "model.add(Dense(512, activation='relu'))\n",
        "model.add(Dropout(rate=dropout_rate))\n",
        "model.add(Dense(256, activation='relu'))\n",
        "model.add(Dropout(rate=dropout_rate))\n",
        "model.add(Dense(4, activation='sigmoid'))\n",
        "model.add(Flatten())\n",
        "\n",
        " # MLP on global point cloud vector\n",
        "model.compile(loss='categorical_crossentropy', optimizer=opt, metrics=['accuracy'])\n",
        "model.summary()"
      ],
      "execution_count": 81,
      "outputs": [
        {
          "output_type": "stream",
          "text": [
            "_________________________________________________________________\n",
            "Layer (type)                 Output Shape              Param #   \n",
            "=================================================================\n",
            "conv1d_56 (Conv1D)           (None, 3140, 64)          256       \n",
            "_________________________________________________________________\n",
            "conv1d_57 (Conv1D)           (None, 3140, 64)          4160      \n",
            "_________________________________________________________________\n",
            "conv1d_58 (Conv1D)           (None, 3140, 64)          4160      \n",
            "_________________________________________________________________\n",
            "conv1d_59 (Conv1D)           (None, 3140, 128)         8320      \n",
            "_________________________________________________________________\n",
            "conv1d_60 (Conv1D)           (None, 3140, 1024)        132096    \n",
            "_________________________________________________________________\n",
            "max_pooling1d_12 (MaxPooling (None, 1, 1024)           0         \n",
            "_________________________________________________________________\n",
            "dense_34 (Dense)             (None, 1, 512)            524800    \n",
            "_________________________________________________________________\n",
            "dropout_23 (Dropout)         (None, 1, 512)            0         \n",
            "_________________________________________________________________\n",
            "dense_35 (Dense)             (None, 1, 256)            131328    \n",
            "_________________________________________________________________\n",
            "dropout_24 (Dropout)         (None, 1, 256)            0         \n",
            "_________________________________________________________________\n",
            "dense_36 (Dense)             (None, 1, 4)              1028      \n",
            "_________________________________________________________________\n",
            "flatten_12 (Flatten)         (None, 4)                 0         \n",
            "=================================================================\n",
            "Total params: 806,148\n",
            "Trainable params: 806,148\n",
            "Non-trainable params: 0\n",
            "_________________________________________________________________\n"
          ],
          "name": "stdout"
        }
      ]
    },
    {
      "metadata": {
        "id": "Rxi6-qIlyImN",
        "colab_type": "code",
        "colab": {
          "base_uri": "https://localhost:8080/",
          "height": 953
        },
        "outputId": "df39aea5-163e-4526-c88e-7197f409ebf4"
      },
      "cell_type": "code",
      "source": [
        "# Fit the model\n",
        "history = model.fit(X_train, y_train, batch_size=batch_size, epochs=max_epochs,\\\n",
        "                    shuffle=True, verbose=1, validation_data=(X_val, y_val),\\\n",
        "                    class_weight=class_weight)\n",
        "\n",
        "# Evaluate Model\n",
        "scores = model.evaluate(X_test, y_test, verbose=0)\n",
        "print(\"Average loss of: \", scores[0])\n",
        "print(\"Average accuracy of: \", scores[1])"
      ],
      "execution_count": 82,
      "outputs": [
        {
          "output_type": "stream",
          "text": [
            "Train on 182 samples, validate on 46 samples\n",
            "Epoch 1/25\n",
            "182/182 [==============================] - 4s 21ms/step - loss: 8.8217 - acc: 0.1868 - val_loss: 1.8941 - val_acc: 0.1957\n",
            "Epoch 2/25\n",
            "182/182 [==============================] - 1s 7ms/step - loss: 8.8840 - acc: 0.1648 - val_loss: 1.7613 - val_acc: 0.1957\n",
            "Epoch 3/25\n",
            "182/182 [==============================] - 1s 7ms/step - loss: 9.2390 - acc: 0.2802 - val_loss: 1.6566 - val_acc: 0.1957\n",
            "Epoch 4/25\n",
            "182/182 [==============================] - 1s 7ms/step - loss: 7.5115 - acc: 0.2692 - val_loss: 1.5636 - val_acc: 0.1957\n",
            "Epoch 5/25\n",
            "182/182 [==============================] - 1s 7ms/step - loss: 8.6589 - acc: 0.2308 - val_loss: 1.4795 - val_acc: 0.1957\n",
            "Epoch 6/25\n",
            "182/182 [==============================] - 1s 7ms/step - loss: 8.3612 - acc: 0.2802 - val_loss: 1.4198 - val_acc: 0.1957\n",
            "Epoch 7/25\n",
            "182/182 [==============================] - 1s 7ms/step - loss: 7.4404 - acc: 0.2418 - val_loss: 1.3746 - val_acc: 0.1957\n",
            "Epoch 8/25\n",
            "182/182 [==============================] - 1s 7ms/step - loss: 5.5363 - acc: 0.2637 - val_loss: 1.3359 - val_acc: 0.1957\n",
            "Epoch 9/25\n",
            "182/182 [==============================] - 1s 7ms/step - loss: 6.4672 - acc: 0.2747 - val_loss: 1.3022 - val_acc: 0.1957\n",
            "Epoch 10/25\n",
            "182/182 [==============================] - 1s 7ms/step - loss: 8.0392 - acc: 0.2802 - val_loss: 1.2754 - val_acc: 0.1957\n",
            "Epoch 11/25\n",
            "182/182 [==============================] - 1s 7ms/step - loss: 7.5943 - acc: 0.2308 - val_loss: 1.2547 - val_acc: 0.1957\n",
            "Epoch 12/25\n",
            "182/182 [==============================] - 1s 7ms/step - loss: 9.0823 - acc: 0.2747 - val_loss: 1.2355 - val_acc: 0.1957\n",
            "Epoch 13/25\n",
            "182/182 [==============================] - 1s 7ms/step - loss: 7.4558 - acc: 0.2308 - val_loss: 1.2209 - val_acc: 0.1957\n",
            "Epoch 14/25\n",
            "182/182 [==============================] - 1s 7ms/step - loss: 6.8610 - acc: 0.2857 - val_loss: 1.2077 - val_acc: 0.1957\n",
            "Epoch 15/25\n",
            "182/182 [==============================] - 1s 7ms/step - loss: 8.6177 - acc: 0.2198 - val_loss: 1.1940 - val_acc: 0.1957\n",
            "Epoch 16/25\n",
            "182/182 [==============================] - 1s 7ms/step - loss: 6.1404 - acc: 0.3297 - val_loss: 1.1808 - val_acc: 0.1957\n",
            "Epoch 17/25\n",
            "182/182 [==============================] - 1s 7ms/step - loss: 7.0013 - acc: 0.2527 - val_loss: 1.1703 - val_acc: 0.1957\n",
            "Epoch 18/25\n",
            "182/182 [==============================] - 1s 7ms/step - loss: 6.0225 - acc: 0.2967 - val_loss: 1.1615 - val_acc: 0.1957\n",
            "Epoch 19/25\n",
            "182/182 [==============================] - 1s 7ms/step - loss: 5.2996 - acc: 0.2527 - val_loss: 1.1540 - val_acc: 0.1957\n",
            "Epoch 20/25\n",
            "182/182 [==============================] - 1s 7ms/step - loss: 7.8489 - acc: 0.2967 - val_loss: 1.1478 - val_acc: 0.1957\n",
            "Epoch 21/25\n",
            "182/182 [==============================] - 1s 7ms/step - loss: 7.5092 - acc: 0.2637 - val_loss: 1.1444 - val_acc: 0.1957\n",
            "Epoch 22/25\n",
            "182/182 [==============================] - 1s 7ms/step - loss: 6.1431 - acc: 0.2198 - val_loss: 1.1411 - val_acc: 0.1957\n",
            "Epoch 23/25\n",
            "182/182 [==============================] - 1s 7ms/step - loss: 7.5547 - acc: 0.2527 - val_loss: 1.1379 - val_acc: 0.1957\n",
            "Epoch 24/25\n",
            "182/182 [==============================] - 1s 7ms/step - loss: 5.5926 - acc: 0.3077 - val_loss: 1.1351 - val_acc: 0.1957\n",
            "Epoch 25/25\n",
            "182/182 [==============================] - 1s 7ms/step - loss: 7.0601 - acc: 0.2967 - val_loss: 1.1331 - val_acc: 0.1957\n",
            "Average loss of:  1.1611975554762215\n",
            "Average accuracy of:  0.25862069222433814\n"
          ],
          "name": "stdout"
        }
      ]
    },
    {
      "metadata": {
        "id": "v_bE9XFLyJ20",
        "colab_type": "code",
        "colab": {
          "base_uri": "https://localhost:8080/",
          "height": 452
        },
        "outputId": "1f154041-2588-454d-daaf-6e38f76d0112"
      },
      "cell_type": "code",
      "source": [
        "print(\"\\n###################### Model Performance ############################\")\n",
        "# Make predictions \n",
        "y_pred = model.predict(X_test)\n",
        "\n",
        "# evaluate the model\n",
        "_, train_acc = model.evaluate(X_train, y_train, verbose=0)\n",
        "_, test_acc = model.evaluate(X_test, y_test, verbose=0)\n",
        "print('\\nTrain: %.3f, Test: %.3f' % (train_acc, test_acc))\n",
        "print(\"\\n#####################################################################\")\n",
        "\n",
        "#Classification report\n",
        "ann_report = classification_report(y_test, y_pred.round())\n",
        "print(\"\\nClassfication Report for test:\\n\", ann_report)\n",
        "print(\"\\n#####################################################################\")"
      ],
      "execution_count": 83,
      "outputs": [
        {
          "output_type": "stream",
          "text": [
            "\n",
            "###################### Model Performance ############################\n",
            "\n",
            "Train: 0.242, Test: 0.259\n",
            "\n",
            "#####################################################################\n",
            "\n",
            "Classfication Report for test:\n",
            "               precision    recall  f1-score   support\n",
            "\n",
            "           0       0.69      0.69      0.69        39\n",
            "           1       0.00      0.00      0.00         3\n",
            "           2       0.26      1.00      0.41        15\n",
            "           3       0.00      0.00      0.00         1\n",
            "\n",
            "   micro avg       0.41      0.72      0.52        58\n",
            "   macro avg       0.24      0.42      0.28        58\n",
            "weighted avg       0.53      0.72      0.57        58\n",
            " samples avg       0.40      0.72      0.51        58\n",
            "\n",
            "\n",
            "#####################################################################\n"
          ],
          "name": "stdout"
        },
        {
          "output_type": "stream",
          "text": [
            "/usr/local/lib/python3.6/dist-packages/sklearn/metrics/classification.py:1143: UndefinedMetricWarning: Precision and F-score are ill-defined and being set to 0.0 in labels with no predicted samples.\n",
            "  'precision', 'predicted', average, warn_for)\n"
          ],
          "name": "stderr"
        }
      ]
    },
    {
      "metadata": {
        "id": "xK9qWE-w15Q_",
        "colab_type": "code",
        "colab": {
          "base_uri": "https://localhost:8080/",
          "height": 86
        },
        "outputId": "0f413203-81a3-42aa-f7ed-a8866a30ac43"
      },
      "cell_type": "code",
      "source": [
        ""
      ],
      "execution_count": 65,
      "outputs": [
        {
          "output_type": "stream",
          "text": [
            "Proportion of bladder violations:  0.04\n",
            "Proportion of rectum violations:  0.25\n",
            "Proportion of both violations:  0.03\n",
            "Proportion of no violations:  0.68\n"
          ],
          "name": "stdout"
        }
      ]
    }
  ]
}