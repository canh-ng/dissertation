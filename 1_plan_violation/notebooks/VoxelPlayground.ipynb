{
 "cells": [
  {
   "cell_type": "markdown",
   "metadata": {},
   "source": [
    "# Voxel Playground"
   ]
  },
  {
   "cell_type": "code",
   "execution_count": 3,
   "metadata": {},
   "outputs": [],
   "source": [
    "# Import dependencies\n",
    "from open3d import read_point_cloud\n",
    "from open3d import voxel_down_sample\n",
    "import numpy as np\n",
    "import matplotlib.pyplot as plt\n",
    "%matplotlib inline"
   ]
  },
  {
   "cell_type": "code",
   "execution_count": 4,
   "metadata": {},
   "outputs": [],
   "source": [
    "# Read ply files to point cloud format\n",
    "prostate = read_point_cloud('../0_data/prostate-no-nodes/Mesh_PtNum-1455-PTVHD.ply')\n",
    "bladder = read_point_cloud('../0_data/prostate-no-nodes/Mesh_PtNum-1455-Bladder.ply')\n",
    "feml = read_point_cloud('../0_data/prostate-no-nodes/Mesh_PtNum-1455-FemoralHeadL.ply')\n",
    "femr = read_point_cloud('../0_data/prostate-no-nodes/Mesh_PtNum-1455-FemoralHeadR.ply')\n",
    "rectum = read_point_cloud('../0_data/prostate-no-nodes/Mesh_PtNum-1455-Rectum.ply')\n",
    "\n",
    "# Convert point cloud format to cartesian coordinates\n",
    "prostate = np.asarray(prostate.points)\n",
    "bladder = np.asarray(bladder.points)\n",
    "feml = np.asarray(feml.points)\n",
    "femr = np.asarray(femr.points)\n",
    "rectum = np.asarray(rectum.points)\n",
    "\n",
    "# Add dimension to signify that prostate is target\n",
    "prostate=np.insert(prostate, 3, 1, axis=1)\n",
    "bladder=np.insert(bladder, 3, 0, axis=1)\n",
    "feml=np.insert(feml, 3, 0, axis=1)\n",
    "femr=np.insert(femr, 3, 0, axis=1)\n",
    "rectum=np.insert(rectum, 3, 0, axis=1)\n",
    "\n",
    "# Combine them \n",
    "combined = np.concatenate((prostate,bladder,feml,femr,rectum))"
   ]
  },
  {
   "cell_type": "code",
   "execution_count": 5,
   "metadata": {},
   "outputs": [
    {
     "data": {
      "text/plain": [
       "(8483, 4)"
      ]
     },
     "execution_count": 5,
     "metadata": {},
     "output_type": "execute_result"
    }
   ],
   "source": [
    "combined.shape"
   ]
  },
  {
   "cell_type": "code",
   "execution_count": 6,
   "metadata": {},
   "outputs": [
    {
     "data": {
      "text/plain": [
       "(8483, 3)"
      ]
     },
     "execution_count": 6,
     "metadata": {},
     "output_type": "execute_result"
    }
   ],
   "source": [
    "combined[:,0:3].shape"
   ]
  },
  {
   "cell_type": "code",
   "execution_count": 7,
   "metadata": {},
   "outputs": [
    {
     "data": {
      "text/plain": [
       "1337"
      ]
     },
     "execution_count": 7,
     "metadata": {},
     "output_type": "execute_result"
    }
   ],
   "source": [
    "sum(combined[:,3]==1)"
   ]
  },
  {
   "cell_type": "code",
   "execution_count": 8,
   "metadata": {},
   "outputs": [],
   "source": [
    "# farthest point calculation\n",
    "def calc_distances(p0, points):\n",
    "    return ((p0 - points)**2).sum(axis=1)\n",
    "\n",
    "def downsample(pts, K):\n",
    "    farthest_pts = np.zeros((K, 3))\n",
    "    farthest_pts[0] = pts[np.random.randint(len(pts))]\n",
    "    distances = calc_distances(farthest_pts[0], pts)\n",
    "    for i in range(1, K):\n",
    "        farthest_pts[i] = pts[np.argmax(distances)]\n",
    "        distances = np.minimum(distances, calc_distances(farthest_pts[i], pts))\n",
    "    return farthest_pts"
   ]
  },
  {
   "cell_type": "code",
   "execution_count": 9,
   "metadata": {},
   "outputs": [],
   "source": [
    "#points = combined[:, 0:3]\n",
    "points = downsample(combined[:, 0:3], 1024)"
   ]
  },
  {
   "cell_type": "code",
   "execution_count": 10,
   "metadata": {},
   "outputs": [
    {
     "data": {
      "text/plain": [
       "(1024, 3)"
      ]
     },
     "execution_count": 10,
     "metadata": {},
     "output_type": "execute_result"
    }
   ],
   "source": [
    "points.shape"
   ]
  },
  {
   "cell_type": "code",
   "execution_count": 12,
   "metadata": {},
   "outputs": [],
   "source": [
    "# re-attach 'l' to downsampled scan \n",
    "#patient = np.concatenate((points, combined[:,3]), axis=1)"
   ]
  },
  {
   "cell_type": "code",
   "execution_count": 13,
   "metadata": {},
   "outputs": [
    {
     "name": "stdout",
     "output_type": "stream",
     "text": [
      "(1337, 4)\n",
      "(1576, 4)\n",
      "(2280, 4)\n",
      "(2233, 4)\n",
      "(1057, 4)\n"
     ]
    }
   ],
   "source": [
    "print(prostate.shape)\n",
    "print(bladder.shape)\n",
    "print(feml.shape)\n",
    "print(femr.shape)\n",
    "print(rectum.shape)"
   ]
  },
  {
   "cell_type": "code",
   "execution_count": 14,
   "metadata": {},
   "outputs": [
    {
     "ename": "NameError",
     "evalue": "name 'pt1455' is not defined",
     "output_type": "error",
     "traceback": [
      "\u001b[0;31m---------------------------------------------------------------------------\u001b[0m",
      "\u001b[0;31mNameError\u001b[0m                                 Traceback (most recent call last)",
      "\u001b[0;32m<ipython-input-14-4bed33c9e698>\u001b[0m in \u001b[0;36m<module>\u001b[0;34m\u001b[0m\n\u001b[0;32m----> 1\u001b[0;31m \u001b[0mpt1455\u001b[0m\u001b[0;34m[\u001b[0m\u001b[0;36m0\u001b[0m\u001b[0;34m]\u001b[0m \u001b[0;34m=\u001b[0m \u001b[0mnp\u001b[0m\u001b[0;34m.\u001b[0m\u001b[0mexpand_dims\u001b[0m\u001b[0;34m(\u001b[0m\u001b[0mprostate\u001b[0m\u001b[0;34m,\u001b[0m \u001b[0maxis\u001b[0m\u001b[0;34m=\u001b[0m\u001b[0;36m0\u001b[0m\u001b[0;34m)\u001b[0m\u001b[0;34m\u001b[0m\u001b[0;34m\u001b[0m\u001b[0m\n\u001b[0m\u001b[1;32m      2\u001b[0m \u001b[0mpt1455\u001b[0m\u001b[0;34m[\u001b[0m\u001b[0;36m0\u001b[0m\u001b[0;34m]\u001b[0m\u001b[0;34m.\u001b[0m\u001b[0mshape\u001b[0m\u001b[0;34m\u001b[0m\u001b[0;34m\u001b[0m\u001b[0m\n",
      "\u001b[0;31mNameError\u001b[0m: name 'pt1455' is not defined"
     ]
    }
   ],
   "source": [
    "pt1455[0] = np.expand_dims(prostate, axis=0)\n",
    "pt1455[0].shape"
   ]
  },
  {
   "cell_type": "code",
   "execution_count": 15,
   "metadata": {},
   "outputs": [
    {
     "ename": "NameError",
     "evalue": "name 'voxel_grid' is not defined",
     "output_type": "error",
     "traceback": [
      "\u001b[0;31m---------------------------------------------------------------------------\u001b[0m",
      "\u001b[0;31mNameError\u001b[0m                                 Traceback (most recent call last)",
      "\u001b[0;32m<ipython-input-15-5d3144e7fbaa>\u001b[0m in \u001b[0;36m<module>\u001b[0;34m\u001b[0m\n\u001b[1;32m      1\u001b[0m \u001b[0mh\u001b[0m\u001b[0;34m,\u001b[0m\u001b[0mw\u001b[0m\u001b[0;34m,\u001b[0m\u001b[0md\u001b[0m\u001b[0;34m=\u001b[0m\u001b[0;36m16\u001b[0m\u001b[0;34m,\u001b[0m\u001b[0;36m16\u001b[0m\u001b[0;34m,\u001b[0m\u001b[0;36m16\u001b[0m\u001b[0;34m\u001b[0m\u001b[0;34m\u001b[0m\u001b[0m\n\u001b[1;32m      2\u001b[0m \u001b[0mprostate_grid\u001b[0m \u001b[0;34m=\u001b[0m \u001b[0mVoxelGrid\u001b[0m\u001b[0;34m(\u001b[0m\u001b[0mprostate\u001b[0m\u001b[0;34m,\u001b[0m \u001b[0mx_y_z\u001b[0m\u001b[0;34m=\u001b[0m\u001b[0;34m[\u001b[0m\u001b[0mh\u001b[0m\u001b[0;34m,\u001b[0m\u001b[0mw\u001b[0m\u001b[0;34m,\u001b[0m\u001b[0md\u001b[0m\u001b[0;34m]\u001b[0m\u001b[0;34m)\u001b[0m\u001b[0;34m\u001b[0m\u001b[0;34m\u001b[0m\u001b[0m\n\u001b[0;32m----> 3\u001b[0;31m \u001b[0mprostate_voxel\u001b[0m \u001b[0;34m=\u001b[0m \u001b[0mvoxel_grid\u001b[0m\u001b[0;34m.\u001b[0m\u001b[0mvector\u001b[0m\u001b[0;34m\u001b[0m\u001b[0;34m\u001b[0m\u001b[0m\n\u001b[0m\u001b[1;32m      4\u001b[0m \u001b[0mprostate_grid\u001b[0m\u001b[0;34m.\u001b[0m\u001b[0mplot\u001b[0m\u001b[0;34m(\u001b[0m\u001b[0;34m)\u001b[0m\u001b[0;34m\u001b[0m\u001b[0;34m\u001b[0m\u001b[0m\n",
      "\u001b[0;31mNameError\u001b[0m: name 'voxel_grid' is not defined"
     ]
    }
   ],
   "source": [
    "h,w,d=16,16,16\n",
    "prostate_grid = VoxelGrid(prostate, x_y_z=[h,w,d])\n",
    "prostate_voxel = voxel_grid.vector\n",
    "prostate_grid.plot()"
   ]
  },
  {
   "cell_type": "code",
   "execution_count": 16,
   "metadata": {},
   "outputs": [
    {
     "ename": "NameError",
     "evalue": "name 'prostate_voxel' is not defined",
     "output_type": "error",
     "traceback": [
      "\u001b[0;31m---------------------------------------------------------------------------\u001b[0m",
      "\u001b[0;31mNameError\u001b[0m                                 Traceback (most recent call last)",
      "\u001b[0;32m<ipython-input-16-ebcb3e8d78b8>\u001b[0m in \u001b[0;36m<module>\u001b[0;34m\u001b[0m\n\u001b[0;32m----> 1\u001b[0;31m \u001b[0mprostate_voxel\u001b[0m\u001b[0;34m.\u001b[0m\u001b[0mshape\u001b[0m\u001b[0;34m\u001b[0m\u001b[0;34m\u001b[0m\u001b[0m\n\u001b[0m",
      "\u001b[0;31mNameError\u001b[0m: name 'prostate_voxel' is not defined"
     ]
    }
   ],
   "source": [
    "prostate_voxel.shape"
   ]
  },
  {
   "cell_type": "code",
   "execution_count": 17,
   "metadata": {},
   "outputs": [
    {
     "ename": "NameError",
     "evalue": "name 'prostate_voxel' is not defined",
     "output_type": "error",
     "traceback": [
      "\u001b[0;31m---------------------------------------------------------------------------\u001b[0m",
      "\u001b[0;31mNameError\u001b[0m                                 Traceback (most recent call last)",
      "\u001b[0;32m<ipython-input-17-2d0d045ea29f>\u001b[0m in \u001b[0;36m<module>\u001b[0;34m\u001b[0m\n\u001b[1;32m      8\u001b[0m \u001b[0;34m\u001b[0m\u001b[0m\n\u001b[1;32m      9\u001b[0m \u001b[0mplaceholder\u001b[0m \u001b[0;34m=\u001b[0m \u001b[0mnp\u001b[0m\u001b[0;34m.\u001b[0m\u001b[0mndarray\u001b[0m\u001b[0;34m(\u001b[0m\u001b[0;34m(\u001b[0m\u001b[0;36m1\u001b[0m\u001b[0;34m,\u001b[0m \u001b[0;34m(\u001b[0m\u001b[0mh\u001b[0m\u001b[0;34m*\u001b[0m\u001b[0mw\u001b[0m\u001b[0;34m*\u001b[0m\u001b[0md\u001b[0m\u001b[0;34m)\u001b[0m\u001b[0;34m,\u001b[0m \u001b[0;36m3\u001b[0m\u001b[0;34m)\u001b[0m\u001b[0;34m)\u001b[0m\u001b[0;34m\u001b[0m\u001b[0;34m\u001b[0m\u001b[0m\n\u001b[0;32m---> 10\u001b[0;31m \u001b[0mprostate_voxel\u001b[0m \u001b[0;34m=\u001b[0m \u001b[0mprostate_voxel\u001b[0m\u001b[0;34m.\u001b[0m\u001b[0mravel\u001b[0m\u001b[0;34m(\u001b[0m\u001b[0;34m)\u001b[0m\u001b[0;34m\u001b[0m\u001b[0;34m\u001b[0m\u001b[0m\n\u001b[0m\u001b[1;32m     11\u001b[0m \u001b[0mplaceholder\u001b[0m\u001b[0;34m[\u001b[0m\u001b[0;36m0\u001b[0m\u001b[0;34m]\u001b[0m \u001b[0;34m=\u001b[0m \u001b[0madd_rgb_dimention\u001b[0m\u001b[0;34m(\u001b[0m\u001b[0mprostate_voxel\u001b[0m\u001b[0;34m,\u001b[0m \u001b[0mcolor\u001b[0m\u001b[0;34m=\u001b[0m\u001b[0;34m\"Oranges\"\u001b[0m\u001b[0;34m)\u001b[0m\u001b[0;34m\u001b[0m\u001b[0;34m\u001b[0m\u001b[0m\n\u001b[1;32m     12\u001b[0m \u001b[0;34m\u001b[0m\u001b[0m\n",
      "\u001b[0;31mNameError\u001b[0m: name 'prostate_voxel' is not defined"
     ]
    }
   ],
   "source": [
    "# Add dimension to signify that prostate is target\n",
    "from matplotlib.pyplot import cm\n",
    "\n",
    "def add_rgb_dimention(array, color):\n",
    "    scaler_map = cm.ScalarMappable(cmap=color)\n",
    "    array = scaler_map.to_rgba(array)[:, : -1]\n",
    "    return array\n",
    "\n",
    "placeholder = np.ndarray((1, (h*w*d), 3))\n",
    "prostate_voxel = prostate_voxel.ravel()\n",
    "placeholder[0] = add_rgb_dimention(prostate_voxel, color=\"Oranges\")\n",
    "\n",
    "placeholder.shape\n",
    "\n",
    "placeholder.reshape(1,16,16,16,3)"
   ]
  },
  {
   "cell_type": "code",
   "execution_count": null,
   "metadata": {},
   "outputs": [],
   "source": [
    "placeholder.shape"
   ]
  },
  {
   "cell_type": "code",
   "execution_count": null,
   "metadata": {},
   "outputs": [],
   "source": [
    "# plot point cloud \n",
    "from mpl_toolkits.mplot3d import Axes3D\n",
    "import matplotlib.pyplot as plt\n",
    "import numpy as np\n",
    "\t\n",
    "def plot_ply(file):\n",
    "    fig = plt.figure()\n",
    "    ax = fig.add_subplot(111,projection='3d')\n",
    "    ax.set_ylim(-300,300)\n",
    "    ax.set_xlim(-300,300)\n",
    "    ax.set_zlim(-300,300)\n",
    "    x=file[:,0]\n",
    "    y=file[:,1]\n",
    "    z=file[:,2]\n",
    "    ax.scatter(x, y, z, marker='.', zdir='z')\n",
    "    ax.set_xlabel('X Label')\n",
    "    ax.set_ylabel('Y Label')\n",
    "    ax.set_zlabel('Z Label')\n",
    "    plt.show()"
   ]
  },
  {
   "cell_type": "code",
   "execution_count": null,
   "metadata": {},
   "outputs": [],
   "source": [
    "plot_ply(prostate)\n",
    "print(prostate)\n",
    "print('Cloud shape:', prostate.shape)"
   ]
  },
  {
   "cell_type": "code",
   "execution_count": null,
   "metadata": {},
   "outputs": [],
   "source": [
    "combined = np.concatenate((prostate,bladder,feml,femr,rectum))\n",
    "plot_ply(combined)\n",
    "print(combined)\n",
    "print('Cloud shape:', combined.shape)"
   ]
  },
  {
   "cell_type": "code",
   "execution_count": null,
   "metadata": {},
   "outputs": [],
   "source": [
    "from matplotlib.pyplot import cm\n",
    "\n",
    "def add_rgb_dimention(array, color):\n",
    "    scaler_map = cm.ScalarMappable(cmap=color)\n",
    "    array = scaler_map.to_rgba(array)[:, : -1]\n",
    "    return array\n"
   ]
  },
  {
   "cell_type": "code",
   "execution_count": null,
   "metadata": {},
   "outputs": [],
   "source": [
    "combined.shape"
   ]
  },
  {
   "cell_type": "code",
   "execution_count": null,
   "metadata": {},
   "outputs": [],
   "source": []
  },
  {
   "cell_type": "code",
   "execution_count": null,
   "metadata": {},
   "outputs": [],
   "source": [
    "\"\"\"\n",
    "VoxelGrid Class\n",
    "\"\"\"\n",
    "import numpy as np\n",
    "from matplotlib import pyplot as plt\n",
    "#from ..plot import plot_voxelgrid\n",
    "\n",
    "class VoxelGrid(object):\n",
    "    def __init__(self, points, x_y_z=[1, 1, 1], bb_cuboid=True, build=True):\n",
    "        \"\"\"\n",
    "        Parameters\n",
    "        ----------         \n",
    "        points: (N,3) ndarray\n",
    "                The point cloud from which we want to construct the VoxelGrid.\n",
    "                Where N is the number of points in the point cloud and the second\n",
    "                dimension represents the x, y and z coordinates of each point.\n",
    "        \n",
    "        x_y_z:  list\n",
    "                The segments in which each axis will be divided.\n",
    "                x_y_z[0]: x axis \n",
    "                x_y_z[1]: y axis \n",
    "                x_y_z[2]: z axis\n",
    "\n",
    "        bb_cuboid(Optional): bool\n",
    "                If True(Default):   \n",
    "                    The bounding box of the point cloud will be adjusted\n",
    "                    in order to have all the dimensions of equal length.                \n",
    "                If False:\n",
    "                    The bounding box is allowed to have dimensions of different sizes.\n",
    "        \"\"\"\n",
    "        self.points = points\n",
    "        xyzmin = np.min(points, axis=0) - 0.001\n",
    "        xyzmax = np.max(points, axis=0) + 0.001\n",
    "\n",
    "        if bb_cuboid:\n",
    "            #: adjust to obtain a  minimum bounding box with all sides of equal length \n",
    "            diff = max(xyzmax-xyzmin) - (xyzmax-xyzmin)\n",
    "            xyzmin = xyzmin - diff / 2\n",
    "            xyzmax = xyzmax + diff / 2\n",
    "        \n",
    "        self.xyzmin = xyzmin\n",
    "        self.xyzmax = xyzmax\n",
    "        segments = []\n",
    "        shape = []\n",
    "\n",
    "        for i in range(3):\n",
    "            # note the +1 in num \n",
    "            if type(x_y_z[i]) is not int:\n",
    "                raise TypeError(\"x_y_z[{}] must be int\".format(i))\n",
    "            s, step = np.linspace(xyzmin[i], xyzmax[i], num=(x_y_z[i] + 1), retstep=True)\n",
    "            segments.append(s)\n",
    "            shape.append(step)\n",
    "        self.segments = segments\n",
    "        self.shape = shape\n",
    "        self.n_voxels = x_y_z[0] * x_y_z[1] * x_y_z[2]\n",
    "        self.n_x = x_y_z[0]\n",
    "        self.n_y = x_y_z[1]\n",
    "        self.n_z = x_y_z[2]\n",
    "        self.id = \"{},{},{}-{}\".format(x_y_z[0], x_y_z[1], x_y_z[2], bb_cuboid)\n",
    "        if build:\n",
    "            self.build()\n",
    "\n",
    "    def build(self):\n",
    "        structure = np.zeros((len(self.points), 4), dtype=int)\n",
    "        structure[:,0] = np.searchsorted(self.segments[0], self.points[:,0]) - 1\n",
    "        structure[:,1] = np.searchsorted(self.segments[1], self.points[:,1]) - 1\n",
    "        structure[:,2] = np.searchsorted(self.segments[2], self.points[:,2]) - 1\n",
    "        # i = ((y * n_x) + x) + (z * (n_x * n_y))\n",
    "        structure[:,3] = ((structure[:,1] * self.n_x) + structure[:,0]) + (structure[:,2] * (self.n_x * self.n_y))\n",
    "        self.structure = structure\n",
    "        vector = np.zeros(self.n_voxels)\n",
    "        count = np.bincount(self.structure[:,3])\n",
    "        vector[:len(count)] = count\n",
    "        self.vector = vector.reshape(self.n_z, self.n_y, self.n_x)\n",
    " \n",
    "    def plot(self, d=2, cmap=\"Oranges\", axis=False):\n",
    "        if d == 2:\n",
    "            fig, axes= plt.subplots(int(np.ceil(self.n_z / 4)), 4, figsize=(8,8))\n",
    "            plt.tight_layout()\n",
    "            \n",
    "            for i,ax in enumerate(axes.flat):\n",
    "                if i >= len(self.vector):\n",
    "                    break\n",
    "                im = ax.imshow(self.vector[i], cmap=cmap, interpolation=\"none\")\n",
    "                ax.set_title(\"Level \" + str(i))\n",
    "            \n",
    "            fig.subplots_adjust(right=0.8)\n",
    "            cbar_ax = fig.add_axes([0.85, 0.15, 0.05, 0.7])\n",
    "            cbar = fig.colorbar(im, cax=cbar_ax)\n",
    "            cbar.set_label('NUMBER OF POINTS IN VOXEL')\n",
    "            fig.savefig('subplottotal.png')\n",
    "        elif d == 3:\n",
    "            return plot_voxelgrid(self, cmap=cmap, axis=axis)\n"
   ]
  },
  {
   "cell_type": "code",
   "execution_count": null,
   "metadata": {},
   "outputs": [],
   "source": [
    "###################\n",
    "#specify dimensions\n",
    "h,w,d = 32,32,32\n",
    "###################\n",
    "voxel_grid = VoxelGrid(combined, x_y_z=[h,w,d])\n",
    "voxel_array = voxel_grid.vector\n",
    "voxel_grid.plot()\n",
    "\n",
    "import matplotlib.pyplot as plt\n",
    "\n",
    "# This import registers the 3D projection, but is otherwise unused.\n",
    "from mpl_toolkits.mplot3d import Axes3D  # noqa: F401 unused import\n",
    "\n",
    "# and plot everything\n",
    "fig = plt.figure()\n",
    "ax = fig.gca(projection='3d')\n",
    "#ax.set_xlim3d(0, 102)\n",
    "#ax.set_ylim3d(0, 85)\n",
    "#ax.set_zlim3d(0, 120)\n",
    "ax.voxels(voxel_array, edgecolor='k')\n",
    "plt.savefig('foo.png')\n",
    "plt.show()"
   ]
  },
  {
   "cell_type": "code",
   "execution_count": null,
   "metadata": {},
   "outputs": [],
   "source": [
    "voxel_array.shape"
   ]
  },
  {
   "cell_type": "code",
   "execution_count": 25,
   "metadata": {},
   "outputs": [],
   "source": [
    "import os\n",
    "import nibabel as nib\n"
   ]
  },
  {
   "cell_type": "code",
   "execution_count": 27,
   "metadata": {},
   "outputs": [
    {
     "ename": "NameError",
     "evalue": "name 'img' is not defined",
     "output_type": "error",
     "traceback": [
      "\u001b[0;31m---------------------------------------------------------------------------\u001b[0m",
      "\u001b[0;31mNameError\u001b[0m                                 Traceback (most recent call last)",
      "\u001b[0;32m<ipython-input-27-72aa8484ce16>\u001b[0m in \u001b[0;36m<module>\u001b[0;34m\u001b[0m\n\u001b[0;32m----> 1\u001b[0;31m \u001b[0maff\u001b[0m \u001b[0;34m=\u001b[0m \u001b[0mimg\u001b[0m\u001b[0;34m.\u001b[0m\u001b[0mget_affine\u001b[0m\u001b[0;34m(\u001b[0m\u001b[0;34m)\u001b[0m\u001b[0;34m\u001b[0m\u001b[0;34m\u001b[0m\u001b[0m\n\u001b[0m\u001b[1;32m      2\u001b[0m \u001b[0mreal_pt\u001b[0m \u001b[0;34m=\u001b[0m \u001b[0mnib\u001b[0m\u001b[0;34m.\u001b[0m\u001b[0maffines\u001b[0m\u001b[0;34m.\u001b[0m\u001b[0mapply_affine\u001b[0m\u001b[0;34m(\u001b[0m\u001b[0maff\u001b[0m\u001b[0;34m,\u001b[0m \u001b[0;34m[\u001b[0m\u001b[0;36m22\u001b[0m\u001b[0;34m,\u001b[0m \u001b[0;36m34\u001b[0m\u001b[0;34m,\u001b[0m \u001b[0;36m12\u001b[0m\u001b[0;34m]\u001b[0m\u001b[0;34m)\u001b[0m\u001b[0;34m\u001b[0m\u001b[0;34m\u001b[0m\u001b[0m\n\u001b[1;32m      3\u001b[0m \u001b[0mreal_pt\u001b[0m\u001b[0;34m\u001b[0m\u001b[0;34m\u001b[0m\u001b[0m\n",
      "\u001b[0;31mNameError\u001b[0m: name 'img' is not defined"
     ]
    }
   ],
   "source": [
    "aff = img.get_affine()\n",
    "real_pt = nib.affines.apply_affine(aff, [22, 34, 12])\n",
    "real_pt"
   ]
  },
  {
   "cell_type": "code",
   "execution_count": null,
   "metadata": {},
   "outputs": [],
   "source": []
  }
 ],
 "metadata": {
  "kernelspec": {
   "display_name": "Python 3",
   "language": "python",
   "name": "python3"
  },
  "language_info": {
   "codemirror_mode": {
    "name": "ipython",
    "version": 3
   },
   "file_extension": ".py",
   "mimetype": "text/x-python",
   "name": "python",
   "nbconvert_exporter": "python",
   "pygments_lexer": "ipython3",
   "version": "3.7.3"
  }
 },
 "nbformat": 4,
 "nbformat_minor": 2
}
