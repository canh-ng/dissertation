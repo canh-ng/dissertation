{
 "cells": [
  {
   "cell_type": "markdown",
   "metadata": {
    "colab_type": "text",
    "id": "tMSZgKjJXemK"
   },
   "source": [
    "# Model 3 - PointNet Basic with added 'l' column\n",
    "\n",
    "## Prediction of radiotherapy plan violation from spatial arrangement of target and organ at risk structures using deep learning\n",
    "\n",
    "_By Phillip Hungerford,  University of New South Wales_\n",
    "\n",
    "## PointNet Basic Model Testing"
   ]
  },
  {
   "cell_type": "code",
   "execution_count": 1,
   "metadata": {
    "colab": {
     "base_uri": "https://localhost:8080/",
     "height": 94
    },
    "colab_type": "code",
    "executionInfo": {
     "elapsed": 1825,
     "status": "ok",
     "timestamp": 1555806904598,
     "user": {
      "displayName": "Phillip Hungerford",
      "photoUrl": "https://lh3.googleusercontent.com/-nSVU3pfDKvc/AAAAAAAAAAI/AAAAAAAA7nM/C4RLaD0imSQ/s64/photo.jpg",
      "userId": "04339632095681498586"
     },
     "user_tz": -600
    },
    "id": "T--qZczHXjx_",
    "outputId": "d9304726-dcd3-4dd3-b628-17ce86dddbde"
   },
   "outputs": [
    {
     "name": "stdout",
     "output_type": "stream",
     "text": [
      "Drive already mounted at /content/drive; to attempt to forcibly remount, call drive.mount(\"/content/drive\", force_remount=True).\n"
     ]
    }
   ],
   "source": [
    "from google.colab import drive\n",
    "drive.mount('/content/drive')"
   ]
  },
  {
   "cell_type": "code",
   "execution_count": 2,
   "metadata": {
    "colab": {
     "base_uri": "https://localhost:8080/",
     "height": 34
    },
    "colab_type": "code",
    "executionInfo": {
     "elapsed": 2061,
     "status": "ok",
     "timestamp": 1555806904849,
     "user": {
      "displayName": "Phillip Hungerford",
      "photoUrl": "https://lh3.googleusercontent.com/-nSVU3pfDKvc/AAAAAAAAAAI/AAAAAAAA7nM/C4RLaD0imSQ/s64/photo.jpg",
      "userId": "04339632095681498586"
     },
     "user_tz": -600
    },
    "id": "3jVNahVSXl-V",
    "outputId": "fd77e0d1-6160-4e37-f3b3-e0486f126266"
   },
   "outputs": [
    {
     "name": "stdout",
     "output_type": "stream",
     "text": [
      "/content/drive\n"
     ]
    }
   ],
   "source": [
    "cd drive"
   ]
  },
  {
   "cell_type": "code",
   "execution_count": 3,
   "metadata": {
    "colab": {
     "base_uri": "https://localhost:8080/",
     "height": 34
    },
    "colab_type": "code",
    "executionInfo": {
     "elapsed": 2055,
     "status": "ok",
     "timestamp": 1555806904850,
     "user": {
      "displayName": "Phillip Hungerford",
      "photoUrl": "https://lh3.googleusercontent.com/-nSVU3pfDKvc/AAAAAAAAAAI/AAAAAAAA7nM/C4RLaD0imSQ/s64/photo.jpg",
      "userId": "04339632095681498586"
     },
     "user_tz": -600
    },
    "id": "IX80XsiwXnuB",
    "outputId": "df637206-6ff5-4693-daba-e24291578f15"
   },
   "outputs": [
    {
     "name": "stdout",
     "output_type": "stream",
     "text": [
      "/content/drive/My Drive\n"
     ]
    }
   ],
   "source": [
    "cd My Drive"
   ]
  },
  {
   "cell_type": "code",
   "execution_count": 4,
   "metadata": {
    "colab": {
     "base_uri": "https://localhost:8080/",
     "height": 34
    },
    "colab_type": "code",
    "executionInfo": {
     "elapsed": 2049,
     "status": "ok",
     "timestamp": 1555806904851,
     "user": {
      "displayName": "Phillip Hungerford",
      "photoUrl": "https://lh3.googleusercontent.com/-nSVU3pfDKvc/AAAAAAAAAAI/AAAAAAAA7nM/C4RLaD0imSQ/s64/photo.jpg",
      "userId": "04339632095681498586"
     },
     "user_tz": -600
    },
    "id": "ZizvZbgfXo44",
    "outputId": "4da1a687-2c3f-48ff-f11d-24fe2ae389d4"
   },
   "outputs": [
    {
     "name": "stdout",
     "output_type": "stream",
     "text": [
      "/content/drive/My Drive/Dissertation/5_Code/1_code\n"
     ]
    }
   ],
   "source": [
    "cd Dissertation/5_Code/1_code"
   ]
  },
  {
   "cell_type": "code",
   "execution_count": 5,
   "metadata": {
    "colab": {
     "base_uri": "https://localhost:8080/",
     "height": 165
    },
    "colab_type": "code",
    "executionInfo": {
     "elapsed": 5496,
     "status": "ok",
     "timestamp": 1555806908305,
     "user": {
      "displayName": "Phillip Hungerford",
      "photoUrl": "https://lh3.googleusercontent.com/-nSVU3pfDKvc/AAAAAAAAAAI/AAAAAAAA7nM/C4RLaD0imSQ/s64/photo.jpg",
      "userId": "04339632095681498586"
     },
     "user_tz": -600
    },
    "id": "_BemM3GiXqNv",
    "outputId": "9662778b-bdfc-4e71-bdb3-e3656658c927"
   },
   "outputs": [
    {
     "name": "stdout",
     "output_type": "stream",
     "text": [
      " DataPreparation.ipynb          Model5_ANN.ipynb\n",
      "'EDA&PreProcessing.ipynb'       my_model_16_16_16.h5\n",
      " keras-test.ipynb               original-voxel-model.ipynb\n",
      " Model1_PointNetFull.ipynb      PointNetBasic.ipynb\n",
      " Model2_PointNetBasic.ipynb     \u001b[0m\u001b[01;34mPy\u001b[0m/\n",
      " Model3_PointNetBasic_l.ipynb   \u001b[01;34m__pycache__\u001b[0m/\n",
      " Model4_3DCNN.ipynb             voxel-model.ipynb\n"
     ]
    }
   ],
   "source": [
    "ls"
   ]
  },
  {
   "cell_type": "markdown",
   "metadata": {
    "colab_type": "text",
    "id": "kgFfETwxSjSm"
   },
   "source": [
    "## 1. Set Seed for Reproducibility"
   ]
  },
  {
   "cell_type": "code",
   "execution_count": 6,
   "metadata": {
    "colab": {
     "base_uri": "https://localhost:8080/",
     "height": 34
    },
    "colab_type": "code",
    "executionInfo": {
     "elapsed": 7195,
     "status": "ok",
     "timestamp": 1555806910008,
     "user": {
      "displayName": "Phillip Hungerford",
      "photoUrl": "https://lh3.googleusercontent.com/-nSVU3pfDKvc/AAAAAAAAAAI/AAAAAAAA7nM/C4RLaD0imSQ/s64/photo.jpg",
      "userId": "04339632095681498586"
     },
     "user_tz": -600
    },
    "id": "tH8m6kNFSlnl",
    "outputId": "738c7d74-ccf5-4685-ab80-edd592ae0106"
   },
   "outputs": [
    {
     "name": "stderr",
     "output_type": "stream",
     "text": [
      "Using TensorFlow backend.\n"
     ]
    }
   ],
   "source": [
    "# Seed value\n",
    "# Apparently you may use different seed values at each stage\n",
    "seed_value= 0\n",
    "\n",
    "# 1. Set `PYTHONHASHSEED` environment variable at a fixed value\n",
    "import os\n",
    "os.environ['PYTHONHASHSEED']=str(seed_value)\n",
    "\n",
    "# 2. Set `python` built-in pseudo-random generator at a fixed value\n",
    "import random\n",
    "random.seed(seed_value)\n",
    "\n",
    "# 3. Set `numpy` pseudo-random generator at a fixed value\n",
    "import numpy as np\n",
    "np.random.seed(seed_value)\n",
    "\n",
    "# 4. Set `tensorflow` pseudo-random generator at a fixed value\n",
    "import tensorflow as tf\n",
    "tf.set_random_seed(seed_value)\n",
    "\n",
    "# 5. Configure a new global `tensorflow` session\n",
    "from keras import backend as K\n",
    "session_conf = tf.ConfigProto(intra_op_parallelism_threads=1, inter_op_parallelism_threads=1)\n",
    "sess = tf.Session(graph=tf.get_default_graph(), config=session_conf)\n",
    "K.set_session(sess)"
   ]
  },
  {
   "cell_type": "markdown",
   "metadata": {
    "colab_type": "text",
    "id": "znU6OBrKSnWL"
   },
   "source": [
    "## 2. Install dependencies"
   ]
  },
  {
   "cell_type": "code",
   "execution_count": 0,
   "metadata": {
    "colab": {},
    "colab_type": "code",
    "id": "3QiimTraXrte"
   },
   "outputs": [],
   "source": [
    "# Import dependencies\n",
    "import os\n",
    "import time\n",
    "import random\n",
    "import numpy as np\n",
    "import tensorflow as tf\n",
    "from numpy.random import seed\n",
    "import matplotlib.pyplot as plt\n",
    "from keras.optimizers import Adam\n",
    "from keras.models import Sequential\n",
    "from tensorflow import set_random_seed\n",
    "from mlxtend.plotting import plot_confusion_matrix\n",
    "from sklearn.model_selection import train_test_split\n",
    "from sklearn.metrics import roc_auc_score, roc_curve, classification_report, confusion_matrix, auc\n",
    "from keras.layers import Dense, MaxPooling1D, Convolution1D, Dropout, Flatten, BatchNormalization\n",
    "from keras.callbacks import ModelCheckpoint, TensorBoard, EarlyStopping"
   ]
  },
  {
   "cell_type": "markdown",
   "metadata": {
    "colab_type": "text",
    "id": "_vaVyRRYSq38"
   },
   "source": [
    "## 3. Load data"
   ]
  },
  {
   "cell_type": "code",
   "execution_count": 8,
   "metadata": {
    "colab": {
     "base_uri": "https://localhost:8080/",
     "height": 68
    },
    "colab_type": "code",
    "executionInfo": {
     "elapsed": 9040,
     "status": "ok",
     "timestamp": 1555806911859,
     "user": {
      "displayName": "Phillip Hungerford",
      "photoUrl": "https://lh3.googleusercontent.com/-nSVU3pfDKvc/AAAAAAAAAAI/AAAAAAAA7nM/C4RLaD0imSQ/s64/photo.jpg",
      "userId": "04339632095681498586"
     },
     "user_tz": -600
    },
    "id": "AtaSCueUXtDx",
    "outputId": "018a8a70-512b-4c6b-cf0c-2d77e6cb5cb0"
   },
   "outputs": [
    {
     "name": "stdout",
     "output_type": "stream",
     "text": [
      "Training shape is:  (182, 3140, 4)\n",
      "Validation shape is:  (46, 3140, 4)\n",
      "Test shape is:  (58, 3140, 4)\n"
     ]
    }
   ],
   "source": [
    "num_points=3140\n",
    "X = np.load('../2_pipeline/3140-xyzl.npy')\n",
    "y = np.load('../2_pipeline/labels.npy')\n",
    "\n",
    "#split data into 1: train+validation set and 2: test set \n",
    "X_train_val, X_test, y_train_val, y_test = \\\n",
    "train_test_split(X, y, random_state=0, test_size=0.2)\n",
    "\n",
    "# split train+validation set into 1a) training and 1b) validation sets\n",
    "X_train, X_val, y_train, y_val = \\\n",
    "train_test_split(X_train_val, y_train_val, random_state=1, test_size=0.2)\n",
    "\n",
    "#from keras.utils import to_categorical\n",
    "#y_test = to_categorical(y_test)\n",
    "#y_train = to_categorical(y_train)\n",
    "\n",
    "print('Training shape is: ', X_train.shape)\n",
    "print('Validation shape is: ', X_val.shape)\n",
    "print('Test shape is: ', X_test.shape)"
   ]
  },
  {
   "cell_type": "markdown",
   "metadata": {
    "colab_type": "text",
    "id": "ZPjpMBKCStBq"
   },
   "source": [
    "## 4. Build Model"
   ]
  },
  {
   "cell_type": "code",
   "execution_count": 9,
   "metadata": {
    "colab": {
     "base_uri": "https://localhost:8080/",
     "height": 128
    },
    "colab_type": "code",
    "executionInfo": {
     "elapsed": 9038,
     "status": "ok",
     "timestamp": 1555806911860,
     "user": {
      "displayName": "Phillip Hungerford",
      "photoUrl": "https://lh3.googleusercontent.com/-nSVU3pfDKvc/AAAAAAAAAAI/AAAAAAAA7nM/C4RLaD0imSQ/s64/photo.jpg",
      "userId": "04339632095681498586"
     },
     "user_tz": -600
    },
    "id": "TbiQQij7XvGG",
    "outputId": "02f962f1-44f7-4bda-8ea1-eee2729ead5e"
   },
   "outputs": [
    {
     "name": "stdout",
     "output_type": "stream",
     "text": [
      "WARNING:tensorflow:From /usr/local/lib/python3.6/dist-packages/tensorflow/python/framework/op_def_library.py:263: colocate_with (from tensorflow.python.framework.ops) is deprecated and will be removed in a future version.\n",
      "Instructions for updating:\n",
      "Colocations handled automatically by placer.\n"
     ]
    }
   ],
   "source": [
    "# hyperparameters\n",
    "# number of categories\n",
    "k = 1\n",
    "# define optimizer\n",
    "opt = Adam(lr=0.001, decay=0.7)\n",
    "max_epochs=25\n",
    "batch_size=32\n",
    "dropout_rate = 0.7\n",
    "\n",
    "# Class weights\n",
    "class_weight = {0: 0.2, 1: 0.8}"
   ]
  },
  {
   "cell_type": "code",
   "execution_count": 10,
   "metadata": {
    "colab": {
     "base_uri": "https://localhost:8080/",
     "height": 615
    },
    "colab_type": "code",
    "executionInfo": {
     "elapsed": 9273,
     "status": "ok",
     "timestamp": 1555806912100,
     "user": {
      "displayName": "Phillip Hungerford",
      "photoUrl": "https://lh3.googleusercontent.com/-nSVU3pfDKvc/AAAAAAAAAAI/AAAAAAAA7nM/C4RLaD0imSQ/s64/photo.jpg",
      "userId": "04339632095681498586"
     },
     "user_tz": -600
    },
    "id": "Hc_dlLs4aNnx",
    "outputId": "6cf110b7-1b0b-4583-86a8-da218b8f3b1b"
   },
   "outputs": [
    {
     "name": "stdout",
     "output_type": "stream",
     "text": [
      "WARNING:tensorflow:From /usr/local/lib/python3.6/dist-packages/keras/backend/tensorflow_backend.py:3445: calling dropout (from tensorflow.python.ops.nn_ops) with keep_prob is deprecated and will be removed in a future version.\n",
      "Instructions for updating:\n",
      "Please use `rate` instead of `keep_prob`. Rate should be set to `rate = 1 - keep_prob`.\n",
      "_________________________________________________________________\n",
      "Layer (type)                 Output Shape              Param #   \n",
      "=================================================================\n",
      "conv1d_1 (Conv1D)            (None, 3140, 64)          320       \n",
      "_________________________________________________________________\n",
      "conv1d_2 (Conv1D)            (None, 3140, 64)          4160      \n",
      "_________________________________________________________________\n",
      "conv1d_3 (Conv1D)            (None, 3140, 64)          4160      \n",
      "_________________________________________________________________\n",
      "conv1d_4 (Conv1D)            (None, 3140, 128)         8320      \n",
      "_________________________________________________________________\n",
      "conv1d_5 (Conv1D)            (None, 3140, 1024)        132096    \n",
      "_________________________________________________________________\n",
      "max_pooling1d_1 (MaxPooling1 (None, 1, 1024)           0         \n",
      "_________________________________________________________________\n",
      "dense_1 (Dense)              (None, 1, 512)            524800    \n",
      "_________________________________________________________________\n",
      "dropout_1 (Dropout)          (None, 1, 512)            0         \n",
      "_________________________________________________________________\n",
      "dense_2 (Dense)              (None, 1, 256)            131328    \n",
      "_________________________________________________________________\n",
      "dropout_2 (Dropout)          (None, 1, 256)            0         \n",
      "_________________________________________________________________\n",
      "dense_3 (Dense)              (None, 1, 1)              257       \n",
      "_________________________________________________________________\n",
      "flatten_1 (Flatten)          (None, 1)                 0         \n",
      "=================================================================\n",
      "Total params: 805,441\n",
      "Trainable params: 805,441\n",
      "Non-trainable params: 0\n",
      "_________________________________________________________________\n"
     ]
    }
   ],
   "source": [
    "################################################################################\n",
    "### POINTNET ARCHITECTURE\n",
    "################################################################################\n",
    "# Point functions (MLP implemented as conv1d)\n",
    "model = Sequential()\n",
    "model.add(Convolution1D(64, 1, input_shape=(num_points, 4), activation='relu'))\n",
    "model.add(Convolution1D(64, 1, activation='relu'))\n",
    "model.add(Convolution1D(64, 1, activation='relu'))\n",
    "model.add(Convolution1D(128, 1, activation='relu'))\n",
    "model.add(Convolution1D(1024, 1, activation='relu'))\n",
    "\n",
    "# Symmetric function: max pooling\n",
    "model.add(MaxPooling1D(pool_size=num_points))\n",
    "\n",
    "#fully connected\n",
    "model.add(Dense(512, activation='relu'))\n",
    "model.add(Dropout(rate=dropout_rate))\n",
    "model.add(Dense(256, activation='relu'))\n",
    "model.add(Dropout(rate=dropout_rate))\n",
    "model.add(Dense(1, activation='sigmoid'))\n",
    "model.add(Flatten())\n",
    "\n",
    " # MLP on global point cloud vector\n",
    "model.compile(loss='binary_crossentropy', optimizer=opt, metrics=['accuracy'])\n",
    "model.summary()"
   ]
  },
  {
   "cell_type": "markdown",
   "metadata": {
    "colab_type": "text",
    "id": "pc_KPq3RSu11"
   },
   "source": [
    "## 5. Train & Evaluate Model"
   ]
  },
  {
   "cell_type": "code",
   "execution_count": 11,
   "metadata": {
    "colab": {
     "base_uri": "https://localhost:8080/",
     "height": 1020
    },
    "colab_type": "code",
    "executionInfo": {
     "elapsed": 47328,
     "status": "ok",
     "timestamp": 1555806950162,
     "user": {
      "displayName": "Phillip Hungerford",
      "photoUrl": "https://lh3.googleusercontent.com/-nSVU3pfDKvc/AAAAAAAAAAI/AAAAAAAA7nM/C4RLaD0imSQ/s64/photo.jpg",
      "userId": "04339632095681498586"
     },
     "user_tz": -600
    },
    "id": "FYl7wys3aTsN",
    "outputId": "0ab4cc88-fa18-4ff7-a121-082428e0daf9"
   },
   "outputs": [
    {
     "name": "stdout",
     "output_type": "stream",
     "text": [
      "WARNING:tensorflow:From /usr/local/lib/python3.6/dist-packages/tensorflow/python/ops/math_ops.py:3066: to_int32 (from tensorflow.python.ops.math_ops) is deprecated and will be removed in a future version.\n",
      "Instructions for updating:\n",
      "Use tf.cast instead.\n",
      "Train on 182 samples, validate on 46 samples\n",
      "Epoch 1/25\n",
      "182/182 [==============================] - 5s 26ms/step - loss: 0.8803 - acc: 0.4780 - val_loss: 1.1140 - val_acc: 0.6739\n",
      "Epoch 2/25\n",
      "182/182 [==============================] - 1s 7ms/step - loss: 1.1527 - acc: 0.5604 - val_loss: 0.8891 - val_acc: 0.6304\n",
      "Epoch 3/25\n",
      "182/182 [==============================] - 1s 7ms/step - loss: 1.1794 - acc: 0.4835 - val_loss: 0.8580 - val_acc: 0.5217\n",
      "Epoch 4/25\n",
      "182/182 [==============================] - 1s 7ms/step - loss: 0.8219 - acc: 0.4945 - val_loss: 0.9067 - val_acc: 0.5217\n",
      "Epoch 5/25\n",
      "182/182 [==============================] - 1s 7ms/step - loss: 1.0150 - acc: 0.4396 - val_loss: 0.9113 - val_acc: 0.5217\n",
      "Epoch 6/25\n",
      "182/182 [==============================] - 1s 7ms/step - loss: 0.7971 - acc: 0.5549 - val_loss: 0.9150 - val_acc: 0.5217\n",
      "Epoch 7/25\n",
      "182/182 [==============================] - 1s 7ms/step - loss: 0.7973 - acc: 0.4945 - val_loss: 0.9051 - val_acc: 0.5217\n",
      "Epoch 8/25\n",
      "182/182 [==============================] - 1s 7ms/step - loss: 0.7311 - acc: 0.4615 - val_loss: 0.8933 - val_acc: 0.5217\n",
      "Epoch 9/25\n",
      "182/182 [==============================] - 1s 7ms/step - loss: 0.8543 - acc: 0.4451 - val_loss: 0.8888 - val_acc: 0.5217\n",
      "Epoch 10/25\n",
      "182/182 [==============================] - 1s 7ms/step - loss: 0.7701 - acc: 0.4725 - val_loss: 0.8791 - val_acc: 0.5217\n",
      "Epoch 11/25\n",
      "182/182 [==============================] - 1s 7ms/step - loss: 0.8040 - acc: 0.4780 - val_loss: 0.8810 - val_acc: 0.5217\n",
      "Epoch 12/25\n",
      "182/182 [==============================] - 1s 7ms/step - loss: 0.6098 - acc: 0.5330 - val_loss: 0.8808 - val_acc: 0.5217\n",
      "Epoch 13/25\n",
      "182/182 [==============================] - 1s 7ms/step - loss: 0.6834 - acc: 0.4725 - val_loss: 0.8733 - val_acc: 0.5217\n",
      "Epoch 14/25\n",
      "182/182 [==============================] - 1s 7ms/step - loss: 0.6367 - acc: 0.5055 - val_loss: 0.8658 - val_acc: 0.5217\n",
      "Epoch 15/25\n",
      "182/182 [==============================] - 1s 7ms/step - loss: 0.8564 - acc: 0.5220 - val_loss: 0.8718 - val_acc: 0.5217\n",
      "Epoch 16/25\n",
      "182/182 [==============================] - 1s 7ms/step - loss: 0.6840 - acc: 0.4835 - val_loss: 0.8726 - val_acc: 0.5217\n",
      "Epoch 17/25\n",
      "182/182 [==============================] - 1s 7ms/step - loss: 0.7050 - acc: 0.5000 - val_loss: 0.8664 - val_acc: 0.5217\n",
      "Epoch 18/25\n",
      "182/182 [==============================] - 1s 7ms/step - loss: 0.8500 - acc: 0.4396 - val_loss: 0.8634 - val_acc: 0.5217\n",
      "Epoch 19/25\n",
      "182/182 [==============================] - 1s 7ms/step - loss: 0.5915 - acc: 0.5330 - val_loss: 0.8662 - val_acc: 0.5217\n",
      "Epoch 20/25\n",
      "182/182 [==============================] - 1s 7ms/step - loss: 0.7135 - acc: 0.4780 - val_loss: 0.8692 - val_acc: 0.5217\n",
      "Epoch 21/25\n",
      "182/182 [==============================] - 1s 7ms/step - loss: 0.6285 - acc: 0.4670 - val_loss: 0.8709 - val_acc: 0.5217\n",
      "Epoch 22/25\n",
      "182/182 [==============================] - 1s 7ms/step - loss: 0.7874 - acc: 0.3956 - val_loss: 0.8714 - val_acc: 0.5217\n",
      "Epoch 23/25\n",
      "182/182 [==============================] - 1s 7ms/step - loss: 0.5997 - acc: 0.5165 - val_loss: 0.8697 - val_acc: 0.5217\n",
      "Epoch 24/25\n",
      "182/182 [==============================] - 1s 7ms/step - loss: 0.5980 - acc: 0.4560 - val_loss: 0.8691 - val_acc: 0.5217\n",
      "Epoch 25/25\n",
      "182/182 [==============================] - 1s 7ms/step - loss: 0.5718 - acc: 0.4835 - val_loss: 0.8667 - val_acc: 0.5217\n",
      "58/58 [==============================] - 0s 4ms/step\n",
      "Average loss of:  0.6537445290335293\n",
      "Average accuracy of:  0.6896551806351234\n"
     ]
    }
   ],
   "source": [
    "################################################################################\n",
    "# Fit the model\n",
    "history = model.fit(X_train, y_train, batch_size=batch_size, epochs=max_epochs,\\\n",
    "                    shuffle=True, verbose=1, validation_data=(X_val, y_val),\\\n",
    "                    class_weight=class_weight)\n",
    "\n",
    "# Evaluate Model\n",
    "scores = model.evaluate(X_test, y_test, verbose=1)\n",
    "print(\"Average loss of: \", scores[0])\n",
    "print(\"Average accuracy of: \", scores[1])"
   ]
  },
  {
   "cell_type": "code",
   "execution_count": 12,
   "metadata": {
    "colab": {
     "base_uri": "https://localhost:8080/",
     "height": 1298
    },
    "colab_type": "code",
    "executionInfo": {
     "elapsed": 48819,
     "status": "ok",
     "timestamp": 1555806951662,
     "user": {
      "displayName": "Phillip Hungerford",
      "photoUrl": "https://lh3.googleusercontent.com/-nSVU3pfDKvc/AAAAAAAAAAI/AAAAAAAA7nM/C4RLaD0imSQ/s64/photo.jpg",
      "userId": "04339632095681498586"
     },
     "user_tz": -600
    },
    "id": "pz_WO2UOaWiG",
    "outputId": "6bdfba51-4d40-403f-9cf2-bd306df57ac5"
   },
   "outputs": [
    {
     "name": "stdout",
     "output_type": "stream",
     "text": [
      "\n",
      "###################### Model Performance ############################\n",
      "\n",
      "Train: 0.599, Test: 0.690\n",
      "\n",
      "#####################################################################\n",
      "\n",
      "Our test confusion matrix yields: \n"
     ]
    },
    {
     "data": {
      "image/png": "[encoded data removed]",
      "text/plain": [
       "<Figure size 432x288 with 1 Axes>"
      ]
     },
     "metadata": {
      "tags": []
     },
     "output_type": "display_data"
    },
    {
     "name": "stdout",
     "output_type": "stream",
     "text": [
      "\n",
      "#####################################################################\n",
      "\n",
      "Classfication Report for test:\n",
      "               precision    recall  f1-score   support\n",
      "\n",
      "         0.0       0.82      0.64      0.72        36\n",
      "         1.0       0.57      0.77      0.65        22\n",
      "\n",
      "   micro avg       0.69      0.69      0.69        58\n",
      "   macro avg       0.69      0.71      0.69        58\n",
      "weighted avg       0.72      0.69      0.69        58\n",
      "\n",
      "\n",
      "#####################################################################\n",
      "\n",
      "The AUC is 0.7449494949494949\n"
     ]
    },
    {
     "data": {
      "image/png": "[encoded data removed]",
      "text/plain": [
       "<Figure size 432x288 with 1 Axes>"
      ]
     },
     "metadata": {
      "tags": []
     },
     "output_type": "display_data"
    },
    {
     "data": {
      "image/png": "[encoded data removed]",
      "text/plain": [
       "<Figure size 432x288 with 1 Axes>"
      ]
     },
     "metadata": {
      "tags": []
     },
     "output_type": "display_data"
    },
    {
     "name": "stdout",
     "output_type": "stream",
     "text": [
      "\n",
      "#####################################################################\n"
     ]
    }
   ],
   "source": [
    "print(\"\\n###################### Model Performance ############################\")\n",
    "# Make predictions \n",
    "y_pred = model.predict(X_test)\n",
    "\n",
    "# evaluate the model\n",
    "_, train_acc = model.evaluate(X_train, y_train, verbose=0)\n",
    "_, test_acc = model.evaluate(X_test, y_test, verbose=0)\n",
    "print('\\nTrain: %.3f, Test: %.3f' % (train_acc, test_acc))\n",
    "print(\"\\n#####################################################################\")\n",
    "\n",
    "# Create the confusion matrix\n",
    "ann_cm = confusion_matrix(y_true = y_test, y_pred = y_pred.round())\n",
    "print(\"\\nOur test confusion matrix yields: \")\n",
    "fig, ax = plot_confusion_matrix(conf_mat=ann_cm)\n",
    "plt.show()\n",
    "print(\"\\n#####################################################################\")\n",
    "\n",
    "#Classification report\n",
    "ann_report = classification_report(y_test, y_pred.round())\n",
    "print(\"\\nClassfication Report for test:\\n\", ann_report)\n",
    "print(\"\\n#####################################################################\")\n",
    "\n",
    "# Plot AUC\n",
    "from sklearn.metrics import roc_curve, auc\n",
    "fpr, tpr, thresholds = roc_curve(y_test, y_pred)\n",
    "auc = auc(fpr, tpr)\n",
    "\n",
    "print(\"\\nThe AUC is\", auc)\n",
    "# Create AUC plot\n",
    "plt.figure(1)\n",
    "plt.plot([0, 1], [0, 1], 'k--')\n",
    "plt.plot(fpr, tpr, label='Keras (area = {:.3f})'.format(auc))\n",
    "plt.xlabel('False positive rate')\n",
    "plt.ylabel('True positive rate')\n",
    "plt.title('ROC curve')\n",
    "plt.legend(loc='best')\n",
    "plt.show()\n",
    "# Zoom in view of the upper left corner.\n",
    "plt.figure(2)\n",
    "plt.xlim(0, 0.2)\n",
    "plt.ylim(0.8, 1)\n",
    "plt.plot([0, 1], [0, 1], 'k--')\n",
    "plt.plot(fpr, tpr, label='Keras (area = {:.3f})'.format(auc))\n",
    "plt.xlabel('False positive rate')\n",
    "plt.ylabel('True positive rate')\n",
    "plt.title('ROC curve (zoomed in at top left)')\n",
    "plt.legend(loc='best')\n",
    "plt.show()\n",
    "print(\"\\n#####################################################################\")"
   ]
  },
  {
   "cell_type": "code",
   "execution_count": 0,
   "metadata": {
    "colab": {},
    "colab_type": "code",
    "id": "pCcYMfQNaZTl"
   },
   "outputs": [],
   "source": [
    "################################################################################\n",
    "# Save model\n",
    "#import pickle\n",
    "\n",
    "# Save history\n",
    "#with open('/trainHistoryDict', 'wb') as file_pi:\n",
    "        #pickle.dump(history.history, file_pi)\n",
    "\n",
    "# Save model\n",
    "#from keras.models import load_model\n",
    "#model.save('my_model'+str(num_points)+'4D.h5')  # creates a HDF5 file 'my_model.h5'\n",
    "#del model  # deletes the existing model\n",
    "\n",
    "################################################################################"
   ]
  }
 ],
 "metadata": {
  "accelerator": "GPU",
  "colab": {
   "collapsed_sections": [],
   "name": "Model3_PointNetBasic_l.ipynb",
   "provenance": [],
   "version": "0.3.2"
  },
  "kernelspec": {
   "display_name": "Python 3",
   "language": "python",
   "name": "python3"
  },
  "language_info": {
   "codemirror_mode": {
    "name": "ipython",
    "version": 3
   },
   "file_extension": ".py",
   "mimetype": "text/x-python",
   "name": "python",
   "nbconvert_exporter": "python",
   "pygments_lexer": "ipython3",
   "version": "3.7.3"
  }
 },
 "nbformat": 4,
 "nbformat_minor": 1
}
