{
  "nbformat": 4,
  "nbformat_minor": 0,
  "metadata": {
    "colab": {
      "name": "OrganClassifier.ipynb",
      "version": "0.3.2",
      "provenance": [],
      "collapsed_sections": [],
      "include_colab_link": true
    },
    "kernelspec": {
      "name": "python3",
      "display_name": "Python 3"
    },
    "accelerator": "GPU"
  },
  "cells": [
    {
      "cell_type": "markdown",
      "metadata": {
        "id": "view-in-github",
        "colab_type": "text"
      },
      "source": [
        "<a href=\"https://colab.research.google.com/github/philastotle/dissertation-pointnet/blob/master/OrganClassifier.ipynb\" target=\"_parent\"><img src=\"https://colab.research.google.com/assets/colab-badge.svg\" alt=\"Open In Colab\"/></a>"
      ]
    },
    {
      "metadata": {
        "id": "qGRetAr9cUvE",
        "colab_type": "code",
        "colab": {}
      },
      "cell_type": "code",
      "source": [
        ""
      ],
      "execution_count": 0,
      "outputs": []
    },
    {
      "metadata": {
        "id": "2xXTPhZrchZV",
        "colab_type": "text"
      },
      "cell_type": "markdown",
      "source": [
        "## Organ Classifier"
      ]
    },
    {
      "metadata": {
        "id": "L9fhiOeRcjYK",
        "colab_type": "code",
        "colab": {
          "base_uri": "https://localhost:8080/",
          "height": 189
        },
        "outputId": "35b7d4f5-79ff-434b-bd94-4ba963769139"
      },
      "cell_type": "code",
      "source": [
        "from google.colab import drive\n",
        "drive.mount('/content/drive')"
      ],
      "execution_count": 4,
      "outputs": [
        {
          "output_type": "stream",
          "text": [
            "Go to this URL in a browser: https://accounts.google.com/o/oauth2/auth?client_id=947318989803-6bn6qk8qdgf4n4g3pfee6491hc0brc4i.apps.googleusercontent.com&redirect_uri=urn%3Aietf%3Awg%3Aoauth%3A2.0%3Aoob&scope=email%20https%3A%2F%2Fwww.googleapis.com%2Fauth%2Fdocs.test%20https%3A%2F%2Fwww.googleapis.com%2Fauth%2Fdrive%20https%3A%2F%2Fwww.googleapis.com%2Fauth%2Fdrive.photos.readonly%20https%3A%2F%2Fwww.googleapis.com%2Fauth%2Fpeopleapi.readonly&response_type=code\n",
            "\n",
            "Enter your authorization code:\n",
            "··········\n",
            "Mounted at /content/drive\n"
          ],
          "name": "stdout"
        }
      ]
    },
    {
      "metadata": {
        "id": "PerR0XkJclOO",
        "colab_type": "code",
        "colab": {
          "base_uri": "https://localhost:8080/",
          "height": 34
        },
        "outputId": "e085321c-334c-4dcf-8a03-388872b3ae30"
      },
      "cell_type": "code",
      "source": [
        "cd drive"
      ],
      "execution_count": 5,
      "outputs": [
        {
          "output_type": "stream",
          "text": [
            "/content/drive\n"
          ],
          "name": "stdout"
        }
      ]
    },
    {
      "metadata": {
        "id": "-uaIsvFMcnQ_",
        "colab_type": "code",
        "colab": {
          "base_uri": "https://localhost:8080/",
          "height": 34
        },
        "outputId": "92c45b1e-1e23-4528-fa9d-9e40ba356391"
      },
      "cell_type": "code",
      "source": [
        "cd My Drive"
      ],
      "execution_count": 6,
      "outputs": [
        {
          "output_type": "stream",
          "text": [
            "/content/drive/My Drive\n"
          ],
          "name": "stdout"
        }
      ]
    },
    {
      "metadata": {
        "id": "qpxvWf8ecoYS",
        "colab_type": "code",
        "colab": {
          "base_uri": "https://localhost:8080/",
          "height": 34
        },
        "outputId": "a7bb19b2-f6e9-4572-ffcc-a4654cf75b76"
      },
      "cell_type": "code",
      "source": [
        "cd Dissertation/5_Code/1_code"
      ],
      "execution_count": 7,
      "outputs": [
        {
          "output_type": "stream",
          "text": [
            "/content/drive/My Drive/Dissertation/5_Code/1_code\n"
          ],
          "name": "stdout"
        }
      ]
    },
    {
      "metadata": {
        "id": "YLT9ifEgcp9q",
        "colab_type": "code",
        "colab": {
          "base_uri": "https://localhost:8080/",
          "height": 182
        },
        "outputId": "79934d79-8565-4b74-92b4-72b1ea6c60e9"
      },
      "cell_type": "code",
      "source": [
        "ls"
      ],
      "execution_count": 8,
      "outputs": [
        {
          "output_type": "stream",
          "text": [
            " DataPreparation.ipynb          my_model_16_16_16.h5\n",
            "'EDA&PreProcessing.ipynb'       OrganClassifier.ipynb\n",
            " keras-test.ipynb               original-voxel-model.ipynb\n",
            " Model1_PointNetFull.ipynb      PointNetBasic.ipynb\n",
            " Model2_PointNetBasic.ipynb     \u001b[0m\u001b[01;34mPy\u001b[0m/\n",
            " Model3_PointNetBasic_l.ipynb   \u001b[01;34m__pycache__\u001b[0m/\n",
            " Model4_3DCNN.ipynb             voxel-model.ipynb\n",
            " Model5_ANN.ipynb\n"
          ],
          "name": "stdout"
        }
      ]
    },
    {
      "metadata": {
        "id": "Wh4TA-UNc6W6",
        "colab_type": "text"
      },
      "cell_type": "markdown",
      "source": [
        "## Install dependencies"
      ]
    },
    {
      "metadata": {
        "id": "Ftp5nycfc8Ij",
        "colab_type": "code",
        "colab": {
          "base_uri": "https://localhost:8080/",
          "height": 823
        },
        "outputId": "886bda08-8339-4ddb-9742-382d1f140051"
      },
      "cell_type": "code",
      "source": [
        "# For Google Colab\n",
        "!pip install open3d-python\n",
        "\n",
        "# for reading the ply files \n",
        "from open3d import *\n",
        "import numpy as np\n",
        "\n",
        "# for 3D visualisation\n",
        "import plotly.graph_objs as go\n",
        "from plotly.offline import iplot, init_notebook_mode\n",
        "\n",
        "# To time \n",
        "import time\n",
        "\n",
        "# For reading the labels\n",
        "import pandas as pd"
      ],
      "execution_count": 9,
      "outputs": [
        {
          "output_type": "stream",
          "text": [
            "Collecting open3d-python\n",
            "\u001b[?25l  Downloading https://files.pythonhosted.org/packages/62/24/e58e19ea4dc63cb92cbe5877cc738cc203e54e056ec81f2af6b55e3a770a/open3d_python-0.6.0.0-cp36-cp36m-manylinux1_x86_64.whl (3.3MB)\n",
            "\u001b[K    100% |████████████████████████████████| 3.3MB 13.1MB/s \n",
            "\u001b[?25hRequirement already satisfied: numpy in /usr/local/lib/python3.6/dist-packages (from open3d-python) (1.16.2)\n",
            "Requirement already satisfied: ipywidgets in /usr/local/lib/python3.6/dist-packages (from open3d-python) (7.4.2)\n",
            "Requirement already satisfied: notebook in /usr/local/lib/python3.6/dist-packages (from open3d-python) (5.2.2)\n",
            "Requirement already satisfied: widgetsnbextension in /usr/local/lib/python3.6/dist-packages (from open3d-python) (3.4.2)\n",
            "Requirement already satisfied: traitlets>=4.3.1 in /usr/local/lib/python3.6/dist-packages (from ipywidgets->open3d-python) (4.3.2)\n",
            "Requirement already satisfied: nbformat>=4.2.0 in /usr/local/lib/python3.6/dist-packages (from ipywidgets->open3d-python) (4.4.0)\n",
            "Requirement already satisfied: ipykernel>=4.5.1 in /usr/local/lib/python3.6/dist-packages (from ipywidgets->open3d-python) (4.6.1)\n",
            "Requirement already satisfied: ipython>=4.0.0; python_version >= \"3.3\" in /usr/local/lib/python3.6/dist-packages (from ipywidgets->open3d-python) (5.5.0)\n",
            "Requirement already satisfied: jupyter-client in /usr/local/lib/python3.6/dist-packages (from notebook->open3d-python) (5.2.4)\n",
            "Requirement already satisfied: jinja2 in /usr/local/lib/python3.6/dist-packages (from notebook->open3d-python) (2.10.1)\n",
            "Requirement already satisfied: nbconvert in /usr/local/lib/python3.6/dist-packages (from notebook->open3d-python) (5.4.1)\n",
            "Requirement already satisfied: tornado>=4 in /usr/local/lib/python3.6/dist-packages (from notebook->open3d-python) (4.5.3)\n",
            "Requirement already satisfied: ipython-genutils in /usr/local/lib/python3.6/dist-packages (from notebook->open3d-python) (0.2.0)\n",
            "Requirement already satisfied: terminado>=0.3.3; sys_platform != \"win32\" in /usr/local/lib/python3.6/dist-packages (from notebook->open3d-python) (0.8.2)\n",
            "Requirement already satisfied: jupyter-core in /usr/local/lib/python3.6/dist-packages (from notebook->open3d-python) (4.4.0)\n",
            "Requirement already satisfied: decorator in /usr/local/lib/python3.6/dist-packages (from traitlets>=4.3.1->ipywidgets->open3d-python) (4.4.0)\n",
            "Requirement already satisfied: six in /usr/local/lib/python3.6/dist-packages (from traitlets>=4.3.1->ipywidgets->open3d-python) (1.11.0)\n",
            "Requirement already satisfied: jsonschema!=2.5.0,>=2.4 in /usr/local/lib/python3.6/dist-packages (from nbformat>=4.2.0->ipywidgets->open3d-python) (2.6.0)\n",
            "Requirement already satisfied: setuptools>=18.5 in /usr/local/lib/python3.6/dist-packages (from ipython>=4.0.0; python_version >= \"3.3\"->ipywidgets->open3d-python) (40.9.0)\n",
            "Requirement already satisfied: pygments in /usr/local/lib/python3.6/dist-packages (from ipython>=4.0.0; python_version >= \"3.3\"->ipywidgets->open3d-python) (2.1.3)\n",
            "Requirement already satisfied: simplegeneric>0.8 in /usr/local/lib/python3.6/dist-packages (from ipython>=4.0.0; python_version >= \"3.3\"->ipywidgets->open3d-python) (0.8.1)\n",
            "Requirement already satisfied: prompt-toolkit<2.0.0,>=1.0.4 in /usr/local/lib/python3.6/dist-packages (from ipython>=4.0.0; python_version >= \"3.3\"->ipywidgets->open3d-python) (1.0.16)\n",
            "Requirement already satisfied: pexpect; sys_platform != \"win32\" in /usr/local/lib/python3.6/dist-packages (from ipython>=4.0.0; python_version >= \"3.3\"->ipywidgets->open3d-python) (4.7.0)\n",
            "Requirement already satisfied: pickleshare in /usr/local/lib/python3.6/dist-packages (from ipython>=4.0.0; python_version >= \"3.3\"->ipywidgets->open3d-python) (0.7.5)\n",
            "Requirement already satisfied: python-dateutil>=2.1 in /usr/local/lib/python3.6/dist-packages (from jupyter-client->notebook->open3d-python) (2.5.3)\n",
            "Requirement already satisfied: pyzmq>=13 in /usr/local/lib/python3.6/dist-packages (from jupyter-client->notebook->open3d-python) (17.0.0)\n",
            "Requirement already satisfied: MarkupSafe>=0.23 in /usr/local/lib/python3.6/dist-packages (from jinja2->notebook->open3d-python) (1.1.1)\n",
            "Requirement already satisfied: entrypoints>=0.2.2 in /usr/local/lib/python3.6/dist-packages (from nbconvert->notebook->open3d-python) (0.3)\n",
            "Requirement already satisfied: pandocfilters>=1.4.1 in /usr/local/lib/python3.6/dist-packages (from nbconvert->notebook->open3d-python) (1.4.2)\n",
            "Requirement already satisfied: mistune>=0.8.1 in /usr/local/lib/python3.6/dist-packages (from nbconvert->notebook->open3d-python) (0.8.4)\n",
            "Requirement already satisfied: defusedxml in /usr/local/lib/python3.6/dist-packages (from nbconvert->notebook->open3d-python) (0.5.0)\n",
            "Requirement already satisfied: bleach in /usr/local/lib/python3.6/dist-packages (from nbconvert->notebook->open3d-python) (3.1.0)\n",
            "Requirement already satisfied: testpath in /usr/local/lib/python3.6/dist-packages (from nbconvert->notebook->open3d-python) (0.4.2)\n",
            "Requirement already satisfied: ptyprocess; os_name != \"nt\" in /usr/local/lib/python3.6/dist-packages (from terminado>=0.3.3; sys_platform != \"win32\"->notebook->open3d-python) (0.6.0)\n",
            "Requirement already satisfied: wcwidth in /usr/local/lib/python3.6/dist-packages (from prompt-toolkit<2.0.0,>=1.0.4->ipython>=4.0.0; python_version >= \"3.3\"->ipywidgets->open3d-python) (0.1.7)\n",
            "Requirement already satisfied: webencodings in /usr/local/lib/python3.6/dist-packages (from bleach->nbconvert->notebook->open3d-python) (0.5.1)\n",
            "Installing collected packages: open3d-python\n",
            "Successfully installed open3d-python-0.6.0.0\n"
          ],
          "name": "stdout"
        }
      ]
    },
    {
      "metadata": {
        "id": "y_gK5CvWdzbL",
        "colab_type": "code",
        "colab": {}
      },
      "cell_type": "code",
      "source": [
        "# Model 1 & 2 - 3140 data with each organ downsampled by points (628 points per organ)\n",
        "\n",
        "import numpy as np\n",
        "\n",
        "# farthest point calculation\n",
        "def calc_distances(p0, points):\n",
        "    return ((p0 - points)**2).sum(axis=1)\n",
        "\n",
        "def downsample(pts, K):\n",
        "    farthest_pts = np.zeros((K, 3))\n",
        "    farthest_pts[0] = pts[np.random.randint(len(pts))]\n",
        "    distances = calc_distances(farthest_pts[0], pts)\n",
        "    for i in range(1, K):\n",
        "        farthest_pts[i] = pts[np.argmax(distances)]\n",
        "        distances = np.minimum(distances, calc_distances(farthest_pts[i], pts))\n",
        "    return farthest_pts\n",
        "\n",
        "# Re-download model that enters another column that specifies if point is PTVHD\n",
        "def organ_reader(folder, name, points_per_sample, number_of_organs):\n",
        "    \"\"\"\n",
        "    This will read the file directory, list all files, find the patient numbers\n",
        "    Then for a given patient, load all of their files and merge them into an array\n",
        "    \"\"\"\n",
        "    # dependencies\n",
        "    import glob\n",
        "    import os\n",
        "    from open3d import read_point_cloud\n",
        "    import numpy as np\n",
        "    import re\n",
        "    os.chdir('../1_code')\n",
        "    os.chdir('../0_data/' + folder)\n",
        "    # This will read the file directory, list all files, find the patient numbers\n",
        "    # Then for a given patient, load all of their files and merge them into an array\n",
        "    # File directory is current\n",
        "    path = '.'\n",
        "    files = os.listdir(path)  # lists all files in the current directory\n",
        "    pt_num = []\n",
        "    for file in files:\n",
        "        regex = re.compile(r'\\d+')\n",
        "        # for each file extract the number which corresponds to a patient\n",
        "        for x in regex.findall(file):\n",
        "            number = int(x)\n",
        "            pt_num.append(number)\n",
        "    # turn that list into a set such that each item in the list is now a patient\n",
        "    pt_nums = set(pt_num)\n",
        "    pt_nums = [i for i in pt_nums]\n",
        "    \n",
        "    prostates = np.ndarray(shape=(len(pt_nums), int(points_per_sample/number_of_organs), 4))\n",
        "    bladders = np.ndarray(shape=(len(pt_nums), int(points_per_sample/number_of_organs), 4))\n",
        "    femls = np.ndarray(shape=(len(pt_nums), int(points_per_sample/number_of_organs), 4))\n",
        "    femrs = np.ndarray(shape=(len(pt_nums), int(points_per_sample/number_of_organs), 4))\n",
        "    rectums = np.ndarray(shape=(len(pt_nums), int(points_per_sample/number_of_organs), 4))\n",
        "    bodies = np.ndarray(shape=(len(pt_nums), int(points_per_sample/number_of_organs), 4))\n",
        "        \n",
        "    \n",
        "    ############################################################################\n",
        "    \n",
        "    for count, patient in enumerate(pt_nums):\n",
        "        \n",
        "        print('Importing patient ', patient)\n",
        "        # Read ply files to point cloud format\n",
        "        prostate = read_point_cloud('Mesh_PtNum-' + str(patient) + '-PTVHD.ply')\n",
        "        bladder = read_point_cloud('Mesh_PtNum-' + str(patient) + '-Bladder.ply')\n",
        "        feml = read_point_cloud('Mesh_PtNum-' + str(patient) + '-FemoralHeadL.ply')\n",
        "        femr = read_point_cloud('Mesh_PtNum-' + str(patient) + '-FemoralHeadR.ply')\n",
        "        rectum = read_point_cloud('Mesh_PtNum-' + str(patient) + '-Rectum.ply')\n",
        "        body = read_point_cloud('Mesh_PtNum-' + str(patient) + '-BODY.ply')\n",
        "\n",
        "        # Convert point cloud format to cartesian coordinates\n",
        "        prostate = np.asarray(prostate.points)\n",
        "        bladder = np.asarray(bladder.points)\n",
        "        feml = np.asarray(feml.points)\n",
        "        femr = np.asarray(femr.points)\n",
        "        rectum = np.asarray(rectum.points)\n",
        "        body = np.asarray(body.points)\n",
        "        \n",
        "        # downsample point cloud\n",
        "        prostate = downsample(prostate, int(points_per_sample/number_of_organs))\n",
        "        bladder = downsample(bladder, int(points_per_sample/number_of_organs))\n",
        "        feml = downsample(feml, int(points_per_sample/number_of_organs))\n",
        "        femr = downsample(femr, int(points_per_sample/number_of_organs))\n",
        "        rectum = downsample(rectum, int(points_per_sample/number_of_organs))\n",
        "        body = downsample(body, int(points_per_sample/number_of_organs))\n",
        "        \n",
        "        # Add dimension to signify that prostate is target\n",
        "        prostate=np.insert(prostate, 3, 0, axis=1)\n",
        "        bladder=np.insert(bladder, 3, 1, axis=1)\n",
        "        feml=np.insert(feml, 3, 2, axis=1)\n",
        "        femr=np.insert(femr, 3, 3, axis=1)\n",
        "        rectum=np.insert(rectum, 3, 4, axis=1)\n",
        "        body=np.insert(body, 3, 5, axis=1)\n",
        "        \n",
        "        prostates[count] = prostate\n",
        "        bladders[count] = bladder\n",
        "        prostates[count] = prostate\n",
        "        femls[count] = feml\n",
        "        femrs[count] = femr\n",
        "        rectums[count] = rectum\n",
        "        bodies[count] = body\n",
        "\n",
        "    # Combine them \n",
        "    dataset = np.concatenate((prostates,bladders,femls,femrs,rectums, bodies))\n",
        "        # combined will have shape = (p, 4) where 4 is x,y,z,l\n",
        "    print(\"Saving...\")\n",
        "    np.save('../../2_pipeline/' + name + '.npy', dataset)\n",
        "    \n",
        "    os.chdir('../../1_code')\n",
        "    print(\"Done!\")\n",
        "    \n",
        "    return dataset"
      ],
      "execution_count": 0,
      "outputs": []
    },
    {
      "metadata": {
        "id": "QpywXpHknTV-",
        "colab_type": "code",
        "colab": {}
      },
      "cell_type": "code",
      "source": [
        "#dataset = organ_reader(folder='prostate-no-nodes', name='organ-classifier-dataset', points_per_sample=3768, number_of_organs=6)"
      ],
      "execution_count": 0,
      "outputs": []
    },
    {
      "metadata": {
        "id": "DIc47h8WpPkV",
        "colab_type": "text"
      },
      "cell_type": "markdown",
      "source": [
        "Shuffle data"
      ]
    },
    {
      "metadata": {
        "id": "Wp87h-oAsVQe",
        "colab_type": "code",
        "colab": {}
      },
      "cell_type": "code",
      "source": [
        "import os\n",
        "os.chdir('../../1_code')"
      ],
      "execution_count": 0,
      "outputs": []
    },
    {
      "metadata": {
        "id": "m_OXMca-pQ0M",
        "colab_type": "code",
        "colab": {
          "base_uri": "https://localhost:8080/",
          "height": 34
        },
        "outputId": "8c380ff3-e024-4eba-e6b4-4a5bb7d99f31"
      },
      "cell_type": "code",
      "source": [
        "dataset = np.load('../2_pipeline/organ-classifier-dataset.npy')\n",
        "X = dataset[:,:,0:3]\n",
        "X.shape"
      ],
      "execution_count": 84,
      "outputs": [
        {
          "output_type": "execute_result",
          "data": {
            "text/plain": [
              "(1716, 628, 3)"
            ]
          },
          "metadata": {
            "tags": []
          },
          "execution_count": 84
        }
      ]
    },
    {
      "metadata": {
        "id": "nKH5w6-40FTq",
        "colab_type": "code",
        "colab": {}
      },
      "cell_type": "code",
      "source": [
        "# Get labels\n",
        "y = dataset[:,:,-1]\n",
        "y = y[:,-1]"
      ],
      "execution_count": 0,
      "outputs": []
    },
    {
      "metadata": {
        "id": "zcjdzBMZ06Uk",
        "colab_type": "code",
        "colab": {
          "base_uri": "https://localhost:8080/",
          "height": 401
        },
        "outputId": "9f97165f-8f20-4446-bfbf-1e678334da31"
      },
      "cell_type": "code",
      "source": [
        "test = X[1711]\n",
        "\n",
        "print(\"Load a ply point cloud, print it, and render it\")\n",
        "pcd = read_point_cloud(\"../2_pipeline/combined.ply\")\n",
        "points = np.asarray(pcd.points)\n",
        "\n",
        "# plot point cloud \n",
        "from mpl_toolkits.mplot3d import Axes3D\n",
        "import matplotlib.pyplot as plt\n",
        "\t\n",
        "def plot_ply(file):\n",
        "  fig = plt.figure()\n",
        "  ax = fig.add_subplot(111,projection='3d')\n",
        "  ax.set_ylim(-300,300)\n",
        "  ax.set_xlim(-300,300)\n",
        "  ax.set_zlim(-300,300)\n",
        "  x=file[:,0]\n",
        "  y=file[:,1]\n",
        "  z=file[:,2]\n",
        "  ax.scatter(x, y, z, marker='.', zdir='z')\n",
        "  ax.set_xlabel('X Label')\n",
        "  ax.set_ylabel('Y Label')\n",
        "  ax.set_zlabel('Z Label')\n",
        "  plt.show()\n",
        "\n",
        "plot_ply(test)\n",
        "print(test)\n",
        "print('Cloud shape:', test.shape)"
      ],
      "execution_count": 98,
      "outputs": [
        {
          "output_type": "stream",
          "text": [
            "Load a ply point cloud, print it, and render it\n"
          ],
          "name": "stdout"
        },
        {
          "output_type": "display_data",
          "data": {
            "image/png": "[encoded data removed]",
            "text/plain": [
              "<Figure size 432x288 with 1 Axes>"
            ]
          },
          "metadata": {
            "tags": []
          }
        },
        {
          "output_type": "stream",
          "text": [
            "[[ 190.4297   141.7422    -6.     ]\n",
            " [-169.0275    54.24219  274.     ]\n",
            " [-187.5308   117.5234  -114.     ]\n",
            " ...\n",
            " [ 150.1953    23.77344  120.     ]\n",
            " [-123.6328   216.3516   196.     ]\n",
            " [-179.7449   150.3359   -74.     ]]\n",
            "Cloud shape: (628, 3)\n"
          ],
          "name": "stdout"
        }
      ]
    },
    {
      "metadata": {
        "id": "ze2nKHmLzo7-",
        "colab_type": "code",
        "colab": {}
      },
      "cell_type": "code",
      "source": [
        "#np.save('../2_pipeline/organ-classifier-X.npy', X)\n",
        "#np.save('../2_pipeline/organ-classifier-y.npy', y)"
      ],
      "execution_count": 0,
      "outputs": []
    },
    {
      "metadata": {
        "id": "BU8EA1kL3Kk9",
        "colab_type": "text"
      },
      "cell_type": "markdown",
      "source": [
        "Load data and check"
      ]
    },
    {
      "metadata": {
        "id": "Buu-KxgH3aY9",
        "colab_type": "text"
      },
      "cell_type": "markdown",
      "source": [
        "## 1. Set seed for reproducibility"
      ]
    },
    {
      "metadata": {
        "id": "l1-auBZy3VBt",
        "colab_type": "code",
        "colab": {
          "base_uri": "https://localhost:8080/",
          "height": 34
        },
        "outputId": "d255810f-a60e-4d93-e1e2-f09abf7d6fa0"
      },
      "cell_type": "code",
      "source": [
        "# Seed value\n",
        "# Apparently you may use different seed values at each stage\n",
        "seed_value= 0\n",
        "\n",
        "# 1. Set `PYTHONHASHSEED` environment variable at a fixed value\n",
        "import os\n",
        "os.environ['PYTHONHASHSEED']=str(seed_value)\n",
        "\n",
        "# 2. Set `python` built-in pseudo-random generator at a fixed value\n",
        "import random\n",
        "random.seed(seed_value)\n",
        "\n",
        "# 3. Set `numpy` pseudo-random generator at a fixed value\n",
        "import numpy as np\n",
        "np.random.seed(seed_value)\n",
        "\n",
        "# 4. Set `tensorflow` pseudo-random generator at a fixed value\n",
        "import tensorflow as tf\n",
        "tf.set_random_seed(seed_value)\n",
        "\n",
        "# 5. Configure a new global `tensorflow` session\n",
        "from keras import backend as K\n",
        "session_conf = tf.ConfigProto(intra_op_parallelism_threads=1, inter_op_parallelism_threads=1)\n",
        "sess = tf.Session(graph=tf.get_default_graph(), config=session_conf)\n",
        "K.set_session(sess)"
      ],
      "execution_count": 105,
      "outputs": [
        {
          "output_type": "stream",
          "text": [
            "Using TensorFlow backend.\n"
          ],
          "name": "stderr"
        }
      ]
    },
    {
      "metadata": {
        "id": "2prgotqe3fOs",
        "colab_type": "text"
      },
      "cell_type": "markdown",
      "source": [
        "## 2. Install dependencies"
      ]
    },
    {
      "metadata": {
        "id": "yEMs85w03hUf",
        "colab_type": "code",
        "colab": {}
      },
      "cell_type": "code",
      "source": [
        "# Import dependencies\n",
        "import os\n",
        "import time\n",
        "import random\n",
        "import numpy as np\n",
        "import tensorflow as tf\n",
        "from numpy.random import seed\n",
        "import matplotlib.pyplot as plt\n",
        "from keras.optimizers import Adam\n",
        "from keras.models import Sequential\n",
        "from tensorflow import set_random_seed\n",
        "from mlxtend.plotting import plot_confusion_matrix\n",
        "from sklearn.model_selection import train_test_split\n",
        "from sklearn.metrics import roc_auc_score, roc_curve, classification_report, auc, confusion_matrix\n",
        "from keras.layers import Dense, MaxPooling1D, Convolution1D, Dropout, Flatten, BatchNormalization\n",
        "from keras.callbacks import ModelCheckpoint, TensorBoard, EarlyStopping"
      ],
      "execution_count": 0,
      "outputs": []
    },
    {
      "metadata": {
        "id": "VItNBiQv3ioo",
        "colab_type": "text"
      },
      "cell_type": "markdown",
      "source": [
        "## 3. Load data"
      ]
    },
    {
      "metadata": {
        "id": "0UxcJ1p03lGd",
        "colab_type": "code",
        "colab": {
          "base_uri": "https://localhost:8080/",
          "height": 68
        },
        "outputId": "d681a47c-c9ca-4c65-c56a-7c3f609ed60f"
      },
      "cell_type": "code",
      "source": [
        "num_points=628\n",
        "X = np.load('../2_pipeline/organ-classifier-X.npy')\n",
        "y = np.load('../2_pipeline/organ-classifier-y.npy')\n",
        "\n",
        "#split data into 1: train+validation set and 2: test set \n",
        "X_train_val, X_test, y_train_val, y_test = \\\n",
        "train_test_split(X, y, random_state=0, test_size=0.2)\n",
        "\n",
        "# split train+validation set into 1a) training and 1b) validation sets\n",
        "X_train, X_val, y_train, y_val = \\\n",
        "train_test_split(X_train_val, y_train_val, random_state=1, test_size=0.2)\n",
        "\n",
        "from keras.utils import to_categorical\n",
        "y_train = to_categorical(y_train)\n",
        "y_val = to_categorical(y_val)\n",
        "y_test = to_categorical(y_test)\n",
        "\n",
        "print('Training shape is: ', X_train.shape)\n",
        "print('Validation shape is: ', X_val.shape)\n",
        "print('Test shape is: ', X_test.shape)"
      ],
      "execution_count": 113,
      "outputs": [
        {
          "output_type": "stream",
          "text": [
            "Training shape is:  (1097, 628, 3)\n",
            "Validation shape is:  (275, 628, 3)\n",
            "Test shape is:  (344, 628, 3)\n"
          ],
          "name": "stdout"
        }
      ]
    },
    {
      "metadata": {
        "id": "TkMYLFkG3rFd",
        "colab_type": "text"
      },
      "cell_type": "markdown",
      "source": [
        "## 4. Build Model"
      ]
    },
    {
      "metadata": {
        "id": "4V-weyrf3sTo",
        "colab_type": "code",
        "colab": {}
      },
      "cell_type": "code",
      "source": [
        "# hyperparameters\n",
        "\n",
        "# number of categories\n",
        "k = 6\n",
        "# define optimizer\n",
        "opt = Adam(lr=0.001, decay=0.7)\n",
        "max_epochs=25\n",
        "batch_size=32\n",
        "dropout_rate = 0.7"
      ],
      "execution_count": 0,
      "outputs": []
    },
    {
      "metadata": {
        "id": "30sYlAxI30Bn",
        "colab_type": "code",
        "colab": {
          "base_uri": "https://localhost:8080/",
          "height": 476
        },
        "outputId": "1f885946-9f37-479d-df1d-a56a4fa4abec"
      },
      "cell_type": "code",
      "source": [
        "################################################################################\n",
        "### POINTNET ARCHITECTURE\n",
        "################################################################################\n",
        "# Point functions (MLP implemented as conv1d)\n",
        "model = Sequential()\n",
        "model.add(Convolution1D(64, 1, input_shape=(num_points, 3), activation='relu'))\n",
        "model.add(Convolution1D(64, 1, activation='relu'))\n",
        "model.add(Convolution1D(64, 1, activation='relu'))\n",
        "model.add(Convolution1D(128, 1, activation='relu'))\n",
        "model.add(Convolution1D(num_points, 1, activation='relu'))\n",
        "\n",
        "# Symmetric function: max pooling\n",
        "model.add(MaxPooling1D(pool_size=num_points))\n",
        "\n",
        "#fully connected\n",
        "model.add(Dense(512, activation='relu'))\n",
        "model.add(Dropout(rate=dropout_rate))\n",
        "model.add(Dense(256, activation='relu'))\n",
        "model.add(Dropout(rate=dropout_rate))\n",
        "model.add(Dense(k, activation='sigmoid'))\n",
        "model.add(Flatten())\n",
        "\n",
        " # MLP on global point cloud vector\n",
        "model.compile(loss='categorical_crossentropy', optimizer=opt, metrics=['accuracy'])\n",
        "model.summary()"
      ],
      "execution_count": 146,
      "outputs": [
        {
          "output_type": "stream",
          "text": [
            "_________________________________________________________________\n",
            "Layer (type)                 Output Shape              Param #   \n",
            "=================================================================\n",
            "conv1d_71 (Conv1D)           (None, 628, 64)           256       \n",
            "_________________________________________________________________\n",
            "conv1d_72 (Conv1D)           (None, 628, 64)           4160      \n",
            "_________________________________________________________________\n",
            "conv1d_73 (Conv1D)           (None, 628, 64)           4160      \n",
            "_________________________________________________________________\n",
            "conv1d_74 (Conv1D)           (None, 628, 128)          8320      \n",
            "_________________________________________________________________\n",
            "conv1d_75 (Conv1D)           (None, 628, 628)          81012     \n",
            "_________________________________________________________________\n",
            "max_pooling1d_15 (MaxPooling (None, 1, 628)            0         \n",
            "_________________________________________________________________\n",
            "dense_34 (Dense)             (None, 1, 512)            322048    \n",
            "_________________________________________________________________\n",
            "dropout_23 (Dropout)         (None, 1, 512)            0         \n",
            "_________________________________________________________________\n",
            "dense_35 (Dense)             (None, 1, 6)              3078      \n",
            "_________________________________________________________________\n",
            "flatten_12 (Flatten)         (None, 6)                 0         \n",
            "=================================================================\n",
            "Total params: 423,034\n",
            "Trainable params: 423,034\n",
            "Non-trainable params: 0\n",
            "_________________________________________________________________\n"
          ],
          "name": "stdout"
        }
      ]
    },
    {
      "metadata": {
        "id": "0hfQAkvX321G",
        "colab_type": "text"
      },
      "cell_type": "markdown",
      "source": [
        "## 5. Train & Evaluate"
      ]
    },
    {
      "metadata": {
        "id": "yRqN0oFs34lL",
        "colab_type": "code",
        "colab": {
          "base_uri": "https://localhost:8080/",
          "height": 1000
        },
        "outputId": "74af01ae-0e85-49a4-8bc2-f0a9746a0519"
      },
      "cell_type": "code",
      "source": [
        "# Fit the model\n",
        "history = model.fit(X_train, y_train, batch_size=batch_size, epochs=max_epochs,\\\n",
        "                    shuffle=True, verbose=1, validation_data=(X_val, y_val))\n",
        "\n",
        "# Evaluate Model\n",
        "scores = model.evaluate(X_test, y_test, verbose=0)\n",
        "print(\"Average loss of: \", scores[0])\n",
        "print(\"Average accuracy of: \", scores[1])"
      ],
      "execution_count": 149,
      "outputs": [
        {
          "output_type": "stream",
          "text": [
            "Train on 1097 samples, validate on 275 samples\n",
            "Epoch 1/25\n",
            "1097/1097 [==============================] - 1s 787us/step - loss: 2.6477 - acc: 0.2142 - val_loss: 1.9329 - val_acc: 0.2436\n",
            "Epoch 2/25\n",
            "1097/1097 [==============================] - 1s 793us/step - loss: 2.5064 - acc: 0.2124 - val_loss: 1.9174 - val_acc: 0.2436\n",
            "Epoch 3/25\n",
            "1097/1097 [==============================] - 1s 790us/step - loss: 2.5654 - acc: 0.1996 - val_loss: 1.9041 - val_acc: 0.2436\n",
            "Epoch 4/25\n",
            "1097/1097 [==============================] - 1s 795us/step - loss: 2.3283 - acc: 0.2005 - val_loss: 1.8908 - val_acc: 0.2436\n",
            "Epoch 5/25\n",
            "1097/1097 [==============================] - 1s 796us/step - loss: 2.4502 - acc: 0.2005 - val_loss: 1.8795 - val_acc: 0.2436\n",
            "Epoch 6/25\n",
            "1097/1097 [==============================] - 1s 792us/step - loss: 2.4523 - acc: 0.1960 - val_loss: 1.8686 - val_acc: 0.2436\n",
            "Epoch 7/25\n",
            "1097/1097 [==============================] - 1s 789us/step - loss: 2.4341 - acc: 0.2106 - val_loss: 1.8576 - val_acc: 0.2436\n",
            "Epoch 8/25\n",
            "1097/1097 [==============================] - 1s 799us/step - loss: 2.4840 - acc: 0.2060 - val_loss: 1.8463 - val_acc: 0.2436\n",
            "Epoch 9/25\n",
            "1097/1097 [==============================] - 1s 796us/step - loss: 2.3535 - acc: 0.1987 - val_loss: 1.8372 - val_acc: 0.2436\n",
            "Epoch 10/25\n",
            "1097/1097 [==============================] - 1s 792us/step - loss: 2.3770 - acc: 0.1878 - val_loss: 1.8280 - val_acc: 0.2436\n",
            "Epoch 11/25\n",
            "1097/1097 [==============================] - 1s 794us/step - loss: 2.3985 - acc: 0.1914 - val_loss: 1.8212 - val_acc: 0.2436\n",
            "Epoch 12/25\n",
            "1097/1097 [==============================] - 1s 798us/step - loss: 2.2913 - acc: 0.2078 - val_loss: 1.8124 - val_acc: 0.2436\n",
            "Epoch 13/25\n",
            "1097/1097 [==============================] - 1s 796us/step - loss: 2.3734 - acc: 0.2179 - val_loss: 1.8039 - val_acc: 0.2436\n",
            "Epoch 14/25\n",
            "1097/1097 [==============================] - 1s 799us/step - loss: 2.2130 - acc: 0.2252 - val_loss: 1.7968 - val_acc: 0.2436\n",
            "Epoch 15/25\n",
            "1097/1097 [==============================] - 1s 796us/step - loss: 2.2297 - acc: 0.2397 - val_loss: 1.7900 - val_acc: 0.2436\n",
            "Epoch 16/25\n",
            "1097/1097 [==============================] - 1s 797us/step - loss: 2.4322 - acc: 0.2133 - val_loss: 1.7829 - val_acc: 0.2473\n",
            "Epoch 17/25\n",
            "1097/1097 [==============================] - 1s 797us/step - loss: 2.3113 - acc: 0.2206 - val_loss: 1.7769 - val_acc: 0.2473\n",
            "Epoch 18/25\n",
            "1097/1097 [==============================] - 1s 796us/step - loss: 2.2386 - acc: 0.2088 - val_loss: 1.7718 - val_acc: 0.2473\n",
            "Epoch 19/25\n",
            "1097/1097 [==============================] - 1s 800us/step - loss: 2.1831 - acc: 0.2197 - val_loss: 1.7649 - val_acc: 0.2473\n",
            "Epoch 20/25\n",
            "1097/1097 [==============================] - 1s 798us/step - loss: 2.2483 - acc: 0.2179 - val_loss: 1.7598 - val_acc: 0.2473\n",
            "Epoch 21/25\n",
            "1097/1097 [==============================] - 1s 800us/step - loss: 2.2127 - acc: 0.2306 - val_loss: 1.7551 - val_acc: 0.2473\n",
            "Epoch 22/25\n",
            "1097/1097 [==============================] - 1s 803us/step - loss: 2.2166 - acc: 0.2188 - val_loss: 1.7503 - val_acc: 0.2473\n",
            "Epoch 23/25\n",
            "1097/1097 [==============================] - 1s 796us/step - loss: 2.1711 - acc: 0.2498 - val_loss: 1.7461 - val_acc: 0.2473\n",
            "Epoch 24/25\n",
            "1097/1097 [==============================] - 1s 813us/step - loss: 2.2001 - acc: 0.2115 - val_loss: 1.7411 - val_acc: 0.2473\n",
            "Epoch 25/25\n",
            "1097/1097 [==============================] - 1s 816us/step - loss: 2.1960 - acc: 0.2133 - val_loss: 1.7374 - val_acc: 0.2473\n",
            "Average loss of:  1.741556586221207\n",
            "Average accuracy of:  0.26453488372093026\n"
          ],
          "name": "stdout"
        }
      ]
    },
    {
      "metadata": {
        "id": "2MEhIjFC36CJ",
        "colab_type": "code",
        "colab": {
          "base_uri": "https://localhost:8080/",
          "height": 513
        },
        "outputId": "3ff8c18d-72f1-4aea-81f1-7aa4305f37d0"
      },
      "cell_type": "code",
      "source": [
        "print(\"\\n###################### Model Performance ############################\")\n",
        "# Make predictions \n",
        "y_pred = model.predict(X_test)\n",
        "\n",
        "# evaluate the model\n",
        "_, train_acc = model.evaluate(X_train, y_train, verbose=0)\n",
        "_, test_acc = model.evaluate(X_test, y_test, verbose=0)\n",
        "print('\\nTrain: %.3f, Test: %.3f' % (train_acc, test_acc))\n",
        "print(\"\\n#####################################################################\")\n",
        "\n",
        "#Classification report\n",
        "ann_report = classification_report(y_test, y_pred.round())\n",
        "print(\"\\nClassfication Report for test:\\n\", ann_report)\n",
        "print(\"\\n#####################################################################\")\n"
      ],
      "execution_count": 134,
      "outputs": [
        {
          "output_type": "stream",
          "text": [
            "\n",
            "###################### Model Performance ############################\n",
            "\n",
            "Train: 0.346, Test: 0.358\n",
            "\n",
            "#####################################################################\n",
            "\n",
            "Classfication Report for test:\n",
            "               precision    recall  f1-score   support\n",
            "\n",
            "           0       0.24      1.00      0.39        65\n",
            "           1       0.15      0.14      0.15        58\n",
            "           2       0.17      0.83      0.29        48\n",
            "           3       0.41      0.98      0.58        54\n",
            "           4       0.19      0.51      0.28        63\n",
            "           5       0.52      0.61      0.56        56\n",
            "\n",
            "   micro avg       0.25      0.67      0.37       344\n",
            "   macro avg       0.28      0.68      0.37       344\n",
            "weighted avg       0.28      0.67      0.37       344\n",
            " samples avg       0.25      0.67      0.36       344\n",
            "\n",
            "\n",
            "#####################################################################\n"
          ],
          "name": "stdout"
        },
        {
          "output_type": "stream",
          "text": [
            "/usr/local/lib/python3.6/dist-packages/sklearn/metrics/classification.py:1143: UndefinedMetricWarning:\n",
            "\n",
            "Precision and F-score are ill-defined and being set to 0.0 in samples with no predicted labels.\n",
            "\n"
          ],
          "name": "stderr"
        }
      ]
    },
    {
      "metadata": {
        "id": "uxE3bP-p64ay",
        "colab_type": "text"
      },
      "cell_type": "markdown",
      "source": [
        "## 3D CNN Classifier"
      ]
    },
    {
      "metadata": {
        "id": "5zg3GCMv66ce",
        "colab_type": "code",
        "colab": {}
      },
      "cell_type": "code",
      "source": [
        "\"\"\"\n",
        "VoxelGrid Class\n",
        "\"\"\"\n",
        "import numpy as np\n",
        "from matplotlib import pyplot as plt\n",
        "#from ..plot import plot_voxelgrid\n",
        "\n",
        "class VoxelGrid(object):\n",
        "    def __init__(self, points, x_y_z=[1, 1, 1], bb_cuboid=True, build=True):\n",
        "        \"\"\"\n",
        "        Parameters\n",
        "        ----------         \n",
        "        points: (N,3) ndarray\n",
        "                The point cloud from which we want to construct the VoxelGrid.\n",
        "                Where N is the number of points in the point cloud and the second\n",
        "                dimension represents the x, y and z coordinates of each point.\n",
        "        \n",
        "        x_y_z:  list\n",
        "                The segments in which each axis will be divided.\n",
        "                x_y_z[0]: x axis \n",
        "                x_y_z[1]: y axis \n",
        "                x_y_z[2]: z axis\n",
        "\n",
        "        bb_cuboid(Optional): bool\n",
        "                If True(Default):   \n",
        "                    The bounding box of the point cloud will be adjusted\n",
        "                    in order to have all the dimensions of equal length.                \n",
        "                If False:\n",
        "                    The bounding box is allowed to have dimensions of different sizes.\n",
        "        \"\"\"\n",
        "        self.points = points\n",
        "        xyzmin = np.min(points, axis=0) - 0.001\n",
        "        xyzmax = np.max(points, axis=0) + 0.001\n",
        "\n",
        "        if bb_cuboid:\n",
        "            #: adjust to obtain a  minimum bounding box with all sides of equal lenght \n",
        "            diff = max(xyzmax-xyzmin) - (xyzmax-xyzmin)\n",
        "            xyzmin = xyzmin - diff / 2\n",
        "            xyzmax = xyzmax + diff / 2\n",
        "        self.xyzmin = xyzmin\n",
        "        self.xyzmax = xyzmax\n",
        "\n",
        "        segments = []\n",
        "        shape = []\n",
        "\n",
        "        for i in range(3):\n",
        "            # note the +1 in num \n",
        "            if type(x_y_z[i]) is not int:\n",
        "                raise TypeError(\"x_y_z[{}] must be int\".format(i))\n",
        "            s, step = np.linspace(xyzmin[i], xyzmax[i], num=(x_y_z[i] + 1), retstep=True)\n",
        "            segments.append(s)\n",
        "            shape.append(step)\n",
        "        \n",
        "        self.segments = segments\n",
        "        self.shape = shape\n",
        "        self.n_voxels = x_y_z[0] * x_y_z[1] * x_y_z[2]\n",
        "        self.n_x = x_y_z[0]\n",
        "        self.n_y = x_y_z[1]\n",
        "        self.n_z = x_y_z[2]\n",
        "        self.id = \"{},{},{}-{}\".format(x_y_z[0], x_y_z[1], x_y_z[2], bb_cuboid)\n",
        "        if build:\n",
        "            self.build()\n",
        "\n",
        "    def build(self):\n",
        "        structure = np.zeros((len(self.points), 4), dtype=int)\n",
        "        structure[:,0] = np.searchsorted(self.segments[0], self.points[:,0]) - 1\n",
        "        structure[:,1] = np.searchsorted(self.segments[1], self.points[:,1]) - 1\n",
        "        structure[:,2] = np.searchsorted(self.segments[2], self.points[:,2]) - 1\n",
        "        # i = ((y * n_x) + x) + (z * (n_x * n_y))\n",
        "        structure[:,3] = ((structure[:,1] * self.n_x) + structure[:,0]) + (structure[:,2] * (self.n_x * self.n_y)) \n",
        "        \n",
        "        self.structure = structure\n",
        "        vector = np.zeros(self.n_voxels)\n",
        "        count = np.bincount(self.structure[:,3])\n",
        "        vector[:len(count)] = count\n",
        "        self.vector = vector.reshape(self.n_z, self.n_y, self.n_x)\n",
        "\n",
        " \n",
        "    def plot(self, d=2, cmap=\"Oranges\", axis=False):\n",
        "\n",
        "        if d == 2:\n",
        "            fig, axes= plt.subplots(int(np.ceil(self.n_z / 4)), 4, figsize=(8,8))\n",
        "            plt.tight_layout()\n",
        "            for i,ax in enumerate(axes.flat):\n",
        "                if i >= len(self.vector):\n",
        "                    break\n",
        "                im = ax.imshow(self.vector[i], cmap=cmap, interpolation=\"none\")\n",
        "                ax.set_title(\"Level \" + str(i))\n",
        "            fig.subplots_adjust(right=0.8)\n",
        "            cbar_ax = fig.add_axes([0.85, 0.15, 0.05, 0.7])\n",
        "            cbar = fig.colorbar(im, cax=cbar_ax)\n",
        "            cbar.set_label('NUMBER OF POINTS IN VOXEL')\n",
        "        elif d == 3:\n",
        "            return plot_voxelgrid(self, cmap=cmap, axis=axis)\n",
        "\n"
      ],
      "execution_count": 0,
      "outputs": []
    },
    {
      "metadata": {
        "id": "CJcJ7Sg07DTw",
        "colab_type": "code",
        "colab": {}
      },
      "cell_type": "code",
      "source": [
        "# batch voxelise the data\n",
        "def data_importer(data_points, h, w, d):\n",
        "    # create empty array with dimensions n * (16*16*16)\n",
        "    points = np.zeros((data_points.shape[0],(h*w*d)), dtype=float)\n",
        "    #import all files\n",
        "    for num in range(0,data_points.shape[0]): \n",
        "        # get xyz points from file\n",
        "        tmp = data_points[num]\n",
        "        #tmp = scale(tmp, -1, 1)\n",
        "        tmp = VoxelGrid(tmp, x_y_z=[h,w,d])\n",
        "        # get vector array of voxel\n",
        "        tmp = tmp.vector\n",
        "        #flatten vector\n",
        "        tmp = np.concatenate(tmp).ravel()\n",
        "        # add to our list\n",
        "        points[num] = tmp\n",
        "    return points"
      ],
      "execution_count": 0,
      "outputs": []
    },
    {
      "metadata": {
        "id": "ybnDgKwh7ZH_",
        "colab_type": "code",
        "colab": {}
      },
      "cell_type": "code",
      "source": [
        "h,w,d = 16,16,16\n",
        "X = data_importer(X, h,w,d)\n",
        "# Save the data\n",
        "np.save('../2_pipeline/organ-classifier-voxels.npy', X)"
      ],
      "execution_count": 0,
      "outputs": []
    },
    {
      "metadata": {
        "id": "GjcEPOZs7h0F",
        "colab_type": "code",
        "colab": {
          "base_uri": "https://localhost:8080/",
          "height": 187
        },
        "outputId": "df71485f-ee66-4ede-c496-e9a77874835b"
      },
      "cell_type": "code",
      "source": [
        "size = 16\n",
        "h,w,d = size,size,size\n",
        "\n",
        "X = np.load('../2_pipeline/organ-classifier-voxels.npy')\n",
        "y = np.load('../2_pipeline/organ-classifier-y.npy')\n",
        "\n",
        "#split the data\n",
        "print(\"Splitting the data...\")\n",
        "from sklearn.model_selection import train_test_split\n",
        "#split data into 1: train+validation set and 2: test set \n",
        "X_train_val, X_test, y_train_val, y_test = \\\n",
        "train_test_split(X, y, random_state=0, test_size=0.2)\n",
        "\n",
        "# split train+validation set into 1a) training and 1b) validation sets\n",
        "X_train, X_val, y_train, y_val = \\\n",
        "train_test_split(X_train_val, y_train_val, random_state=1, test_size=0.2)\n",
        "\n",
        "# Check train and test size\n",
        "print(\"X training size is: \", X_train.shape)\n",
        "print(\"y training size is: \", y_train.shape)\n",
        "print(\"\\nX val size is: \", X_val.shape)\n",
        "print(\"y val size is: \", y_val.shape)\n",
        "print(\"\\nX test size is: \", X_test.shape)\n",
        "print(\"y test size is: \", y_test.shape)\n",
        "\n",
        "print(\"Preprocessing the data...\")\n",
        "## Introduce the channel dimension in the input dataset \n",
        "xtrain = np.ndarray((X_train.shape[0], (h*w*d), 3))\n",
        "xval = np.ndarray((X_val.shape[0], (h*w*d), 3))\n",
        "xtest = np.ndarray((X_test.shape[0], (h*w*d), 3))\n",
        "\n",
        "# Translate data to color by iterating through train and test and\n",
        "# adding a colour dimension\n",
        "from matplotlib.pyplot import cm\n",
        "\n",
        "def add_rgb_dimension(array):\n",
        "    scaler_map = cm.ScalarMappable(cmap=\"Oranges\")\n",
        "    array = scaler_map.to_rgba(array)[:, : -1]\n",
        "    return array\n",
        "\n",
        "for i in range(X_train.shape[0]):\n",
        "    xtrain[i] = add_rgb_dimension(X_train[i])\n",
        "for i in range(X_val.shape[0]):\n",
        "    xval[i] = add_rgb_dimension(X_val[i])\n",
        "for i in range(X_test.shape[0]):\n",
        "    xtest[i] = add_rgb_dimension(X_test[i])\n",
        "    \n",
        "## convert to 1 + 4D space (1st argument represents number of rows in the dataset)\n",
        "x_train = xtrain.reshape(X_train.shape[0], h, w, d, 3)\n",
        "x_val = xval.reshape(X_val.shape[0], h, w, d, 3)\n",
        "x_test = xtest.reshape(X_test.shape[0], h, w, d, 3)\n",
        "\n",
        "from keras.utils import to_categorical\n",
        "y_train = to_categorical(y_train)\n",
        "y_val = to_categorical(y_val)\n",
        "y_test = to_categorical(y_test)"
      ],
      "execution_count": 223,
      "outputs": [
        {
          "output_type": "stream",
          "text": [
            "Splitting the data...\n",
            "X training size is:  (1097, 4096)\n",
            "y training size is:  (1097,)\n",
            "\n",
            "X val size is:  (275, 4096)\n",
            "y val size is:  (275,)\n",
            "\n",
            "X test size is:  (344, 4096)\n",
            "y test size is:  (344,)\n",
            "Preprocessing the data...\n"
          ],
          "name": "stdout"
        }
      ]
    },
    {
      "metadata": {
        "id": "cptWGf2f773C",
        "colab_type": "text"
      },
      "cell_type": "markdown",
      "source": [
        "## 4. Build 3D CNN\n",
        "Lets create the model architecture. The architecture is described below:\n",
        "\n",
        "Input and Output layers:\n",
        "\n",
        "* One Input layer with dimentions 16, 16, 16, 3\n",
        "* Output layer with dimensions 2\n",
        "\n",
        "Convolutions :\n",
        "* Apply 4 Convolutional layer with increasing order of filter size (standard size : 8, 16, 32, 64) and fixed kernel size = (3, 3, 3)\n",
        "* Apply 2 Max Pooling layers, one after 2nd convolutional layer and one after fourth convolutional layer.\n",
        "\n",
        "MLP architecture:\n",
        "* Batch normalization on convolutiona architecture\n",
        "* Dense layers with 2 layers followed by dropout to avoid overfitting"
      ]
    },
    {
      "metadata": {
        "id": "UH72PFWH8bf9",
        "colab_type": "code",
        "colab": {}
      },
      "cell_type": "code",
      "source": [
        "# Install depedencies\n",
        "from keras.models import Sequential\n",
        "from keras.layers import Conv3D, MaxPool3D, Flatten, Dense\n",
        "from keras.layers import Dropout, Input, BatchNormalization\n",
        "from sklearn.metrics import confusion_matrix, accuracy_score, roc_curve, classification_report\n",
        "from mlxtend.plotting import plot_confusion_matrix\n",
        "from keras.losses import categorical_crossentropy\n",
        "from keras.optimizers import Adadelta, SGD, Adam\n",
        "import matplotlib.pyplot as plt\n",
        "from matplotlib.pyplot import cm\n",
        "from keras.models import Model\n",
        "import numpy as np\n",
        "import keras\n",
        "import h5py"
      ],
      "execution_count": 0,
      "outputs": []
    },
    {
      "metadata": {
        "id": "5V2eks747kWH",
        "colab_type": "code",
        "colab": {
          "base_uri": "https://localhost:8080/",
          "height": 646
        },
        "outputId": "5ac65406-b80b-4372-af69-b8bb19b6e894"
      },
      "cell_type": "code",
      "source": [
        "# Hyper parameters\n",
        "max_epochs = 250\n",
        "batch_size = 128\n",
        "#opt = Adadelta(lr=0.001)\n",
        "opt = Adam(lr=0.01, decay=0.7)\n",
        "dropout_rate=0.2\n",
        "\n",
        "#from keras.optimizers import SGD\n",
        "#opt = SGD(lr=0.001, momentum=0.9)\n",
        "\n",
        "model = Sequential()\n",
        "# Convolution layers\n",
        "model.add(Conv3D(filters=8, kernel_size=(3, 3, 3), activation='relu', input_shape=(h, w, d, 3)))\n",
        "model.add(Conv3D(filters=16, kernel_size=(3, 3, 3), activation='relu'))\n",
        "# Add max pooling to obtain the most informatic features\n",
        "model.add(MaxPool3D(pool_size=(2, 2, 2)))\n",
        "\n",
        "# Convolution layers\n",
        "model.add(Conv3D(filters=32, kernel_size=(3, 3, 3), activation='relu'))\n",
        "model.add(Conv3D(filters=64, kernel_size=(3, 3, 3), activation='relu'))\n",
        "# Add max pooling to obtain the most informatic features\n",
        "model.add(MaxPool3D(pool_size=(2, 2, 2)))\n",
        "\n",
        "## perform batch normalization on the convolution outputs before feeding it to MLP architecture\n",
        "model.add(BatchNormalization())\n",
        "model.add(Flatten())\n",
        "\n",
        "## create an MLP architecture with dense layers : 4096 -> 512 -> 10\n",
        "## add dropouts to avoid overfitting / perform regularization\n",
        "model.add(Dense(units=(h*w*d), activation='relu'))\n",
        "model.add(Dropout(dropout_rate))\n",
        "model.add(BatchNormalization())\n",
        "model.add(Dense(units=512, activation='relu'))\n",
        "model.add(Dropout(dropout_rate))\n",
        "model.add(BatchNormalization())\n",
        "model.add(Dense(units=k, activation='sigmoid'))\n",
        "\n",
        "# Compile\n",
        "model.compile(loss='categorical_crossentropy', optimizer=opt, metrics=['accuracy'])\n",
        "model.summary()"
      ],
      "execution_count": 225,
      "outputs": [
        {
          "output_type": "stream",
          "text": [
            "_________________________________________________________________\n",
            "Layer (type)                 Output Shape              Param #   \n",
            "=================================================================\n",
            "conv3d_17 (Conv3D)           (None, 14, 14, 14, 8)     656       \n",
            "_________________________________________________________________\n",
            "conv3d_18 (Conv3D)           (None, 12, 12, 12, 16)    3472      \n",
            "_________________________________________________________________\n",
            "max_pooling3d_9 (MaxPooling3 (None, 6, 6, 6, 16)       0         \n",
            "_________________________________________________________________\n",
            "conv3d_19 (Conv3D)           (None, 4, 4, 4, 32)       13856     \n",
            "_________________________________________________________________\n",
            "conv3d_20 (Conv3D)           (None, 2, 2, 2, 64)       55360     \n",
            "_________________________________________________________________\n",
            "max_pooling3d_10 (MaxPooling (None, 1, 1, 1, 64)       0         \n",
            "_________________________________________________________________\n",
            "batch_normalization_15 (Batc (None, 1, 1, 1, 64)       256       \n",
            "_________________________________________________________________\n",
            "flatten_17 (Flatten)         (None, 64)                0         \n",
            "_________________________________________________________________\n",
            "dense_48 (Dense)             (None, 4096)              266240    \n",
            "_________________________________________________________________\n",
            "dropout_32 (Dropout)         (None, 4096)              0         \n",
            "_________________________________________________________________\n",
            "batch_normalization_16 (Batc (None, 4096)              16384     \n",
            "_________________________________________________________________\n",
            "dense_49 (Dense)             (None, 512)               2097664   \n",
            "_________________________________________________________________\n",
            "dropout_33 (Dropout)         (None, 512)               0         \n",
            "_________________________________________________________________\n",
            "batch_normalization_17 (Batc (None, 512)               2048      \n",
            "_________________________________________________________________\n",
            "dense_50 (Dense)             (None, 6)                 3078      \n",
            "=================================================================\n",
            "Total params: 2,459,014\n",
            "Trainable params: 2,449,670\n",
            "Non-trainable params: 9,344\n",
            "_________________________________________________________________\n"
          ],
          "name": "stdout"
        }
      ]
    },
    {
      "metadata": {
        "id": "WVDAZ7uz7_O_",
        "colab_type": "text"
      },
      "cell_type": "markdown",
      "source": [
        "## Train & Evaluate"
      ]
    },
    {
      "metadata": {
        "id": "Xb8SqFqv8hz1",
        "colab_type": "code",
        "colab": {
          "base_uri": "https://localhost:8080/",
          "height": 8585
        },
        "outputId": "40aeb748-fc63-46ad-dfe2-f3de8ceaa685"
      },
      "cell_type": "code",
      "source": [
        "print(\"\\n####################### Training Model ##############################\")\n",
        "print(\"Training...\")\n",
        "history = model.fit(x=x_train, y=y_train, batch_size=batch_size, epochs=max_epochs, validation_data=(x_val, y_val), verbose=1)"
      ],
      "execution_count": 226,
      "outputs": [
        {
          "output_type": "stream",
          "text": [
            "\n",
            "####################### Training Model ##############################\n",
            "Training...\n",
            "Train on 1097 samples, validate on 275 samples\n",
            "Epoch 1/250\n",
            "1097/1097 [==============================] - 4s 3ms/step - loss: 1.2233 - acc: 0.6664 - val_loss: 8.7771 - val_acc: 0.3200\n",
            "Epoch 2/250\n",
            "1097/1097 [==============================] - 0s 256us/step - loss: 0.7170 - acc: 0.8669 - val_loss: 8.7985 - val_acc: 0.3055\n",
            "Epoch 3/250\n",
            "1097/1097 [==============================] - 0s 246us/step - loss: 0.6399 - acc: 0.8633 - val_loss: 9.0846 - val_acc: 0.3164\n",
            "Epoch 4/250\n",
            "1097/1097 [==============================] - 0s 239us/step - loss: 0.6023 - acc: 0.8624 - val_loss: 6.8577 - val_acc: 0.4182\n",
            "Epoch 5/250\n",
            "1097/1097 [==============================] - 0s 241us/step - loss: 0.5689 - acc: 0.8578 - val_loss: 4.6756 - val_acc: 0.2836\n",
            "Epoch 6/250\n",
            "1097/1097 [==============================] - 0s 242us/step - loss: 0.5469 - acc: 0.8642 - val_loss: 4.2918 - val_acc: 0.2800\n",
            "Epoch 7/250\n",
            "1097/1097 [==============================] - 0s 246us/step - loss: 0.5259 - acc: 0.8578 - val_loss: 2.4790 - val_acc: 0.3564\n",
            "Epoch 8/250\n",
            "1097/1097 [==============================] - 0s 241us/step - loss: 0.4906 - acc: 0.8587 - val_loss: 1.2142 - val_acc: 0.3745\n",
            "Epoch 9/250\n",
            "1097/1097 [==============================] - 0s 243us/step - loss: 0.4581 - acc: 0.8687 - val_loss: 1.4029 - val_acc: 0.1673\n",
            "Epoch 10/250\n",
            "1097/1097 [==============================] - 0s 241us/step - loss: 0.4391 - acc: 0.8870 - val_loss: 1.5382 - val_acc: 0.1600\n",
            "Epoch 11/250\n",
            "1097/1097 [==============================] - 0s 242us/step - loss: 0.4404 - acc: 0.8952 - val_loss: 1.5485 - val_acc: 0.2691\n",
            "Epoch 12/250\n",
            "1097/1097 [==============================] - 0s 240us/step - loss: 0.4222 - acc: 0.8997 - val_loss: 1.4349 - val_acc: 0.4218\n",
            "Epoch 13/250\n",
            "1097/1097 [==============================] - 0s 238us/step - loss: 0.4206 - acc: 0.9134 - val_loss: 1.3365 - val_acc: 0.5964\n",
            "Epoch 14/250\n",
            "1097/1097 [==============================] - 0s 245us/step - loss: 0.4155 - acc: 0.8924 - val_loss: 1.2776 - val_acc: 0.6509\n",
            "Epoch 15/250\n",
            "1097/1097 [==============================] - 0s 238us/step - loss: 0.4099 - acc: 0.9125 - val_loss: 1.1540 - val_acc: 0.6727\n",
            "Epoch 16/250\n",
            "1097/1097 [==============================] - 0s 244us/step - loss: 0.4068 - acc: 0.9207 - val_loss: 1.2175 - val_acc: 0.6509\n",
            "Epoch 17/250\n",
            "1097/1097 [==============================] - 0s 239us/step - loss: 0.4027 - acc: 0.9189 - val_loss: 1.1999 - val_acc: 0.6327\n",
            "Epoch 18/250\n",
            "1097/1097 [==============================] - 0s 245us/step - loss: 0.4100 - acc: 0.8988 - val_loss: 1.1253 - val_acc: 0.5964\n",
            "Epoch 19/250\n",
            "1097/1097 [==============================] - 0s 242us/step - loss: 0.3934 - acc: 0.9161 - val_loss: 1.0053 - val_acc: 0.6836\n",
            "Epoch 20/250\n",
            "1097/1097 [==============================] - 0s 242us/step - loss: 0.3924 - acc: 0.9134 - val_loss: 0.9415 - val_acc: 0.7418\n",
            "Epoch 21/250\n",
            "1097/1097 [==============================] - 0s 243us/step - loss: 0.3972 - acc: 0.9116 - val_loss: 1.0023 - val_acc: 0.7273\n",
            "Epoch 22/250\n",
            "1097/1097 [==============================] - 0s 247us/step - loss: 0.3888 - acc: 0.9243 - val_loss: 1.0412 - val_acc: 0.6691\n",
            "Epoch 23/250\n",
            "1097/1097 [==============================] - 0s 246us/step - loss: 0.3897 - acc: 0.9207 - val_loss: 1.0085 - val_acc: 0.5745\n",
            "Epoch 24/250\n",
            "1097/1097 [==============================] - 0s 242us/step - loss: 0.3869 - acc: 0.9061 - val_loss: 1.0919 - val_acc: 0.7673\n",
            "Epoch 25/250\n",
            "1097/1097 [==============================] - 0s 240us/step - loss: 0.3847 - acc: 0.9143 - val_loss: 1.0721 - val_acc: 0.7091\n",
            "Epoch 26/250\n",
            "1097/1097 [==============================] - 0s 243us/step - loss: 0.3766 - acc: 0.9161 - val_loss: 1.0306 - val_acc: 0.6982\n",
            "Epoch 27/250\n",
            "1097/1097 [==============================] - 0s 241us/step - loss: 0.3791 - acc: 0.9253 - val_loss: 0.9656 - val_acc: 0.6945\n",
            "Epoch 28/250\n",
            "1097/1097 [==============================] - 0s 241us/step - loss: 0.3745 - acc: 0.9107 - val_loss: 0.9211 - val_acc: 0.7309\n",
            "Epoch 29/250\n",
            "1097/1097 [==============================] - 0s 242us/step - loss: 0.3737 - acc: 0.9170 - val_loss: 1.0061 - val_acc: 0.6182\n",
            "Epoch 30/250\n",
            "1097/1097 [==============================] - 0s 248us/step - loss: 0.3758 - acc: 0.9189 - val_loss: 1.2984 - val_acc: 0.4945\n",
            "Epoch 31/250\n",
            "1097/1097 [==============================] - 0s 243us/step - loss: 0.3710 - acc: 0.9116 - val_loss: 1.3718 - val_acc: 0.4509\n",
            "Epoch 32/250\n",
            "1097/1097 [==============================] - 0s 248us/step - loss: 0.3711 - acc: 0.9143 - val_loss: 1.3201 - val_acc: 0.4291\n",
            "Epoch 33/250\n",
            "1097/1097 [==============================] - 0s 245us/step - loss: 0.3676 - acc: 0.9207 - val_loss: 1.1822 - val_acc: 0.4545\n",
            "Epoch 34/250\n",
            "1097/1097 [==============================] - 0s 240us/step - loss: 0.3622 - acc: 0.9189 - val_loss: 1.1071 - val_acc: 0.5127\n",
            "Epoch 35/250\n",
            "1097/1097 [==============================] - 0s 243us/step - loss: 0.3685 - acc: 0.9234 - val_loss: 1.1143 - val_acc: 0.5527\n",
            "Epoch 36/250\n",
            "1097/1097 [==============================] - 0s 240us/step - loss: 0.3567 - acc: 0.9234 - val_loss: 1.1421 - val_acc: 0.5055\n",
            "Epoch 37/250\n",
            "1097/1097 [==============================] - 0s 245us/step - loss: 0.3581 - acc: 0.9234 - val_loss: 1.1488 - val_acc: 0.4982\n",
            "Epoch 38/250\n",
            "1097/1097 [==============================] - 0s 241us/step - loss: 0.3570 - acc: 0.9271 - val_loss: 1.1431 - val_acc: 0.5345\n",
            "Epoch 39/250\n",
            "1097/1097 [==============================] - 0s 248us/step - loss: 0.3530 - acc: 0.9161 - val_loss: 1.1863 - val_acc: 0.5782\n",
            "Epoch 40/250\n",
            "1097/1097 [==============================] - 0s 250us/step - loss: 0.3471 - acc: 0.9198 - val_loss: 1.3105 - val_acc: 0.6327\n",
            "Epoch 41/250\n",
            "1097/1097 [==============================] - 0s 255us/step - loss: 0.3460 - acc: 0.9207 - val_loss: 1.4931 - val_acc: 0.6400\n",
            "Epoch 42/250\n",
            "1097/1097 [==============================] - 0s 253us/step - loss: 0.3416 - acc: 0.9134 - val_loss: 1.6296 - val_acc: 0.6327\n",
            "Epoch 43/250\n",
            "1097/1097 [==============================] - 0s 242us/step - loss: 0.3402 - acc: 0.9307 - val_loss: 1.6643 - val_acc: 0.6400\n",
            "Epoch 44/250\n",
            "1097/1097 [==============================] - 0s 237us/step - loss: 0.3338 - acc: 0.9280 - val_loss: 1.7547 - val_acc: 0.6364\n",
            "Epoch 45/250\n",
            "1097/1097 [==============================] - 0s 249us/step - loss: 0.3379 - acc: 0.9262 - val_loss: 1.7174 - val_acc: 0.6364\n",
            "Epoch 46/250\n",
            "1097/1097 [==============================] - 0s 242us/step - loss: 0.3247 - acc: 0.9280 - val_loss: 1.6665 - val_acc: 0.6218\n",
            "Epoch 47/250\n",
            "1097/1097 [==============================] - 0s 242us/step - loss: 0.3208 - acc: 0.9161 - val_loss: 1.7304 - val_acc: 0.5818\n",
            "Epoch 48/250\n",
            "1097/1097 [==============================] - 0s 240us/step - loss: 0.3026 - acc: 0.9253 - val_loss: 1.7009 - val_acc: 0.5964\n",
            "Epoch 49/250\n",
            "1097/1097 [==============================] - 0s 249us/step - loss: 0.3030 - acc: 0.9216 - val_loss: 1.6280 - val_acc: 0.5236\n",
            "Epoch 50/250\n",
            "1097/1097 [==============================] - 0s 248us/step - loss: 0.2890 - acc: 0.9280 - val_loss: 1.2856 - val_acc: 0.3782\n",
            "Epoch 51/250\n",
            "1097/1097 [==============================] - 0s 242us/step - loss: 0.2726 - acc: 0.9280 - val_loss: 1.1223 - val_acc: 0.2509\n",
            "Epoch 52/250\n",
            "1097/1097 [==============================] - 0s 245us/step - loss: 0.2730 - acc: 0.9216 - val_loss: 1.0904 - val_acc: 0.2145\n",
            "Epoch 53/250\n",
            "1097/1097 [==============================] - 0s 245us/step - loss: 0.2778 - acc: 0.9307 - val_loss: 1.1515 - val_acc: 0.1818\n",
            "Epoch 54/250\n",
            "1097/1097 [==============================] - 0s 241us/step - loss: 0.2608 - acc: 0.9280 - val_loss: 1.2589 - val_acc: 0.1927\n",
            "Epoch 55/250\n",
            "1097/1097 [==============================] - 0s 258us/step - loss: 0.2594 - acc: 0.9307 - val_loss: 1.2828 - val_acc: 0.1927\n",
            "Epoch 56/250\n",
            "1097/1097 [==============================] - 0s 245us/step - loss: 0.2589 - acc: 0.9362 - val_loss: 1.2729 - val_acc: 0.1745\n",
            "Epoch 57/250\n",
            "1097/1097 [==============================] - 0s 244us/step - loss: 0.2581 - acc: 0.9417 - val_loss: 1.2626 - val_acc: 0.1636\n",
            "Epoch 58/250\n",
            "1097/1097 [==============================] - 0s 242us/step - loss: 0.2502 - acc: 0.9417 - val_loss: 1.2658 - val_acc: 0.1782\n",
            "Epoch 59/250\n",
            "1097/1097 [==============================] - 0s 239us/step - loss: 0.2470 - acc: 0.9353 - val_loss: 1.2834 - val_acc: 0.1709\n",
            "Epoch 60/250\n",
            "1097/1097 [==============================] - 0s 249us/step - loss: 0.2444 - acc: 0.9380 - val_loss: 1.2853 - val_acc: 0.1673\n",
            "Epoch 61/250\n",
            "1097/1097 [==============================] - 0s 244us/step - loss: 0.2443 - acc: 0.9389 - val_loss: 1.2618 - val_acc: 0.1673\n",
            "Epoch 62/250\n",
            "1097/1097 [==============================] - 0s 242us/step - loss: 0.2391 - acc: 0.9353 - val_loss: 1.1996 - val_acc: 0.2436\n",
            "Epoch 63/250\n",
            "1097/1097 [==============================] - 0s 240us/step - loss: 0.2368 - acc: 0.9453 - val_loss: 1.1639 - val_acc: 0.3891\n",
            "Epoch 64/250\n",
            "1097/1097 [==============================] - 0s 252us/step - loss: 0.2377 - acc: 0.9453 - val_loss: 1.1066 - val_acc: 0.4364\n",
            "Epoch 65/250\n",
            "1097/1097 [==============================] - 0s 246us/step - loss: 0.2395 - acc: 0.9398 - val_loss: 1.1207 - val_acc: 0.5527\n",
            "Epoch 66/250\n",
            "1097/1097 [==============================] - 0s 239us/step - loss: 0.2321 - acc: 0.9444 - val_loss: 1.0450 - val_acc: 0.6800\n",
            "Epoch 67/250\n",
            "1097/1097 [==============================] - 0s 241us/step - loss: 0.2352 - acc: 0.9362 - val_loss: 0.9704 - val_acc: 0.7273\n",
            "Epoch 68/250\n",
            "1097/1097 [==============================] - 0s 249us/step - loss: 0.2359 - acc: 0.9508 - val_loss: 0.8818 - val_acc: 0.7491\n",
            "Epoch 69/250\n",
            "1097/1097 [==============================] - 0s 247us/step - loss: 0.2340 - acc: 0.9407 - val_loss: 0.8481 - val_acc: 0.8182\n",
            "Epoch 70/250\n",
            "1097/1097 [==============================] - 0s 243us/step - loss: 0.2276 - acc: 0.9535 - val_loss: 0.7741 - val_acc: 0.8836\n",
            "Epoch 71/250\n",
            "1097/1097 [==============================] - 0s 247us/step - loss: 0.2235 - acc: 0.9471 - val_loss: 0.7068 - val_acc: 0.8582\n",
            "Epoch 72/250\n",
            "1097/1097 [==============================] - 0s 241us/step - loss: 0.2296 - acc: 0.9490 - val_loss: 0.5623 - val_acc: 0.8582\n",
            "Epoch 73/250\n",
            "1097/1097 [==============================] - 0s 244us/step - loss: 0.2264 - acc: 0.9471 - val_loss: 0.4456 - val_acc: 0.8982\n",
            "Epoch 74/250\n",
            "1097/1097 [==============================] - 0s 242us/step - loss: 0.2251 - acc: 0.9480 - val_loss: 0.5124 - val_acc: 0.9273\n",
            "Epoch 75/250\n",
            "1097/1097 [==============================] - 0s 248us/step - loss: 0.2181 - acc: 0.9499 - val_loss: 0.5594 - val_acc: 0.9236\n",
            "Epoch 76/250\n",
            "1097/1097 [==============================] - 0s 245us/step - loss: 0.2174 - acc: 0.9490 - val_loss: 0.4950 - val_acc: 0.9309\n",
            "Epoch 77/250\n",
            "1097/1097 [==============================] - 0s 247us/step - loss: 0.2189 - acc: 0.9526 - val_loss: 0.4670 - val_acc: 0.9309\n",
            "Epoch 78/250\n",
            "1097/1097 [==============================] - 0s 238us/step - loss: 0.2159 - acc: 0.9526 - val_loss: 0.4487 - val_acc: 0.9345\n",
            "Epoch 79/250\n",
            "1097/1097 [==============================] - 0s 249us/step - loss: 0.2189 - acc: 0.9535 - val_loss: 0.4211 - val_acc: 0.9382\n",
            "Epoch 80/250\n",
            "1097/1097 [==============================] - 0s 243us/step - loss: 0.2154 - acc: 0.9572 - val_loss: 0.4203 - val_acc: 0.9382\n",
            "Epoch 81/250\n",
            "1097/1097 [==============================] - 0s 248us/step - loss: 0.2167 - acc: 0.9526 - val_loss: 0.3972 - val_acc: 0.9345\n",
            "Epoch 82/250\n",
            "1097/1097 [==============================] - 0s 242us/step - loss: 0.2218 - acc: 0.9562 - val_loss: 0.3687 - val_acc: 0.9236\n",
            "Epoch 83/250\n",
            "1097/1097 [==============================] - 0s 255us/step - loss: 0.2136 - acc: 0.9572 - val_loss: 0.3517 - val_acc: 0.9018\n",
            "Epoch 84/250\n",
            "1097/1097 [==============================] - 0s 245us/step - loss: 0.2084 - acc: 0.9608 - val_loss: 0.3401 - val_acc: 0.8909\n",
            "Epoch 85/250\n",
            "1097/1097 [==============================] - 0s 242us/step - loss: 0.2058 - acc: 0.9590 - val_loss: 0.3006 - val_acc: 0.8836\n",
            "Epoch 86/250\n",
            "1097/1097 [==============================] - 0s 243us/step - loss: 0.2129 - acc: 0.9581 - val_loss: 0.2850 - val_acc: 0.9127\n",
            "Epoch 87/250\n",
            "1097/1097 [==============================] - 0s 248us/step - loss: 0.2046 - acc: 0.9617 - val_loss: 0.2820 - val_acc: 0.9345\n",
            "Epoch 88/250\n",
            "1097/1097 [==============================] - 0s 245us/step - loss: 0.2118 - acc: 0.9599 - val_loss: 0.2709 - val_acc: 0.9309\n",
            "Epoch 89/250\n",
            "1097/1097 [==============================] - 0s 242us/step - loss: 0.2055 - acc: 0.9590 - val_loss: 0.2706 - val_acc: 0.9273\n",
            "Epoch 90/250\n",
            "1097/1097 [==============================] - 0s 250us/step - loss: 0.2035 - acc: 0.9617 - val_loss: 0.2770 - val_acc: 0.9200\n",
            "Epoch 91/250\n",
            "1097/1097 [==============================] - 0s 242us/step - loss: 0.2038 - acc: 0.9599 - val_loss: 0.2885 - val_acc: 0.9236\n",
            "Epoch 92/250\n",
            "1097/1097 [==============================] - 0s 243us/step - loss: 0.2112 - acc: 0.9572 - val_loss: 0.3084 - val_acc: 0.9309\n",
            "Epoch 93/250\n",
            "1097/1097 [==============================] - 0s 243us/step - loss: 0.1989 - acc: 0.9590 - val_loss: 0.3021 - val_acc: 0.9236\n",
            "Epoch 94/250\n",
            "1097/1097 [==============================] - 0s 248us/step - loss: 0.2029 - acc: 0.9590 - val_loss: 0.3180 - val_acc: 0.9309\n",
            "Epoch 95/250\n",
            "1097/1097 [==============================] - 0s 240us/step - loss: 0.1987 - acc: 0.9617 - val_loss: 0.3332 - val_acc: 0.9309\n",
            "Epoch 96/250\n",
            "1097/1097 [==============================] - 0s 239us/step - loss: 0.2018 - acc: 0.9581 - val_loss: 0.3782 - val_acc: 0.9309\n",
            "Epoch 97/250\n",
            "1097/1097 [==============================] - 0s 242us/step - loss: 0.1940 - acc: 0.9608 - val_loss: 0.3546 - val_acc: 0.9273\n",
            "Epoch 98/250\n",
            "1097/1097 [==============================] - 0s 248us/step - loss: 0.1958 - acc: 0.9654 - val_loss: 0.3430 - val_acc: 0.9273\n",
            "Epoch 99/250\n",
            "1097/1097 [==============================] - 0s 244us/step - loss: 0.2034 - acc: 0.9635 - val_loss: 0.3468 - val_acc: 0.9091\n",
            "Epoch 100/250\n",
            "1097/1097 [==============================] - 0s 241us/step - loss: 0.2016 - acc: 0.9654 - val_loss: 0.3636 - val_acc: 0.9018\n",
            "Epoch 101/250\n",
            "1097/1097 [==============================] - 0s 249us/step - loss: 0.1946 - acc: 0.9635 - val_loss: 0.3712 - val_acc: 0.9018\n",
            "Epoch 102/250\n",
            "1097/1097 [==============================] - 0s 248us/step - loss: 0.1928 - acc: 0.9663 - val_loss: 0.3380 - val_acc: 0.8909\n",
            "Epoch 103/250\n",
            "1097/1097 [==============================] - 0s 244us/step - loss: 0.1928 - acc: 0.9599 - val_loss: 0.3204 - val_acc: 0.8655\n",
            "Epoch 104/250\n",
            "1097/1097 [==============================] - 0s 242us/step - loss: 0.1911 - acc: 0.9626 - val_loss: 0.3190 - val_acc: 0.8873\n",
            "Epoch 105/250\n",
            "1097/1097 [==============================] - 0s 251us/step - loss: 0.1962 - acc: 0.9608 - val_loss: 0.3166 - val_acc: 0.8982\n",
            "Epoch 106/250\n",
            "1097/1097 [==============================] - 0s 247us/step - loss: 0.1862 - acc: 0.9635 - val_loss: 0.3418 - val_acc: 0.9200\n",
            "Epoch 107/250\n",
            "1097/1097 [==============================] - 0s 244us/step - loss: 0.1877 - acc: 0.9672 - val_loss: 0.3657 - val_acc: 0.9309\n",
            "Epoch 108/250\n",
            "1097/1097 [==============================] - 0s 243us/step - loss: 0.1888 - acc: 0.9663 - val_loss: 0.3504 - val_acc: 0.9418\n",
            "Epoch 109/250\n",
            "1097/1097 [==============================] - 0s 248us/step - loss: 0.1860 - acc: 0.9635 - val_loss: 0.4278 - val_acc: 0.9345\n",
            "Epoch 110/250\n",
            "1097/1097 [==============================] - 0s 242us/step - loss: 0.1938 - acc: 0.9581 - val_loss: 0.5890 - val_acc: 0.9164\n",
            "Epoch 111/250\n",
            "1097/1097 [==============================] - 0s 244us/step - loss: 0.1874 - acc: 0.9644 - val_loss: 0.6119 - val_acc: 0.9164\n",
            "Epoch 112/250\n",
            "1097/1097 [==============================] - 0s 243us/step - loss: 0.1845 - acc: 0.9599 - val_loss: 0.6226 - val_acc: 0.9164\n",
            "Epoch 113/250\n",
            "1097/1097 [==============================] - 0s 250us/step - loss: 0.1812 - acc: 0.9663 - val_loss: 0.6594 - val_acc: 0.9055\n",
            "Epoch 114/250\n",
            "1097/1097 [==============================] - 0s 244us/step - loss: 0.1826 - acc: 0.9635 - val_loss: 0.6497 - val_acc: 0.9164\n",
            "Epoch 115/250\n",
            "1097/1097 [==============================] - 0s 244us/step - loss: 0.1821 - acc: 0.9626 - val_loss: 0.6087 - val_acc: 0.9200\n",
            "Epoch 116/250\n",
            "1097/1097 [==============================] - 0s 245us/step - loss: 0.1787 - acc: 0.9635 - val_loss: 0.5630 - val_acc: 0.9309\n",
            "Epoch 117/250\n",
            "1097/1097 [==============================] - 0s 247us/step - loss: 0.1774 - acc: 0.9672 - val_loss: 0.5598 - val_acc: 0.9309\n",
            "Epoch 118/250\n",
            "1097/1097 [==============================] - 0s 241us/step - loss: 0.1816 - acc: 0.9654 - val_loss: 0.5820 - val_acc: 0.9309\n",
            "Epoch 119/250\n",
            "1097/1097 [==============================] - 0s 242us/step - loss: 0.1771 - acc: 0.9617 - val_loss: 0.5587 - val_acc: 0.9345\n",
            "Epoch 120/250\n",
            "1097/1097 [==============================] - 0s 243us/step - loss: 0.1795 - acc: 0.9608 - val_loss: 0.5048 - val_acc: 0.9418\n",
            "Epoch 121/250\n",
            "1097/1097 [==============================] - 0s 245us/step - loss: 0.1778 - acc: 0.9644 - val_loss: 0.4540 - val_acc: 0.9527\n",
            "Epoch 122/250\n",
            "1097/1097 [==============================] - 0s 242us/step - loss: 0.1727 - acc: 0.9672 - val_loss: 0.3924 - val_acc: 0.9564\n",
            "Epoch 123/250\n",
            "1097/1097 [==============================] - 0s 241us/step - loss: 0.1768 - acc: 0.9644 - val_loss: 0.4036 - val_acc: 0.9564\n",
            "Epoch 124/250\n",
            "1097/1097 [==============================] - 0s 245us/step - loss: 0.1766 - acc: 0.9672 - val_loss: 0.4219 - val_acc: 0.9527\n",
            "Epoch 125/250\n",
            "1097/1097 [==============================] - 0s 245us/step - loss: 0.1786 - acc: 0.9608 - val_loss: 0.4034 - val_acc: 0.9600\n",
            "Epoch 126/250\n",
            "1097/1097 [==============================] - 0s 244us/step - loss: 0.1770 - acc: 0.9727 - val_loss: 0.3805 - val_acc: 0.9564\n",
            "Epoch 127/250\n",
            "1097/1097 [==============================] - 0s 240us/step - loss: 0.1761 - acc: 0.9635 - val_loss: 0.3696 - val_acc: 0.9527\n",
            "Epoch 128/250\n",
            "1097/1097 [==============================] - 0s 248us/step - loss: 0.1700 - acc: 0.9663 - val_loss: 0.3747 - val_acc: 0.9600\n",
            "Epoch 129/250\n",
            "1097/1097 [==============================] - 0s 257us/step - loss: 0.1697 - acc: 0.9672 - val_loss: 0.3558 - val_acc: 0.9527\n",
            "Epoch 130/250\n",
            "1097/1097 [==============================] - 0s 242us/step - loss: 0.1768 - acc: 0.9681 - val_loss: 0.3223 - val_acc: 0.9564\n",
            "Epoch 131/250\n",
            "1097/1097 [==============================] - 0s 243us/step - loss: 0.1690 - acc: 0.9626 - val_loss: 0.3058 - val_acc: 0.9564\n",
            "Epoch 132/250\n",
            "1097/1097 [==============================] - 0s 248us/step - loss: 0.1719 - acc: 0.9690 - val_loss: 0.3111 - val_acc: 0.9600\n",
            "Epoch 133/250\n",
            "1097/1097 [==============================] - 0s 247us/step - loss: 0.1726 - acc: 0.9654 - val_loss: 0.3329 - val_acc: 0.9636\n",
            "Epoch 134/250\n",
            "1097/1097 [==============================] - 0s 245us/step - loss: 0.1739 - acc: 0.9690 - val_loss: 0.3473 - val_acc: 0.9600\n",
            "Epoch 135/250\n",
            "1097/1097 [==============================] - 0s 247us/step - loss: 0.1674 - acc: 0.9690 - val_loss: 0.3419 - val_acc: 0.9636\n",
            "Epoch 136/250\n",
            "1097/1097 [==============================] - 0s 246us/step - loss: 0.1755 - acc: 0.9681 - val_loss: 0.3292 - val_acc: 0.9636\n",
            "Epoch 137/250\n",
            "1097/1097 [==============================] - 0s 243us/step - loss: 0.1689 - acc: 0.9699 - val_loss: 0.3329 - val_acc: 0.9636\n",
            "Epoch 138/250\n",
            "1097/1097 [==============================] - 0s 244us/step - loss: 0.1714 - acc: 0.9690 - val_loss: 0.3273 - val_acc: 0.9636\n",
            "Epoch 139/250\n",
            "1097/1097 [==============================] - 0s 248us/step - loss: 0.1688 - acc: 0.9654 - val_loss: 0.3226 - val_acc: 0.9636\n",
            "Epoch 140/250\n",
            "1097/1097 [==============================] - 0s 254us/step - loss: 0.1681 - acc: 0.9690 - val_loss: 0.3268 - val_acc: 0.9636\n",
            "Epoch 141/250\n",
            "1097/1097 [==============================] - 0s 246us/step - loss: 0.1654 - acc: 0.9699 - val_loss: 0.3472 - val_acc: 0.9673\n",
            "Epoch 142/250\n",
            "1097/1097 [==============================] - 0s 241us/step - loss: 0.1640 - acc: 0.9736 - val_loss: 0.3279 - val_acc: 0.9673\n",
            "Epoch 143/250\n",
            "1097/1097 [==============================] - 0s 247us/step - loss: 0.1667 - acc: 0.9708 - val_loss: 0.3123 - val_acc: 0.9673\n",
            "Epoch 144/250\n",
            "1097/1097 [==============================] - 0s 244us/step - loss: 0.1696 - acc: 0.9717 - val_loss: 0.2919 - val_acc: 0.9709\n",
            "Epoch 145/250\n",
            "1097/1097 [==============================] - 0s 245us/step - loss: 0.1639 - acc: 0.9708 - val_loss: 0.3117 - val_acc: 0.9673\n",
            "Epoch 146/250\n",
            "1097/1097 [==============================] - 0s 242us/step - loss: 0.1688 - acc: 0.9681 - val_loss: 0.3427 - val_acc: 0.9636\n",
            "Epoch 147/250\n",
            "1097/1097 [==============================] - 0s 255us/step - loss: 0.1635 - acc: 0.9717 - val_loss: 0.3688 - val_acc: 0.9673\n",
            "Epoch 148/250\n",
            "1097/1097 [==============================] - 0s 243us/step - loss: 0.1651 - acc: 0.9717 - val_loss: 0.3717 - val_acc: 0.9709\n",
            "Epoch 149/250\n",
            "1097/1097 [==============================] - 0s 247us/step - loss: 0.1662 - acc: 0.9708 - val_loss: 0.3620 - val_acc: 0.9709\n",
            "Epoch 150/250\n",
            "1097/1097 [==============================] - 0s 242us/step - loss: 0.1615 - acc: 0.9754 - val_loss: 0.3445 - val_acc: 0.9709\n",
            "Epoch 151/250\n",
            "1097/1097 [==============================] - 0s 247us/step - loss: 0.1620 - acc: 0.9663 - val_loss: 0.3025 - val_acc: 0.9709\n",
            "Epoch 152/250\n",
            "1097/1097 [==============================] - 0s 243us/step - loss: 0.1615 - acc: 0.9681 - val_loss: 0.3034 - val_acc: 0.9673\n",
            "Epoch 153/250\n",
            "1097/1097 [==============================] - 0s 244us/step - loss: 0.1689 - acc: 0.9663 - val_loss: 0.2792 - val_acc: 0.9673\n",
            "Epoch 154/250\n",
            "1097/1097 [==============================] - 0s 244us/step - loss: 0.1615 - acc: 0.9672 - val_loss: 0.2586 - val_acc: 0.9673\n",
            "Epoch 155/250\n",
            "1097/1097 [==============================] - 0s 247us/step - loss: 0.1636 - acc: 0.9699 - val_loss: 0.2289 - val_acc: 0.9673\n",
            "Epoch 156/250\n",
            "1097/1097 [==============================] - 0s 243us/step - loss: 0.1624 - acc: 0.9699 - val_loss: 0.2243 - val_acc: 0.9673\n",
            "Epoch 157/250\n",
            "1097/1097 [==============================] - 0s 246us/step - loss: 0.1674 - acc: 0.9681 - val_loss: 0.2129 - val_acc: 0.9673\n",
            "Epoch 158/250\n",
            "1097/1097 [==============================] - 0s 242us/step - loss: 0.1644 - acc: 0.9681 - val_loss: 0.2182 - val_acc: 0.9673\n",
            "Epoch 159/250\n",
            "1097/1097 [==============================] - 0s 246us/step - loss: 0.1596 - acc: 0.9708 - val_loss: 0.2105 - val_acc: 0.9673\n",
            "Epoch 160/250\n",
            "1097/1097 [==============================] - 0s 244us/step - loss: 0.1603 - acc: 0.9690 - val_loss: 0.1909 - val_acc: 0.9636\n",
            "Epoch 161/250\n",
            "1097/1097 [==============================] - 0s 243us/step - loss: 0.1603 - acc: 0.9699 - val_loss: 0.1809 - val_acc: 0.9673\n",
            "Epoch 162/250\n",
            "1097/1097 [==============================] - 0s 243us/step - loss: 0.1638 - acc: 0.9690 - val_loss: 0.1811 - val_acc: 0.9673\n",
            "Epoch 163/250\n",
            "1097/1097 [==============================] - 0s 246us/step - loss: 0.1666 - acc: 0.9736 - val_loss: 0.1854 - val_acc: 0.9636\n",
            "Epoch 164/250\n",
            "1097/1097 [==============================] - 0s 243us/step - loss: 0.1631 - acc: 0.9727 - val_loss: 0.1866 - val_acc: 0.9636\n",
            "Epoch 165/250\n",
            "1097/1097 [==============================] - 0s 243us/step - loss: 0.1576 - acc: 0.9717 - val_loss: 0.1930 - val_acc: 0.9636\n",
            "Epoch 166/250\n",
            "1097/1097 [==============================] - 0s 247us/step - loss: 0.1591 - acc: 0.9727 - val_loss: 0.1934 - val_acc: 0.9636\n",
            "Epoch 167/250\n",
            "1097/1097 [==============================] - 0s 243us/step - loss: 0.1638 - acc: 0.9717 - val_loss: 0.1979 - val_acc: 0.9636\n",
            "Epoch 168/250\n",
            "1097/1097 [==============================] - 0s 250us/step - loss: 0.1585 - acc: 0.9736 - val_loss: 0.1999 - val_acc: 0.9636\n",
            "Epoch 169/250\n",
            "1097/1097 [==============================] - 0s 240us/step - loss: 0.1584 - acc: 0.9727 - val_loss: 0.2012 - val_acc: 0.9636\n",
            "Epoch 170/250\n",
            "1097/1097 [==============================] - 0s 244us/step - loss: 0.1577 - acc: 0.9699 - val_loss: 0.2059 - val_acc: 0.9636\n",
            "Epoch 171/250\n",
            "1097/1097 [==============================] - 0s 247us/step - loss: 0.1634 - acc: 0.9681 - val_loss: 0.1905 - val_acc: 0.9636\n",
            "Epoch 172/250\n",
            "1097/1097 [==============================] - 0s 241us/step - loss: 0.1585 - acc: 0.9717 - val_loss: 0.1859 - val_acc: 0.9636\n",
            "Epoch 173/250\n",
            "1097/1097 [==============================] - 0s 245us/step - loss: 0.1563 - acc: 0.9772 - val_loss: 0.1875 - val_acc: 0.9673\n",
            "Epoch 174/250\n",
            "1097/1097 [==============================] - 0s 245us/step - loss: 0.1640 - acc: 0.9644 - val_loss: 0.1880 - val_acc: 0.9673\n",
            "Epoch 175/250\n",
            "1097/1097 [==============================] - 0s 245us/step - loss: 0.1622 - acc: 0.9727 - val_loss: 0.1855 - val_acc: 0.9636\n",
            "Epoch 176/250\n",
            "1097/1097 [==============================] - 0s 239us/step - loss: 0.1629 - acc: 0.9745 - val_loss: 0.1825 - val_acc: 0.9636\n",
            "Epoch 177/250\n",
            "1097/1097 [==============================] - 0s 241us/step - loss: 0.1599 - acc: 0.9727 - val_loss: 0.1899 - val_acc: 0.9636\n",
            "Epoch 178/250\n",
            "1097/1097 [==============================] - 0s 247us/step - loss: 0.1606 - acc: 0.9699 - val_loss: 0.1954 - val_acc: 0.9636\n",
            "Epoch 179/250\n",
            "1097/1097 [==============================] - 0s 248us/step - loss: 0.1569 - acc: 0.9745 - val_loss: 0.2039 - val_acc: 0.9636\n",
            "Epoch 180/250\n",
            "1097/1097 [==============================] - 0s 240us/step - loss: 0.1604 - acc: 0.9727 - val_loss: 0.2157 - val_acc: 0.9600\n",
            "Epoch 181/250\n",
            "1097/1097 [==============================] - 0s 243us/step - loss: 0.1575 - acc: 0.9727 - val_loss: 0.2082 - val_acc: 0.9600\n",
            "Epoch 182/250\n",
            "1097/1097 [==============================] - 0s 249us/step - loss: 0.1586 - acc: 0.9708 - val_loss: 0.1971 - val_acc: 0.9636\n",
            "Epoch 183/250\n",
            "1097/1097 [==============================] - 0s 246us/step - loss: 0.1559 - acc: 0.9781 - val_loss: 0.1890 - val_acc: 0.9636\n",
            "Epoch 184/250\n",
            "1097/1097 [==============================] - 0s 239us/step - loss: 0.1673 - acc: 0.9672 - val_loss: 0.1863 - val_acc: 0.9673\n",
            "Epoch 185/250\n",
            "1097/1097 [==============================] - 0s 245us/step - loss: 0.1623 - acc: 0.9708 - val_loss: 0.1874 - val_acc: 0.9636\n",
            "Epoch 186/250\n",
            "1097/1097 [==============================] - 0s 246us/step - loss: 0.1566 - acc: 0.9699 - val_loss: 0.1850 - val_acc: 0.9636\n",
            "Epoch 187/250\n",
            "1097/1097 [==============================] - 0s 242us/step - loss: 0.1643 - acc: 0.9727 - val_loss: 0.1801 - val_acc: 0.9673\n",
            "Epoch 188/250\n",
            "1097/1097 [==============================] - 0s 241us/step - loss: 0.1616 - acc: 0.9745 - val_loss: 0.1932 - val_acc: 0.9673\n",
            "Epoch 189/250\n",
            "1097/1097 [==============================] - 0s 246us/step - loss: 0.1585 - acc: 0.9727 - val_loss: 0.1966 - val_acc: 0.9636\n",
            "Epoch 190/250\n",
            "1097/1097 [==============================] - 0s 247us/step - loss: 0.1565 - acc: 0.9763 - val_loss: 0.1942 - val_acc: 0.9636\n",
            "Epoch 191/250\n",
            "1097/1097 [==============================] - 0s 242us/step - loss: 0.1581 - acc: 0.9763 - val_loss: 0.1923 - val_acc: 0.9636\n",
            "Epoch 192/250\n",
            "1097/1097 [==============================] - 0s 242us/step - loss: 0.1635 - acc: 0.9708 - val_loss: 0.1848 - val_acc: 0.9673\n",
            "Epoch 193/250\n",
            "1097/1097 [==============================] - 0s 251us/step - loss: 0.1610 - acc: 0.9690 - val_loss: 0.1937 - val_acc: 0.9491\n",
            "Epoch 194/250\n",
            "1097/1097 [==============================] - 0s 246us/step - loss: 0.1536 - acc: 0.9745 - val_loss: 0.2122 - val_acc: 0.9309\n",
            "Epoch 195/250\n",
            "1097/1097 [==============================] - 0s 244us/step - loss: 0.1590 - acc: 0.9717 - val_loss: 0.2242 - val_acc: 0.9236\n",
            "Epoch 196/250\n",
            "1097/1097 [==============================] - 0s 240us/step - loss: 0.1561 - acc: 0.9763 - val_loss: 0.2222 - val_acc: 0.9236\n",
            "Epoch 197/250\n",
            "1097/1097 [==============================] - 0s 248us/step - loss: 0.1559 - acc: 0.9754 - val_loss: 0.2145 - val_acc: 0.9345\n",
            "Epoch 198/250\n",
            "1097/1097 [==============================] - 0s 242us/step - loss: 0.1530 - acc: 0.9763 - val_loss: 0.1988 - val_acc: 0.9491\n",
            "Epoch 199/250\n",
            "1097/1097 [==============================] - 0s 239us/step - loss: 0.1558 - acc: 0.9754 - val_loss: 0.1824 - val_acc: 0.9564\n",
            "Epoch 200/250\n",
            "1097/1097 [==============================] - 0s 238us/step - loss: 0.1546 - acc: 0.9754 - val_loss: 0.1753 - val_acc: 0.9600\n",
            "Epoch 201/250\n",
            "1097/1097 [==============================] - 0s 252us/step - loss: 0.1532 - acc: 0.9754 - val_loss: 0.1746 - val_acc: 0.9636\n",
            "Epoch 202/250\n",
            "1097/1097 [==============================] - 0s 241us/step - loss: 0.1599 - acc: 0.9681 - val_loss: 0.1759 - val_acc: 0.9636\n",
            "Epoch 203/250\n",
            "1097/1097 [==============================] - 0s 241us/step - loss: 0.1558 - acc: 0.9799 - val_loss: 0.1780 - val_acc: 0.9673\n",
            "Epoch 204/250\n",
            "1097/1097 [==============================] - 0s 246us/step - loss: 0.1537 - acc: 0.9745 - val_loss: 0.1817 - val_acc: 0.9600\n",
            "Epoch 205/250\n",
            "1097/1097 [==============================] - 0s 246us/step - loss: 0.1543 - acc: 0.9745 - val_loss: 0.1803 - val_acc: 0.9636\n",
            "Epoch 206/250\n",
            "1097/1097 [==============================] - 0s 242us/step - loss: 0.1539 - acc: 0.9727 - val_loss: 0.1799 - val_acc: 0.9673\n",
            "Epoch 207/250\n",
            "1097/1097 [==============================] - 0s 240us/step - loss: 0.1558 - acc: 0.9745 - val_loss: 0.1785 - val_acc: 0.9636\n",
            "Epoch 208/250\n",
            "1097/1097 [==============================] - 0s 250us/step - loss: 0.1601 - acc: 0.9717 - val_loss: 0.1814 - val_acc: 0.9636\n",
            "Epoch 209/250\n",
            "1097/1097 [==============================] - 0s 252us/step - loss: 0.1549 - acc: 0.9708 - val_loss: 0.1822 - val_acc: 0.9673\n",
            "Epoch 210/250\n",
            "1097/1097 [==============================] - 0s 250us/step - loss: 0.1540 - acc: 0.9763 - val_loss: 0.1760 - val_acc: 0.9636\n",
            "Epoch 211/250\n",
            "1097/1097 [==============================] - 0s 258us/step - loss: 0.1608 - acc: 0.9754 - val_loss: 0.1729 - val_acc: 0.9673\n",
            "Epoch 212/250\n",
            "1097/1097 [==============================] - 0s 260us/step - loss: 0.1509 - acc: 0.9754 - val_loss: 0.1746 - val_acc: 0.9673\n",
            "Epoch 213/250\n",
            "1097/1097 [==============================] - 0s 255us/step - loss: 0.1552 - acc: 0.9754 - val_loss: 0.1753 - val_acc: 0.9636\n",
            "Epoch 214/250\n",
            "1097/1097 [==============================] - 0s 253us/step - loss: 0.1533 - acc: 0.9781 - val_loss: 0.1766 - val_acc: 0.9673\n",
            "Epoch 215/250\n",
            "1097/1097 [==============================] - 0s 249us/step - loss: 0.1556 - acc: 0.9708 - val_loss: 0.1766 - val_acc: 0.9636\n",
            "Epoch 216/250\n",
            "1097/1097 [==============================] - 0s 257us/step - loss: 0.1549 - acc: 0.9799 - val_loss: 0.1725 - val_acc: 0.9673\n",
            "Epoch 217/250\n",
            "1097/1097 [==============================] - 0s 252us/step - loss: 0.1548 - acc: 0.9763 - val_loss: 0.1709 - val_acc: 0.9673\n",
            "Epoch 218/250\n",
            "1097/1097 [==============================] - 0s 251us/step - loss: 0.1530 - acc: 0.9754 - val_loss: 0.1702 - val_acc: 0.9636\n",
            "Epoch 219/250\n",
            "1097/1097 [==============================] - 0s 253us/step - loss: 0.1561 - acc: 0.9754 - val_loss: 0.1696 - val_acc: 0.9636\n",
            "Epoch 220/250\n",
            "1097/1097 [==============================] - 0s 249us/step - loss: 0.1529 - acc: 0.9763 - val_loss: 0.1719 - val_acc: 0.9600\n",
            "Epoch 221/250\n",
            "1097/1097 [==============================] - 0s 256us/step - loss: 0.1514 - acc: 0.9763 - val_loss: 0.1732 - val_acc: 0.9600\n",
            "Epoch 222/250\n",
            "1097/1097 [==============================] - 0s 248us/step - loss: 0.1521 - acc: 0.9754 - val_loss: 0.1742 - val_acc: 0.9564\n",
            "Epoch 223/250\n",
            "1097/1097 [==============================] - 0s 262us/step - loss: 0.1509 - acc: 0.9736 - val_loss: 0.1721 - val_acc: 0.9564\n",
            "Epoch 224/250\n",
            "1097/1097 [==============================] - 0s 250us/step - loss: 0.1593 - acc: 0.9736 - val_loss: 0.1721 - val_acc: 0.9600\n",
            "Epoch 225/250\n",
            "1097/1097 [==============================] - 0s 252us/step - loss: 0.1541 - acc: 0.9727 - val_loss: 0.1737 - val_acc: 0.9564\n",
            "Epoch 226/250\n",
            "1097/1097 [==============================] - 0s 251us/step - loss: 0.1591 - acc: 0.9672 - val_loss: 0.1748 - val_acc: 0.9564\n",
            "Epoch 227/250\n",
            "1097/1097 [==============================] - 0s 260us/step - loss: 0.1502 - acc: 0.9763 - val_loss: 0.1763 - val_acc: 0.9600\n",
            "Epoch 228/250\n",
            "1097/1097 [==============================] - 0s 249us/step - loss: 0.1524 - acc: 0.9736 - val_loss: 0.1734 - val_acc: 0.9636\n",
            "Epoch 229/250\n",
            "1097/1097 [==============================] - 0s 250us/step - loss: 0.1494 - acc: 0.9727 - val_loss: 0.1776 - val_acc: 0.9636\n",
            "Epoch 230/250\n",
            "1097/1097 [==============================] - 0s 255us/step - loss: 0.1562 - acc: 0.9699 - val_loss: 0.1797 - val_acc: 0.9709\n",
            "Epoch 231/250\n",
            "1097/1097 [==============================] - 0s 249us/step - loss: 0.1555 - acc: 0.9799 - val_loss: 0.1828 - val_acc: 0.9673\n",
            "Epoch 232/250\n",
            "1097/1097 [==============================] - 0s 248us/step - loss: 0.1534 - acc: 0.9736 - val_loss: 0.1798 - val_acc: 0.9636\n",
            "Epoch 233/250\n",
            "1097/1097 [==============================] - 0s 250us/step - loss: 0.1488 - acc: 0.9736 - val_loss: 0.1778 - val_acc: 0.9673\n",
            "Epoch 234/250\n",
            "1097/1097 [==============================] - 0s 253us/step - loss: 0.1527 - acc: 0.9772 - val_loss: 0.1748 - val_acc: 0.9673\n",
            "Epoch 235/250\n",
            "1097/1097 [==============================] - 0s 246us/step - loss: 0.1538 - acc: 0.9754 - val_loss: 0.1726 - val_acc: 0.9673\n",
            "Epoch 236/250\n",
            "1097/1097 [==============================] - 0s 252us/step - loss: 0.1532 - acc: 0.9727 - val_loss: 0.1751 - val_acc: 0.9673\n",
            "Epoch 237/250\n",
            "1097/1097 [==============================] - 0s 258us/step - loss: 0.1513 - acc: 0.9736 - val_loss: 0.1774 - val_acc: 0.9636\n",
            "Epoch 238/250\n",
            "1097/1097 [==============================] - 0s 263us/step - loss: 0.1533 - acc: 0.9781 - val_loss: 0.1783 - val_acc: 0.9636\n",
            "Epoch 239/250\n",
            "1097/1097 [==============================] - 0s 255us/step - loss: 0.1536 - acc: 0.9717 - val_loss: 0.1726 - val_acc: 0.9636\n",
            "Epoch 240/250\n",
            "1097/1097 [==============================] - 0s 249us/step - loss: 0.1564 - acc: 0.9727 - val_loss: 0.1717 - val_acc: 0.9673\n",
            "Epoch 241/250\n",
            "1097/1097 [==============================] - 0s 254us/step - loss: 0.1511 - acc: 0.9754 - val_loss: 0.1718 - val_acc: 0.9673\n",
            "Epoch 242/250\n",
            "1097/1097 [==============================] - 0s 252us/step - loss: 0.1489 - acc: 0.9727 - val_loss: 0.1722 - val_acc: 0.9673\n",
            "Epoch 243/250\n",
            "1097/1097 [==============================] - 0s 247us/step - loss: 0.1560 - acc: 0.9809 - val_loss: 0.1729 - val_acc: 0.9673\n",
            "Epoch 244/250\n",
            "1097/1097 [==============================] - 0s 245us/step - loss: 0.1526 - acc: 0.9772 - val_loss: 0.1753 - val_acc: 0.9673\n",
            "Epoch 245/250\n",
            "1097/1097 [==============================] - 0s 249us/step - loss: 0.1491 - acc: 0.9736 - val_loss: 0.1863 - val_acc: 0.9673\n",
            "Epoch 246/250\n",
            "1097/1097 [==============================] - 0s 241us/step - loss: 0.1505 - acc: 0.9708 - val_loss: 0.1916 - val_acc: 0.9673\n",
            "Epoch 247/250\n",
            "1097/1097 [==============================] - 0s 239us/step - loss: 0.1485 - acc: 0.9745 - val_loss: 0.1909 - val_acc: 0.9673\n",
            "Epoch 248/250\n",
            "1097/1097 [==============================] - 0s 244us/step - loss: 0.1528 - acc: 0.9745 - val_loss: 0.1873 - val_acc: 0.9673\n",
            "Epoch 249/250\n",
            "1097/1097 [==============================] - 0s 251us/step - loss: 0.1493 - acc: 0.9717 - val_loss: 0.1805 - val_acc: 0.9673\n",
            "Epoch 250/250\n",
            "1097/1097 [==============================] - 0s 239us/step - loss: 0.1533 - acc: 0.9754 - val_loss: 0.1770 - val_acc: 0.9673\n"
          ],
          "name": "stdout"
        }
      ]
    },
    {
      "metadata": {
        "id": "IMyOEExN8BKK",
        "colab_type": "code",
        "colab": {
          "base_uri": "https://localhost:8080/",
          "height": 425
        },
        "outputId": "819d3946-f571-4bfc-db9c-444d8efff65b"
      },
      "cell_type": "code",
      "source": [
        "print(\"\\n###################### Model Performance ############################\")\n",
        "# Make predictions \n",
        "y_pred = model.predict(x_test)\n",
        "\n",
        "# evaluate the model\n",
        "_, train_acc = model.evaluate(x_train, y_train, verbose=0)\n",
        "_, test_acc = model.evaluate(x_test, y_test, verbose=0)\n",
        "print('\\nTrain: %.3f, Test: %.3f' % (train_acc, test_acc))\n",
        "print(\"\\n#####################################################################\")\n",
        "\n",
        "#Classification report\n",
        "report = classification_report(y_test, y_pred.round(), target_names=['Prostate', 'Bladder', 'Left Fem', 'Right Fem', 'Rectum', 'Body'])\n",
        "print(\"\\nClassfication Report for test:\\n\", report)\n",
        "print(\"\\n#####################################################################\")"
      ],
      "execution_count": 229,
      "outputs": [
        {
          "output_type": "stream",
          "text": [
            "\n",
            "###################### Model Performance ############################\n",
            "\n",
            "Train: 0.987, Test: 0.977\n",
            "\n",
            "#####################################################################\n",
            "\n",
            "Classfication Report for test:\n",
            "               precision    recall  f1-score   support\n",
            "\n",
            "    Prostate       0.93      0.98      0.96        65\n",
            "     Bladder       0.47      1.00      0.64        58\n",
            "    Left Fem       1.00      0.94      0.97        48\n",
            "   Right Fem       0.98      0.98      0.98        54\n",
            "      Rectum       0.97      1.00      0.98        63\n",
            "        Body       0.95      1.00      0.97        56\n",
            "\n",
            "   micro avg       0.82      0.99      0.89       344\n",
            "   macro avg       0.88      0.98      0.92       344\n",
            "weighted avg       0.88      0.99      0.92       344\n",
            " samples avg       0.88      0.99      0.92       344\n",
            "\n",
            "\n",
            "#####################################################################\n"
          ],
          "name": "stdout"
        }
      ]
    },
    {
      "metadata": {
        "id": "lesRyNdQ9mCA",
        "colab_type": "text"
      },
      "cell_type": "markdown",
      "source": [
        "Example"
      ]
    },
    {
      "metadata": {
        "id": "AmwcneQC9m6t",
        "colab_type": "code",
        "colab": {
          "base_uri": "https://localhost:8080/",
          "height": 248
        },
        "outputId": "54fbd69d-ec0b-4a78-9ec3-888662d87173"
      },
      "cell_type": "code",
      "source": [
        "example = X_test[0]\n",
        "example = example.reshape(16,16,16)\n",
        "\n",
        "import matplotlib.pyplot as plt\n",
        "import numpy as np\n",
        "\n",
        "# This import registers the 3D projection, but is otherwise unused.\n",
        "from mpl_toolkits.mplot3d import Axes3D  # noqa: F401 unused import\n",
        "\n",
        "# and plot everything\n",
        "fig = plt.figure()\n",
        "ax = fig.gca(projection='3d')\n",
        "ax.voxels(r, g, b, example,\n",
        "          edgecolors=np.clip(2*colors - 0.5, 0, 1),  # brighter\n",
        "          linewidth=0.5)\n",
        "ax.set(xlabel='r', ylabel='g', zlabel='b')\n",
        "\n",
        "plt.show()"
      ],
      "execution_count": 228,
      "outputs": [
        {
          "output_type": "display_data",
          "data": {
            "image/png": "[encoded data removed]",
            "text/plain": [
              "<Figure size 432x288 with 1 Axes>"
            ]
          },
          "metadata": {
            "tags": []
          }
        }
      ]
    },
    {
      "metadata": {
        "id": "6FaHNF3K-fDQ",
        "colab_type": "code",
        "colab": {
          "base_uri": "https://localhost:8080/",
          "height": 248
        },
        "outputId": "41f0d3b2-ff36-4589-f9bd-e503960650c9"
      },
      "cell_type": "code",
      "source": [
        "example2 = X_test[1]\n",
        "example2 = example2.reshape(16,16,16)\n",
        "\n",
        "# and plot everything\n",
        "fig = plt.figure()\n",
        "ax = fig.gca(projection='3d')\n",
        "ax.voxels(r, g, b, example2,\n",
        "          edgecolors=np.clip(2*colors - 0.5, 0, 1),  # brighter\n",
        "          linewidth=0.5)\n",
        "ax.set(xlabel='r', ylabel='g', zlabel='b')\n",
        "\n",
        "plt.show()"
      ],
      "execution_count": 202,
      "outputs": [
        {
          "output_type": "display_data",
          "data": {
            "image/png": "[encoded data removed]",
            "text/plain": [
              "<Figure size 432x288 with 1 Axes>"
            ]
          },
          "metadata": {
            "tags": []
          }
        }
      ]
    },
    {
      "metadata": {
        "id": "Tf37A7qD9pUk",
        "colab_type": "code",
        "colab": {
          "base_uri": "https://localhost:8080/",
          "height": 34
        },
        "outputId": "eef56ab0-acf3-4438-cfaf-3e9ef0d395a2"
      },
      "cell_type": "code",
      "source": [
        "y_pred = model.predict(x_test[0:2,:,:])\n",
        "y_pred.round()[0]\n",
        "y_pred.round()[1]"
      ],
      "execution_count": 199,
      "outputs": [
        {
          "output_type": "execute_result",
          "data": {
            "text/plain": [
              "array([1., 0., 0., 0., 0., 0.], dtype=float32)"
            ]
          },
          "metadata": {
            "tags": []
          },
          "execution_count": 199
        }
      ]
    },
    {
      "metadata": {
        "id": "UiWyoA9j-6yf",
        "colab_type": "code",
        "colab": {}
      },
      "cell_type": "code",
      "source": [
        "test = np.array(([1,2,3],[4,5,6]))"
      ],
      "execution_count": 0,
      "outputs": []
    },
    {
      "metadata": {
        "id": "I07-UogPATTs",
        "colab_type": "code",
        "colab": {
          "base_uri": "https://localhost:8080/",
          "height": 136
        },
        "outputId": "0b03651e-17ac-4beb-aaac-6304b9829675"
      },
      "cell_type": "code",
      "source": [
        "test = test.reshape(2,3,1)\n",
        "test"
      ],
      "execution_count": 217,
      "outputs": [
        {
          "output_type": "execute_result",
          "data": {
            "text/plain": [
              "array([[[1],\n",
              "        [2],\n",
              "        [3]],\n",
              "\n",
              "       [[4],\n",
              "        [5],\n",
              "        [6]]])"
            ]
          },
          "metadata": {
            "tags": []
          },
          "execution_count": 217
        }
      ]
    },
    {
      "metadata": {
        "id": "rV6WxaKrAZLC",
        "colab_type": "code",
        "colab": {
          "base_uri": "https://localhost:8080/",
          "height": 34
        },
        "outputId": "3463afc2-8667-408a-e011-af1ffaf35807"
      },
      "cell_type": "code",
      "source": [
        "test.shape"
      ],
      "execution_count": 216,
      "outputs": [
        {
          "output_type": "execute_result",
          "data": {
            "text/plain": [
              "(2, 3, 1)"
            ]
          },
          "metadata": {
            "tags": []
          },
          "execution_count": 216
        }
      ]
    }
  ]
}