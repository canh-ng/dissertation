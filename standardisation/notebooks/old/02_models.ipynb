{
 "cells": [
  {
   "cell_type": "markdown",
   "metadata": {
    "colab_type": "text",
    "id": "2xXTPhZrchZV"
   },
   "source": [
    "\n",
    "\n",
    "---\n",
    "\n"
   ]
  },
  {
   "cell_type": "markdown",
   "metadata": {
    "colab_type": "text",
    "id": "aORnQfZ1lNl7"
   },
   "source": [
    "# HDAT9900: Dissertation (Part 2)\n"
   ]
  },
  {
   "cell_type": "markdown",
   "metadata": {
    "colab_type": "text",
    "id": "zdcTJpW581Hp"
   },
   "source": [
    "#### Google Colab"
   ]
  },
  {
   "cell_type": "code",
   "execution_count": 3,
   "metadata": {
    "colab": {
     "base_uri": "https://localhost:8080/",
     "height": 34
    },
    "colab_type": "code",
    "id": "mcAq12QOx-gj",
    "outputId": "52cd6b39-6f62-4c18-a8fb-4ae9fdc490e9"
   },
   "outputs": [
    {
     "name": "stdout",
     "output_type": "stream",
     "text": [
      "Mounted at /content/drive/\n"
     ]
    }
   ],
   "source": [
    "from google.colab import drive\n",
    "drive.mount('/content/drive/', force_remount=True)"
   ]
  },
  {
   "cell_type": "code",
   "execution_count": 5,
   "metadata": {
    "colab": {
     "base_uri": "https://localhost:8080/",
     "height": 51
    },
    "colab_type": "code",
    "id": "1y3Oivcqx-_9",
    "outputId": "9f3fb690-d5a8-4ed4-bd3d-b0bdddbdeaff"
   },
   "outputs": [
    {
     "name": "stdout",
     "output_type": "stream",
     "text": [
      "[Errno 2] No such file or directory: 'drive'\n",
      "/content/drive\n"
     ]
    }
   ],
   "source": [
    "# Change directory and link to google drive\n",
    "cd drive"
   ]
  },
  {
   "cell_type": "code",
   "execution_count": 6,
   "metadata": {
    "colab": {
     "base_uri": "https://localhost:8080/",
     "height": 34
    },
    "colab_type": "code",
    "id": "p8e3G1Stx_B0",
    "outputId": "f03c0afb-dc67-41ae-e145-a6f478894a25"
   },
   "outputs": [
    {
     "name": "stdout",
     "output_type": "stream",
     "text": [
      "/content/drive/My Drive\n"
     ]
    }
   ],
   "source": [
    "cd My Drive"
   ]
  },
  {
   "cell_type": "code",
   "execution_count": 7,
   "metadata": {
    "colab": {
     "base_uri": "https://localhost:8080/",
     "height": 34
    },
    "colab_type": "code",
    "id": "Y17dtIGFx_Dk",
    "outputId": "e0c7f5f4-e691-4e1d-8eef-d69d4028a334"
   },
   "outputs": [
    {
     "name": "stdout",
     "output_type": "stream",
     "text": [
      "/content/drive/My Drive/5_Code\n"
     ]
    }
   ],
   "source": [
    "cd 5_Code"
   ]
  },
  {
   "cell_type": "code",
   "execution_count": 8,
   "metadata": {
    "colab": {
     "base_uri": "https://localhost:8080/",
     "height": 80
    },
    "colab_type": "code",
    "id": "HSY0SyHbyG0k",
    "outputId": "4b56fed9-b5fe-4d1d-e1a9-03052d14247f"
   },
   "outputs": [
    {
     "name": "stdout",
     "output_type": "stream",
     "text": [
      "01-prepare-data.ipynb  \u001b[0m\u001b[01;34mdata\u001b[0m/      \u001b[01;34mplan-violation\u001b[0m/  standardisation.ipynb\n",
      "02-models.ipynb        model.png  \u001b[01;34m__pycache__\u001b[0m/     \u001b[01;34mtests\u001b[0m/\n"
     ]
    }
   ],
   "source": [
    "ls"
   ]
  },
  {
   "cell_type": "markdown",
   "metadata": {
    "colab_type": "text",
    "id": "IJX4J85c84Iu"
   },
   "source": [
    "#### Dependencies"
   ]
  },
  {
   "cell_type": "code",
   "execution_count": 2,
   "metadata": {
    "colab": {
     "base_uri": "https://localhost:8080/",
     "height": 74
    },
    "colab_type": "code",
    "id": "TJRInNzdlS3k",
    "outputId": "58d73c26-02c9-4231-8207-34c1eefb8b4e"
   },
   "outputs": [
    {
     "data": {
      "text/plain": [
       "'\\n#cnn\\nfrom keras.optimizers import Adam\\nfrom keras.layers import Conv3D, MaxPool3D, Flatten, Dense\\nfrom keras.layers import Dropout, BatchNormalization\\n\\n# rnn\\nfrom keras.preprocessing.text import Tokenizer\\nfrom keras.preprocessing.sequence import pad_sequences\\nfrom keras.layers import Dense, Embedding, LSTM, SpatialDropout1D\\nfrom keras.callbacks import EarlyStopping\\n\\n# combined model\\nfrom keras.utils import plot_model\\n\\n# evaluation\\nfrom sklearn.metrics import accuracy_score\\nfrom sklearn.metrics import classification_report\\n\\n# Set seed\\nseeds = 0\\n'"
      ]
     },
     "execution_count": 2,
     "metadata": {},
     "output_type": "execute_result"
    }
   ],
   "source": [
    "import numpy as np\n",
    "import pandas as pd\n",
    "\n",
    "#cnn\n",
    "from keras.optimizers import Adam\n",
    "from keras.layers import Conv3D, MaxPool3D, Flatten, Dense\n",
    "from keras.layers import Dropout, BatchNormalization\n",
    "\n",
    "# rnn\n",
    "from keras.preprocessing.text import Tokenizer\n",
    "from keras.preprocessing.sequence import pad_sequences\n",
    "from keras.layers import Dense, Embedding, LSTM, SpatialDropout1D\n",
    "from keras.callbacks import EarlyStopping\n",
    "\n",
    "# combined model\n",
    "from keras.utils import plot_model\n",
    "\n",
    "# evaluation\n",
    "from sklearn.metrics import accuracy_score\n",
    "from sklearn.metrics import classification_report\n",
    "\n",
    "# Set seed\n",
    "seeds = 0"
   ]
  },
  {
   "cell_type": "markdown",
   "metadata": {
    "colab_type": "text",
    "id": "2frW3IJ_LNNI"
   },
   "source": [
    "## 2. Build Models\n",
    "\n",
    "Let's load the data that we prepared in part 1. We will also reshape the voxel data from a flattened 7698x4096 to a 3D voxel structure of height x width x depth x channels (16x16x16x1).\n",
    "\n",
    "### 2.1. Load data"
   ]
  },
  {
   "cell_type": "code",
   "execution_count": 81,
   "metadata": {
    "colab": {
     "base_uri": "https://localhost:8080/",
     "height": 170
    },
    "colab_type": "code",
    "id": "9o-UaVG2xoLV",
    "outputId": "931434cb-7521-4319-b1d5-11d353c77272"
   },
   "outputs": [
    {
     "name": "stdout",
     "output_type": "stream",
     "text": [
      "Found 24 unique tokens.\n",
      "CNN train shape: \t (5773, 16, 16, 16, 1)\n",
      "RNN train shape: \t (5773, 5)\n",
      "Label train shape: \t (5773, 18)\n",
      "\n",
      "\n",
      "CNN test shape: \t (1925, 16, 16, 16, 1)\n",
      "RNN test shape: \t (1925, 5)\n",
      "Label test shape: \t (1925, 18)\n"
     ]
    }
   ],
   "source": [
    "# 2.1. load data -------------------------------------------------------------------\n",
    "filenames_y = pd.read_csv('data/processed/dataset2labelsorgansclean.csv')\n",
    "X_cnn = np.load('data/processed/dataset2voxels16.npy')\n",
    "X_rnn = filenames_y['organs']\n",
    "#y_orig = filenames_y['class7']\n",
    "#k=8\n",
    "y_orig = filenames_y['class13'] # actually 18 different organs\n",
    "k=18\n",
    "\n",
    "# 2.1.2. prepare cnn data ------------------------------------------------------------\n",
    "size = 16\n",
    "h, w, d = size, size, size\n",
    "c = 1  # Channels 1 = grey scale, 3 = colour\n",
    "\n",
    "#taking random indices to split the dataset into train and test\n",
    "test_ids = np.random.permutation(X_cnn.shape[0])\n",
    "\n",
    "#splitting data and labels into train and test\n",
    "#keeping last 10 entries for testing, rest for training\n",
    "\n",
    "X_train_cnn = X_cnn[test_ids[:-int(np.ceil(X_cnn.shape[0]*0.25))]]\n",
    "X_test_cnn = X_cnn[test_ids[-int(np.ceil(X_cnn.shape[0]*0.25)):]]\n",
    "\n",
    "X_train_cnn = X_train_cnn.reshape(X_train_cnn.shape[0], h, w, d, c)\n",
    "X_test_cnn = X_test_cnn.reshape(X_test_cnn.shape[0], h, w, d, c)\n",
    "\n",
    "# 2.1.3. prepare rnn data ---------------------------------------------------------\n",
    "\n",
    "MAX_NB_CHARS = 26\n",
    "MAX_SEQUENCE_LENGTH = 5\n",
    "EMBEDDING_DIM = 20\n",
    "\n",
    "# 2.1.3.1 Tokenize the data\n",
    "tokenizer = Tokenizer(num_words=MAX_NB_CHARS,\n",
    "                      filters='!\"#$%&()*+,-./:;<=>?@[\\]^_`{|}~', lower=True,\n",
    "                      char_level=True)\n",
    "tokenizer.fit_on_texts(y_orig)\n",
    "word_index = tokenizer.word_index\n",
    "print('Found %s unique tokens.' % len(word_index))\n",
    "\n",
    "X_rnn = tokenizer.texts_to_sequences(y_orig)\n",
    "X_rnn = pad_sequences(X_rnn, maxlen=MAX_SEQUENCE_LENGTH)\n",
    "X_train_rnn = X_rnn[test_ids[:-int(np.ceil(X_cnn.shape[0]*0.25))]]\n",
    "X_test_rnn = X_rnn[test_ids[-int(np.ceil(X_cnn.shape[0]*0.25)):]]\n",
    "\n",
    "# 2.1.4. prepare the labels ------------------------------------------------------\n",
    "y = pd.get_dummies(y_orig).values\n",
    "# last 75/25 split\n",
    "y_train = y[test_ids[:-int(np.ceil(X_cnn.shape[0]*0.25))]]\n",
    "y_test = y[test_ids[-int(np.ceil(X_cnn.shape[0]*0.25)):]]\n",
    "# tags\n",
    "my_tags = sorted([i for i in set(y_orig)])\n",
    "\n",
    "# 2.1.5. checks -----------------------------------------------------------------\n",
    "print(\"CNN train shape: \\t\", X_train_cnn.shape)\n",
    "print(\"RNN train shape: \\t\", X_train_rnn.shape)\n",
    "print(\"Label train shape: \\t\", y_train.shape)\n",
    "print(\"\\n\")\n",
    "print(\"CNN test shape: \\t\", X_test_cnn.shape)\n",
    "print(\"RNN test shape: \\t\", X_test_rnn.shape)\n",
    "print(\"Label test shape: \\t\", y_test.shape)"
   ]
  },
  {
   "cell_type": "markdown",
   "metadata": {
    "colab_type": "text",
    "id": "tcpa-lMAxoLX"
   },
   "source": [
    "---\n",
    "### 2. 2. 1. 3D Convolutional Neural Network (CNN)\n",
    "\n",
    "Description of CNN. "
   ]
  },
  {
   "cell_type": "code",
   "execution_count": 0,
   "metadata": {
    "colab": {},
    "colab_type": "code",
    "id": "FZKhqsUMxoLY"
   },
   "outputs": [],
   "source": [
    "# ==============================================================================\n",
    "# 2.2.1. Convolutional Neural Network\n",
    "# ==============================================================================\n",
    "\n",
    "def CNN(X_train, X_test, y_train, y_test, k, my_tags):\n",
    "    \n",
    "    # Hyper parameters ---------------------------------------------------------\n",
    "    max_epochs = 25\n",
    "    batch_size = 128\n",
    "    dropout_rate=0.5\n",
    "\n",
    "    # Optimizers\n",
    "    # from keras.optimizers import SGD\n",
    "    # opt = Adadelta(lr=0.001)\n",
    "    opt = Adam(lr=0.01, decay=0.7)\n",
    "    # opt = SGD(lr=0.001, momentum=0.9)\n",
    "\n",
    "    # Model Architecture -------------------------------------------------------\n",
    "    \n",
    "    model = Sequential()\n",
    "    # Convolution layers\n",
    "    model.add(Conv3D(filters=8, kernel_size=(3, 3, 3), activation='relu',\\\n",
    "                     input_shape=(h, w, d, c)))\n",
    "    model.add(Conv3D(filters=16, kernel_size=(3, 3, 3), activation='relu'))\n",
    "    # Add max pooling to obtain the most informative features\n",
    "    model.add(MaxPool3D(pool_size=(2, 2, 2)))\n",
    "\n",
    "    # Convolution layers\n",
    "    model.add(Conv3D(filters=32, kernel_size=(3, 3, 3), activation='relu'))\n",
    "    model.add(Conv3D(filters=64, kernel_size=(3, 3, 3), activation='relu'))\n",
    "    # Add max pooling to obtain the most informative features\n",
    "    model.add(MaxPool3D(pool_size=(2, 2, 2)))\n",
    "\n",
    "    # perform batch normalization on the convolution outputs before\n",
    "    # feeding it to MLP architecture\n",
    "    model.add(BatchNormalization())\n",
    "    model.add(Flatten())\n",
    "\n",
    "    # create an MLP architecture with dense layers : 4096 -> 512 -> 10\n",
    "    # add dropouts to avoid over-fitting / perform regularization\n",
    "    model.add(Dense(units=(h*w*d), activation='relu'))\n",
    "    model.add(Dropout(dropout_rate))\n",
    "    model.add(BatchNormalization())\n",
    "    model.add(Dense(units=512, activation='relu'))\n",
    "    model.add(Dropout(dropout_rate))\n",
    "    model.add(BatchNormalization())\n",
    "    model.add(Dense(units=k, activation='softmax'))\n",
    "\n",
    "    # Compile\n",
    "    model.compile(loss='categorical_crossentropy', optimizer=opt, \\\n",
    "                  metrics=['accuracy'])\n",
    "    model.summary()\n",
    "\n",
    "    print(\"\\n####################### Training Model #############################\")\n",
    "    print(\"Training...\")\n",
    "    history = model.fit(x=X_train, y=y_train,\n",
    "                        batch_size=batch_size,\n",
    "                        epochs=max_epochs,\n",
    "                        validation_split=0.1,\n",
    "                        verbose=1)\n",
    "\n",
    "    # ==========================================================================\n",
    "    # 3. Results\n",
    "    # ==========================================================================\n",
    "    print(\"###################################################################\")\n",
    "    print(\"\\nResults:\\n\")\n",
    "    accr = model.evaluate(X_test, y_test)\n",
    "    print('Test set\\n  Loss: {:0.3f}\\n  Accuracy: {:0.3f}'.format(accr[0],\n",
    "                                                                  accr[1]))\n",
    "    print(\"-------------------------------------------------------------------\")\n",
    "    plt.title('Loss')\n",
    "    plt.plot(history.history['loss'], label='train')\n",
    "    plt.plot(history.history['val_loss'], label='test')\n",
    "    plt.legend()\n",
    "    plt.show();\n",
    "\n",
    "    plt.title('Accuracy')\n",
    "    plt.plot(history.history['acc'], label='train')\n",
    "    plt.plot(history.history['val_acc'], label='test')\n",
    "    plt.legend()\n",
    "    plt.show();\n",
    "    print(\"###################################################################\")\n",
    "    \n",
    "    # Make predictions \n",
    "    y_pred = model.predict(X_test)\n",
    "\n",
    "    # evaluate the model\n",
    "    _, train_acc = model.evaluate(X_train, y_train, verbose=0)\n",
    "    _, test_acc = model.evaluate(X_test, y_test, verbose=0)\n",
    "    print('\\nTrain: %.3f, Test: %.3f' % (train_acc, test_acc))\n",
    "    print(\"\\n####################################################################\")\n",
    "\n",
    "    # Classification report\n",
    "    report = classification_report(y_test, y_pred.round(), target_names=my_tags)\n",
    "    #report = classification_report(y_test, y_pred.round())\n",
    "    print(\"\\nClassfication Report for test:\\n\", report)\n",
    "    print(\"\\n####################################################################\")\n",
    "    \n",
    "    return(model, report)\n",
    "\n"
   ]
  },
  {
   "cell_type": "markdown",
   "metadata": {
    "colab_type": "text",
    "id": "2S_jzNnuxoLa"
   },
   "source": [
    "---\n",
    "### Document classification (Recurrent Neural Network)\n",
    "\n",
    "In order to improve the performance of our model, we will also utilise the name of which the clinician named the 3D file (organ). This name will then be fed into the NN to give further information.\n",
    "\n",
    "Help: https://towardsdatascience.com/machine-learning-nlp-text-classification-using-scikit-learn-python-and-nltk-c52b92a7c73a\n",
    "\n",
    "\n",
    "\"Recurrent Neural Networks (RNNs) adopt the same principle, albeit in an extremely simplified version: they process sequences by iterating through the sequence elements and maintaining a \"state\" containing information relative to what they have seen so far. In effect, RNNs are a type of neural network that has an internal loop (Figure 6.8). The state of the RNN is reset in-between processing two different, independent sequences (e.g. two different IMDB reviews), so we still consider one sequence as a single datapoint, a single input to the network—what changes is that this datapoint is no longer processed in a single step, rather, the network internally loops over sequence elements. \" \n",
    "\n",
    "### LSTM for name classification\n",
    "\n",
    "Based on the filename of the organ named by the clinician, we will create a Recurrent Neural Network (RNN) using the Long Short Term Memory (LSTM) architecture to predict what the organ is. \n",
    "\n",
    "* Vectorize file names by turning each word into either a sequence of integers or into a vector.\n",
    "* Limit the data set to the top 1000 words.\n",
    "* Set the max number of words in each file to 20."
   ]
  },
  {
   "cell_type": "code",
   "execution_count": 0,
   "metadata": {
    "colab": {},
    "colab_type": "code",
    "id": "leJkmP9AxoLa"
   },
   "outputs": [],
   "source": [
    "def rnn(X_train, X_test, Y_train, Y_test, k, my_tags):\n",
    "    print(\"Building Document Classifier... \\n\")\n",
    "    # 0. Hyperparameters -------------------------------------------------------\n",
    "    # The maximum number of words to be used\n",
    "    MAX_NB_WORDS = 26\n",
    "\n",
    "    # Max number of words in each file name\n",
    "    MAX_SEQUENCE_LENGTH = 5\n",
    "\n",
    "    # This is fixed.\n",
    "    EMBEDDING_DIM = 20\n",
    "\n",
    "    epochs = 25\n",
    "    batch_size = 32\n",
    "\n",
    "    '''\n",
    "    # 1. Tokenize the data -----------------------------------------------------\n",
    "    tokenizer = Tokenizer(num_words=MAX_NB_WORDS, filters='!\"#$%&()*+,-./:;<=>?@[\\]^_`{|}~', lower=True, char_level=True)\n",
    "    tokenizer.fit_on_texts(name_df['synthetic'].values)\n",
    "    word_index = tokenizer.word_index\n",
    "    print('Found %s unique tokens.' % len(word_index))\n",
    "\n",
    "    X = tokenizer.texts_to_sequences(name_df['synthetic'].values)\n",
    "    X = pad_sequences(X, maxlen=MAX_SEQUENCE_LENGTH)\n",
    "    print('Shape of data tensor:', X.shape)\n",
    "\n",
    "    Y = pd.get_dummies(name_df['tags']).values\n",
    "    print('Shape of label tensor:', Y.shape)\n",
    "\n",
    "    # 2. Split the data --------------------------------------------------------\n",
    "    X_train, X_test, Y_train, Y_test = train_test_split(X,Y, test_size = 0.10, random_state = 42)\n",
    "    print(X_train.shape,Y_train.shape)\n",
    "    print(X_test.shape,Y_test.shape)\n",
    "\n",
    "    '''\n",
    "    # 3. Build the model -------------------------------------------------------\n",
    "    model = Sequential()\n",
    "    model.add(Embedding(MAX_NB_WORDS, EMBEDDING_DIM, input_length=X_train.shape[1]))\n",
    "    model.add(SpatialDropout1D(0.2))\n",
    "    model.add(LSTM(100, dropout=0.2, recurrent_dropout=0.2))\n",
    "    # add dense layer to add to cnn\n",
    "    model.add(Dense(k, activation='softmax'))\n",
    "    model.compile(loss='categorical_crossentropy', optimizer='adam',\n",
    "                  metrics=['accuracy'])\n",
    "    print(model.summary())\n",
    "    history = model.fit(X_train, Y_train, epochs=epochs, batch_size=batch_size,\n",
    "                        validation_split=0.1,\n",
    "                        callbacks=[EarlyStopping(monitor='val_loss',\n",
    "                                                 patience=3, min_delta=0.0001)])\n",
    "\n",
    "    # 4. Results ---------------------------------------------------------------\n",
    "    print(\"###################################################################\")\n",
    "    print(\"\\nResults:\\n\")\n",
    "    accr = model.evaluate(X_test, Y_test)\n",
    "    print('Test set\\n  Loss: {:0.3f}\\n  Accuracy: {:0.3f}'.format(accr[0],\n",
    "                                                                  accr[1]))\n",
    "    print(\"-------------------------------------------------------------------\")\n",
    "    plt.title('Loss')\n",
    "    plt.plot(history.history['loss'], label='train')\n",
    "    plt.plot(history.history['val_loss'], label='test')\n",
    "    plt.legend()\n",
    "    plt.show();\n",
    "\n",
    "    plt.title('Accuracy')\n",
    "    plt.plot(history.history['acc'], label='train')\n",
    "    plt.plot(history.history['val_acc'], label='test')\n",
    "    plt.legend()\n",
    "    plt.show();\n",
    "    \n",
    "    # Make predictions \n",
    "    y_pred = model.predict(X_test)\n",
    "    report = classification_report(y_test, y_pred.round(), target_names=my_tags)\n",
    "    print(\"\\nClassfication Report for test:\\n\", report)\n",
    "    print(\"###################################################################\")\n",
    "    \n",
    "    return(model)"
   ]
  },
  {
   "cell_type": "markdown",
   "metadata": {
    "colab_type": "text",
    "id": "ZwniD3bqxoLc"
   },
   "source": [
    "---\n",
    "### Combined (CNN + RNN)\n",
    "\n",
    "We want to create a model that takes the organ structure from the ply for the CNN and add information from the predicted RNN to help the model become more accurate. \n",
    "\n",
    "This model will take the 3D model of the organ and its filename and learn about the two concurrently. "
   ]
  },
  {
   "cell_type": "code",
   "execution_count": 0,
   "metadata": {
    "colab": {},
    "colab_type": "code",
    "id": "AnBWeTE6xoLc"
   },
   "outputs": [],
   "source": [
    "from keras.layers import Conv3D, MaxPooling3D, Flatten\n",
    "from keras.layers import Input, LSTM, Embedding, Dense\n",
    "from keras.models import Model, Sequential\n",
    "import keras\n",
    "import matplotlib.pyplot as plt\n",
    "\n",
    "def standardisation_model(X_train_cnn, X_train_rnn, X_test_cnn, X_test_rnn, y_train, y_test, k, my_tags):\n",
    "    \n",
    "    # Hyperparameters ----------------------------------------------------------\n",
    "    dropout_rate=0.5\n",
    "    epochs=25\n",
    "    batch_size=128\n",
    "    \n",
    "    # First, let's define a vision model using a Sequential model.\n",
    "    # This model will encode an image into a vector.\n",
    "    vision_model = Sequential()\n",
    "    vision_model.add(Conv3D(filters=8, kernel_size=(3, 3, 3), activation='relu', input_shape=(h, w, d, c)))\n",
    "    vision_model.add(Conv3D(filters=16, kernel_size=(3, 3, 3), activation='relu'))\n",
    "    vision_model.add(MaxPool3D(pool_size=(2, 2, 2)))\n",
    "    vision_model.add(Conv3D(filters=32, kernel_size=(3, 3, 3), activation='relu'))\n",
    "    vision_model.add(Conv3D(filters=64, kernel_size=(3, 3, 3), activation='relu'))\n",
    "    vision_model.add(MaxPool3D(pool_size=(2, 2, 2)))\n",
    "    vision_model.add(BatchNormalization())\n",
    "    vision_model.add(Flatten())\n",
    "    vision_model.add(Dense(units=(h*w*d), activation='relu'))\n",
    "    vision_model.add(Dropout(dropout_rate))\n",
    "    vision_model.add(BatchNormalization())\n",
    "    vision_model.add(Dense(units=512, activation='relu'))\n",
    "    vision_model.add(Dropout(dropout_rate))\n",
    "    vision_model.add(BatchNormalization())\n",
    "\n",
    "    # Now let's get a tensor with the output of our vision model:\n",
    "    cnn_inputs = Input(shape=(h, w, d, c))\n",
    "    encoded_image = vision_model(cnn_inputs)\n",
    "\n",
    "    # Next, let's define a language model to encode the filename into a vector.\n",
    "    # Each filename will be at most 20 characters long,\n",
    "    # and we will index words as integers from 1 to 99.\n",
    "    filename_inputs = Input(shape=(MAX_SEQUENCE_LENGTH,), dtype='int32')\n",
    "    embedded_filename = Embedding(input_dim=MAX_NB_CHARS, output_dim=MAX_SEQUENCE_LENGTH, input_length=MAX_SEQUENCE_LENGTH)(filename_inputs)\n",
    "    embedded_filename = SpatialDropout1D(0.2)(embedded_filename)\n",
    "    encoded_filename = LSTM(100)(embedded_filename)\n",
    "\n",
    "    # Let's concatenate the filename vector and the image vector:\n",
    "    merged = keras.layers.concatenate([encoded_filename, encoded_image])\n",
    "\n",
    "    # And let's train a logistic regression over 100 words on top:\n",
    "    output = Dense(k, activation='softmax')(merged)\n",
    "\n",
    "    # This is our final model:\n",
    "    vqa_model = Model(inputs=[cnn_inputs, filename_inputs], outputs=output)\n",
    "\n",
    "    vqa_model.compile(loss='categorical_crossentropy', optimizer='adam',\n",
    "                      metrics=['accuracy'])\n",
    "    vqa_model.summary()\n",
    "    \n",
    "    history = vqa_model.fit([X_train_cnn, X_train_rnn], y_train,\n",
    "                        epochs=epochs,\n",
    "                        batch_size=batch_size,\n",
    "                        validation_split=0.1,\n",
    "                        callbacks=[EarlyStopping(monitor='val_loss',\n",
    "                                                 patience=3, \n",
    "                                                 min_delta=0.0001)])\n",
    "    plot_model(vqa_model, to_file='model.png')\n",
    "\n",
    "    print(\"###################################################################\")\n",
    "    print(\"\\nResults:\\n\")\n",
    "    accr = vqa_model.evaluate([X_test_cnn, X_test_rnn], y_test)\n",
    "    print('Test set\\n  Loss: {:0.3f}\\n  Accuracy: {:0.3f}'.format(accr[0],\n",
    "                                                                  accr[1]))\n",
    "    # Plot training & validation loss values\n",
    "    plt.plot(history.history['loss'])\n",
    "    plt.plot(history.history['val_loss'])\n",
    "    plt.title('Model loss')\n",
    "    plt.ylabel('Loss')\n",
    "    plt.xlabel('Epoch')\n",
    "    plt.legend(['Train', 'Test'], loc='upper left')\n",
    "    plt.show()\n",
    "\n",
    "    # Plot training & validation accuracy values\n",
    "    plt.plot(history.history['acc'])\n",
    "    plt.plot(history.history['val_acc'])\n",
    "    plt.title('Model accuracy')\n",
    "    plt.ylabel('Accuracy')\n",
    "    plt.xlabel('Epoch')\n",
    "    plt.legend(['Train', 'Test'], loc='upper left')\n",
    "    plt.show()\n",
    "    \n",
    "    # Make predictions \n",
    "    y_pred = vqa_model.predict([X_test_cnn, X_test_rnn])\n",
    "    report = classification_report(y_test, y_pred.round(), target_names=my_tags)\n",
    "    print(\"\\nClassfication Report for test:\\n\", report)\n",
    "    print(\"###################################################################\")\n",
    "    return(vqa_model)"
   ]
  },
  {
   "cell_type": "markdown",
   "metadata": {
    "colab_type": "text",
    "id": "94zQPusHYP4f"
   },
   "source": [
    "---\n",
    "### Build Reference Model (KNN)\n",
    "\n",
    "The reference model is a k-nearest-neighbours model. \n",
    "\n",
    "Description"
   ]
  },
  {
   "cell_type": "code",
   "execution_count": 0,
   "metadata": {
    "colab": {},
    "colab_type": "code",
    "id": "VbtsAb3DexFu"
   },
   "outputs": [],
   "source": [
    "# ==============================================================================\n",
    "# KNN Reference model\n",
    "# ==============================================================================\n",
    "\n",
    "def knn(X,y):\n",
    "    '''\n",
    "    This is a reference model for the dissertation-standardisation task\n",
    "    The dimensionality for the feature set currently is (1716, 4096)\n",
    "    Where each row represents an organ of which has been reshaped into a 1d V\n",
    "    Performance will be compared to a 3D convolutional neural network\n",
    "    '''\n",
    "    print(\"\\n####################################################################\")\n",
    "    print(\"Building KNN Reference Model\")\n",
    "\n",
    "    # Dependencies ------------------------------------------------------------\n",
    "    import numpy as np\n",
    "    from sklearn.metrics import classification_report\n",
    "    # Load data ---------------------------------------------------------------\n",
    "    print(\"Loading data...\")\n",
    "    print('X shape is: ', X.shape)\n",
    "    print('y shape is: ', y.shape)\n",
    "    \n",
    "    # Split the data ----------------------------------------------------------\n",
    "    print(\"Splitting the data...\")\n",
    "    from sklearn.model_selection import train_test_split\n",
    "    #split data into 1: train+validation set and 2: test set \n",
    "    X_train, X_test, y_train, y_test = train_test_split(X, y, random_state=seeds, test_size=0.25)\n",
    "    \n",
    "\n",
    "    # Build model -------------------------------------------------------------\n",
    "    print(\"Building model...\")\n",
    "    from sklearn.neighbors import KNeighborsClassifier\n",
    "    knn = KNeighborsClassifier()\n",
    "    print(\"Training model...\")\n",
    "    knn.fit(X_train, y_train)\n",
    "    y_pred = knn.predict(X_test)\n",
    "    \n",
    "    # Evaluation --------------------------------------------------------------\n",
    "    print(\"Evaluation -------------------------------------------------------\")\n",
    "    print(\"Test set score: {:.2f}\".format(knn.score(X_test, y_test)))\n",
    "    #Classification report ----------------------------------------------------\n",
    "    report = classification_report(y_test, y_pred.round(),\\\n",
    "                                   target_names=my_tags)\n",
    "    print(\"\\nClassfication Report for test:\\n\", report)\n",
    "    print(\"\\n####################################################################\")\n",
    "    return(knn, report)\n"
   ]
  },
  {
   "cell_type": "markdown",
   "metadata": {
    "colab_type": "text",
    "id": "fIsk-lGPdU3Y"
   },
   "source": [
    "### Run Models"
   ]
  },
  {
   "cell_type": "code",
   "execution_count": 86,
   "metadata": {
    "colab": {
     "base_uri": "https://localhost:8080/",
     "height": 1000
    },
    "colab_type": "code",
    "id": "83VcefDUJ7ny",
    "outputId": "fa8f058d-1614-4f49-8f8a-014b1f1bf22e"
   },
   "outputs": [
    {
     "name": "stdout",
     "output_type": "stream",
     "text": [
      "_________________________________________________________________\n",
      "Layer (type)                 Output Shape              Param #   \n",
      "=================================================================\n",
      "conv3d_47 (Conv3D)           (None, 14, 14, 14, 8)     224       \n",
      "_________________________________________________________________\n",
      "conv3d_48 (Conv3D)           (None, 12, 12, 12, 16)    3472      \n",
      "_________________________________________________________________\n",
      "max_pooling3d_23 (MaxPooling (None, 6, 6, 6, 16)       0         \n",
      "_________________________________________________________________\n",
      "conv3d_49 (Conv3D)           (None, 4, 4, 4, 32)       13856     \n",
      "_________________________________________________________________\n",
      "conv3d_50 (Conv3D)           (None, 2, 2, 2, 64)       55360     \n",
      "_________________________________________________________________\n",
      "max_pooling3d_24 (MaxPooling (None, 1, 1, 1, 64)       0         \n",
      "_________________________________________________________________\n",
      "batch_normalization_34 (Batc (None, 1, 1, 1, 64)       256       \n",
      "_________________________________________________________________\n",
      "flatten_12 (Flatten)         (None, 64)                0         \n",
      "_________________________________________________________________\n",
      "dense_37 (Dense)             (None, 4096)              266240    \n",
      "_________________________________________________________________\n",
      "dropout_23 (Dropout)         (None, 4096)              0         \n",
      "_________________________________________________________________\n",
      "batch_normalization_35 (Batc (None, 4096)              16384     \n",
      "_________________________________________________________________\n",
      "dense_38 (Dense)             (None, 512)               2097664   \n",
      "_________________________________________________________________\n",
      "dropout_24 (Dropout)         (None, 512)               0         \n",
      "_________________________________________________________________\n",
      "batch_normalization_36 (Batc (None, 512)               2048      \n",
      "_________________________________________________________________\n",
      "dense_39 (Dense)             (None, 18)                9234      \n",
      "=================================================================\n",
      "Total params: 2,464,738\n",
      "Trainable params: 2,455,394\n",
      "Non-trainable params: 9,344\n",
      "_________________________________________________________________\n",
      "\n",
      "####################### Training Model #############################\n",
      "Training...\n",
      "Train on 5195 samples, validate on 578 samples\n",
      "Epoch 1/25\n",
      "5195/5195 [==============================] - 6s 1ms/step - loss: 1.9154 - acc: 0.4108 - val_loss: 1.3813 - val_acc: 0.5346\n",
      "Epoch 2/25\n",
      "5195/5195 [==============================] - 1s 174us/step - loss: 1.5365 - acc: 0.4995 - val_loss: 1.3530 - val_acc: 0.5329\n",
      "Epoch 3/25\n",
      "5195/5195 [==============================] - 1s 178us/step - loss: 1.4088 - acc: 0.5328 - val_loss: 1.2883 - val_acc: 0.5657\n",
      "Epoch 4/25\n",
      "5195/5195 [==============================] - 1s 176us/step - loss: 1.3466 - acc: 0.5615 - val_loss: 1.2319 - val_acc: 0.6003\n",
      "Epoch 5/25\n",
      "5195/5195 [==============================] - 1s 176us/step - loss: 1.3226 - acc: 0.5669 - val_loss: 1.1861 - val_acc: 0.6142\n",
      "Epoch 6/25\n",
      "5195/5195 [==============================] - 1s 178us/step - loss: 1.2721 - acc: 0.5754 - val_loss: 1.1633 - val_acc: 0.6263\n",
      "Epoch 7/25\n",
      "5195/5195 [==============================] - 1s 177us/step - loss: 1.2653 - acc: 0.5854 - val_loss: 1.1439 - val_acc: 0.6298\n",
      "Epoch 8/25\n",
      "5195/5195 [==============================] - 1s 177us/step - loss: 1.2202 - acc: 0.5944 - val_loss: 1.1284 - val_acc: 0.6298\n",
      "Epoch 9/25\n",
      "5195/5195 [==============================] - 1s 175us/step - loss: 1.2032 - acc: 0.5992 - val_loss: 1.1213 - val_acc: 0.6298\n",
      "Epoch 10/25\n",
      "5195/5195 [==============================] - 1s 173us/step - loss: 1.1925 - acc: 0.5967 - val_loss: 1.1172 - val_acc: 0.6280\n",
      "Epoch 11/25\n",
      "5195/5195 [==============================] - 1s 175us/step - loss: 1.1776 - acc: 0.6038 - val_loss: 1.0970 - val_acc: 0.6384\n",
      "Epoch 12/25\n",
      "5195/5195 [==============================] - 1s 176us/step - loss: 1.1855 - acc: 0.6075 - val_loss: 1.0903 - val_acc: 0.6436\n",
      "Epoch 13/25\n",
      "5195/5195 [==============================] - 1s 176us/step - loss: 1.1928 - acc: 0.6092 - val_loss: 1.0815 - val_acc: 0.6540\n",
      "Epoch 14/25\n",
      "5195/5195 [==============================] - 1s 173us/step - loss: 1.1805 - acc: 0.6123 - val_loss: 1.0675 - val_acc: 0.6592\n",
      "Epoch 15/25\n",
      "5195/5195 [==============================] - 1s 175us/step - loss: 1.1529 - acc: 0.6085 - val_loss: 1.0658 - val_acc: 0.6644\n",
      "Epoch 16/25\n",
      "5195/5195 [==============================] - 1s 177us/step - loss: 1.1504 - acc: 0.6156 - val_loss: 1.0633 - val_acc: 0.6644\n",
      "Epoch 17/25\n",
      "5195/5195 [==============================] - 1s 175us/step - loss: 1.1761 - acc: 0.6083 - val_loss: 1.0556 - val_acc: 0.6678\n",
      "Epoch 18/25\n",
      "5195/5195 [==============================] - 1s 174us/step - loss: 1.1253 - acc: 0.6321 - val_loss: 1.0541 - val_acc: 0.6644\n",
      "Epoch 19/25\n",
      "5195/5195 [==============================] - 1s 174us/step - loss: 1.1393 - acc: 0.6175 - val_loss: 1.0513 - val_acc: 0.6661\n",
      "Epoch 20/25\n",
      "5195/5195 [==============================] - 1s 175us/step - loss: 1.1316 - acc: 0.6268 - val_loss: 1.0515 - val_acc: 0.6678\n",
      "Epoch 21/25\n",
      "5195/5195 [==============================] - 1s 175us/step - loss: 1.1296 - acc: 0.6273 - val_loss: 1.0430 - val_acc: 0.6696\n",
      "Epoch 22/25\n",
      "5195/5195 [==============================] - 1s 173us/step - loss: 1.1076 - acc: 0.6293 - val_loss: 1.0406 - val_acc: 0.6678\n",
      "Epoch 23/25\n",
      "5195/5195 [==============================] - 1s 174us/step - loss: 1.0904 - acc: 0.6321 - val_loss: 1.0413 - val_acc: 0.6696\n",
      "Epoch 24/25\n",
      "5195/5195 [==============================] - 1s 174us/step - loss: 1.1163 - acc: 0.6239 - val_loss: 1.0391 - val_acc: 0.6592\n",
      "Epoch 25/25\n",
      "5195/5195 [==============================] - 1s 176us/step - loss: 1.1025 - acc: 0.6279 - val_loss: 1.0392 - val_acc: 0.6574\n",
      "###################################################################\n",
      "\n",
      "Results:\n",
      "\n",
      "1925/1925 [==============================] - 0s 122us/step\n",
      "Test set\n",
      "  Loss: 0.959\n",
      "  Accuracy: 0.681\n",
      "-------------------------------------------------------------------\n"
     ]
    },
    {
     "data": {
      "image/png": "[encoded data removed]",
      "text/plain": [
       "<Figure size 432x288 with 1 Axes>"
      ]
     },
     "metadata": {
      "tags": []
     },
     "output_type": "display_data"
    },
    {
     "data": {
      "image/png": "[encoded data removed]",
      "text/plain": [
       "<Figure size 432x288 with 1 Axes>"
      ]
     },
     "metadata": {
      "tags": []
     },
     "output_type": "display_data"
    },
    {
     "name": "stdout",
     "output_type": "stream",
     "text": [
      "###################################################################\n",
      "\n",
      "Train: 0.672, Test: 0.681\n",
      "\n",
      "####################################################################\n",
      "\n",
      "Classfication Report for test:\n",
      "                     precision    recall  f1-score   support\n",
      "\n",
      "              Apex       0.00      0.00      0.00         5\n",
      "           Bladder       0.69      0.68      0.68        81\n",
      "     Bladder noisy       0.00      0.00      0.00        50\n",
      "              Body       0.96      0.99      0.97        69\n",
      "               CTV       0.65      0.46      0.54       269\n",
      "             Crura       0.00      0.00      0.00         7\n",
      "      Femoral head       0.98      0.93      0.95        55\n",
      " Femoral head left       0.95      0.97      0.96        75\n",
      "Femoral head right       0.98      0.94      0.96        66\n",
      "               GTV       0.00      0.00      0.00        25\n",
      "          Hydrogel       0.00      0.00      0.00         9\n",
      "             Other       0.76      0.46      0.57       656\n",
      "          Prostate       0.55      0.17      0.26       123\n",
      "    Prostate noisy       0.00      0.00      0.00        60\n",
      "            Rectum       0.62      0.55      0.58        91\n",
      "      Rectum noisy       0.67      0.23      0.34       146\n",
      "        Tolerance1       0.96      0.97      0.96        70\n",
      "        Tolerance2       0.96      0.96      0.96        68\n",
      "\n",
      "         micro avg       0.78      0.51      0.61      1925\n",
      "         macro avg       0.54      0.46      0.49      1925\n",
      "      weighted avg       0.69      0.51      0.57      1925\n",
      "       samples avg       0.51      0.51      0.51      1925\n",
      "\n",
      "\n",
      "####################################################################\n"
     ]
    },
    {
     "name": "stderr",
     "output_type": "stream",
     "text": [
      "/usr/local/lib/python3.6/dist-packages/sklearn/metrics/classification.py:1437: UndefinedMetricWarning: Precision and F-score are ill-defined and being set to 0.0 in labels with no predicted samples.\n",
      "  'precision', 'predicted', average, warn_for)\n",
      "/usr/local/lib/python3.6/dist-packages/sklearn/metrics/classification.py:1437: UndefinedMetricWarning: Precision and F-score are ill-defined and being set to 0.0 in samples with no predicted labels.\n",
      "  'precision', 'predicted', average, warn_for)\n"
     ]
    }
   ],
   "source": [
    "cnn, cnn_report = CNN(X_train_cnn, X_test_cnn, y_train, y_test, k, my_tags = my_tags)"
   ]
  },
  {
   "cell_type": "code",
   "execution_count": 87,
   "metadata": {
    "colab": {
     "base_uri": "https://localhost:8080/",
     "height": 1000
    },
    "colab_type": "code",
    "id": "CNE1IwfQLegY",
    "outputId": "aa30d6bc-f22f-4dbd-ecf8-235e0ff5f193"
   },
   "outputs": [
    {
     "name": "stdout",
     "output_type": "stream",
     "text": [
      "Building Document Classifier... \n",
      "\n",
      "_________________________________________________________________\n",
      "Layer (type)                 Output Shape              Param #   \n",
      "=================================================================\n",
      "embedding_9 (Embedding)      (None, 5, 20)             520       \n",
      "_________________________________________________________________\n",
      "spatial_dropout1d_9 (Spatial (None, 5, 20)             0         \n",
      "_________________________________________________________________\n",
      "lstm_9 (LSTM)                (None, 100)               48400     \n",
      "_________________________________________________________________\n",
      "dense_40 (Dense)             (None, 18)                1818      \n",
      "=================================================================\n",
      "Total params: 50,738\n",
      "Trainable params: 50,738\n",
      "Non-trainable params: 0\n",
      "_________________________________________________________________\n",
      "None\n",
      "Train on 5195 samples, validate on 578 samples\n",
      "Epoch 1/25\n",
      "5195/5195 [==============================] - 8s 2ms/step - loss: 1.7428 - acc: 0.5039 - val_loss: 0.9178 - val_acc: 0.7578\n",
      "Epoch 2/25\n",
      "5195/5195 [==============================] - 3s 498us/step - loss: 0.5051 - acc: 0.8437 - val_loss: 0.2264 - val_acc: 0.9256\n",
      "Epoch 3/25\n",
      "5195/5195 [==============================] - 3s 489us/step - loss: 0.2047 - acc: 0.9247 - val_loss: 0.1495 - val_acc: 0.9429\n",
      "Epoch 4/25\n",
      "5195/5195 [==============================] - 3s 483us/step - loss: 0.1552 - acc: 0.9359 - val_loss: 0.1375 - val_acc: 0.9446\n",
      "Epoch 5/25\n",
      "5195/5195 [==============================] - 3s 488us/step - loss: 0.1459 - acc: 0.9351 - val_loss: 0.1321 - val_acc: 0.9446\n",
      "Epoch 6/25\n",
      "5195/5195 [==============================] - 3s 484us/step - loss: 0.1388 - acc: 0.9376 - val_loss: 0.1298 - val_acc: 0.9446\n",
      "Epoch 7/25\n",
      "5195/5195 [==============================] - 2s 480us/step - loss: 0.1367 - acc: 0.9371 - val_loss: 0.1397 - val_acc: 0.9446\n",
      "Epoch 8/25\n",
      "5195/5195 [==============================] - 2s 480us/step - loss: 0.1385 - acc: 0.9376 - val_loss: 0.1342 - val_acc: 0.9446\n",
      "Epoch 9/25\n",
      "5195/5195 [==============================] - 3s 482us/step - loss: 0.1366 - acc: 0.9372 - val_loss: 0.1312 - val_acc: 0.9446\n",
      "###################################################################\n",
      "\n",
      "Results:\n",
      "\n",
      "1925/1925 [==============================] - 0s 176us/step\n",
      "Test set\n",
      "  Loss: 0.136\n",
      "  Accuracy: 0.943\n",
      "-------------------------------------------------------------------\n"
     ]
    },
    {
     "data": {
      "image/png": "[encoded data removed]",
      "text/plain": [
       "<Figure size 432x288 with 1 Axes>"
      ]
     },
     "metadata": {
      "tags": []
     },
     "output_type": "display_data"
    },
    {
     "data": {
      "image/png": "[encoded data removed]",
      "text/plain": [
       "<Figure size 432x288 with 1 Axes>"
      ]
     },
     "metadata": {
      "tags": []
     },
     "output_type": "display_data"
    },
    {
     "name": "stdout",
     "output_type": "stream",
     "text": [
      "\n",
      "Classfication Report for test:\n",
      "                     precision    recall  f1-score   support\n",
      "\n",
      "              Apex       1.00      1.00      1.00         5\n",
      "           Bladder       1.00      1.00      1.00        81\n",
      "     Bladder noisy       0.00      0.00      0.00        50\n",
      "              Body       1.00      1.00      1.00        69\n",
      "               CTV       1.00      1.00      1.00       269\n",
      "             Crura       1.00      1.00      1.00         7\n",
      "      Femoral head       1.00      1.00      1.00        55\n",
      " Femoral head left       1.00      1.00      1.00        75\n",
      "Femoral head right       1.00      1.00      1.00        66\n",
      "               GTV       1.00      1.00      1.00        25\n",
      "          Hydrogel       1.00      1.00      1.00         9\n",
      "             Other       1.00      1.00      1.00       656\n",
      "          Prostate       1.00      1.00      1.00       123\n",
      "    Prostate noisy       0.00      0.00      0.00        60\n",
      "            Rectum       1.00      1.00      1.00        91\n",
      "      Rectum noisy       0.57      1.00      0.73       146\n",
      "        Tolerance1       1.00      1.00      1.00        70\n",
      "        Tolerance2       1.00      1.00      1.00        68\n",
      "\n",
      "         micro avg       0.94      0.94      0.94      1925\n",
      "         macro avg       0.87      0.89      0.87      1925\n",
      "      weighted avg       0.91      0.94      0.92      1925\n",
      "       samples avg       0.94      0.94      0.94      1925\n",
      "\n",
      "###################################################################\n"
     ]
    },
    {
     "name": "stderr",
     "output_type": "stream",
     "text": [
      "/usr/local/lib/python3.6/dist-packages/sklearn/metrics/classification.py:1437: UndefinedMetricWarning: Precision and F-score are ill-defined and being set to 0.0 in labels with no predicted samples.\n",
      "  'precision', 'predicted', average, warn_for)\n"
     ]
    }
   ],
   "source": [
    "rnn = rnn(X_train_rnn, X_test_rnn, y_train, y_test, k, my_tags=my_tags)"
   ]
  },
  {
   "cell_type": "code",
   "execution_count": 88,
   "metadata": {
    "colab": {
     "base_uri": "https://localhost:8080/",
     "height": 1000
    },
    "colab_type": "code",
    "id": "CI-aqLBdLikl",
    "outputId": "3974c87b-2bb1-4687-f2f4-44e44726d636"
   },
   "outputs": [
    {
     "name": "stdout",
     "output_type": "stream",
     "text": [
      "__________________________________________________________________________________________________\n",
      "Layer (type)                    Output Shape         Param #     Connected to                     \n",
      "==================================================================================================\n",
      "input_12 (InputLayer)           (None, 5)            0                                            \n",
      "__________________________________________________________________________________________________\n",
      "embedding_10 (Embedding)        (None, 5, 5)         130         input_12[0][0]                   \n",
      "__________________________________________________________________________________________________\n",
      "spatial_dropout1d_10 (SpatialDr (None, 5, 5)         0           embedding_10[0][0]               \n",
      "__________________________________________________________________________________________________\n",
      "input_11 (InputLayer)           (None, 16, 16, 16, 1 0                                            \n",
      "__________________________________________________________________________________________________\n",
      "lstm_10 (LSTM)                  (None, 100)          42400       spatial_dropout1d_10[0][0]       \n",
      "__________________________________________________________________________________________________\n",
      "sequential_18 (Sequential)      (None, 512)          2455504     input_11[0][0]                   \n",
      "__________________________________________________________________________________________________\n",
      "concatenate_6 (Concatenate)     (None, 612)          0           lstm_10[0][0]                    \n",
      "                                                                 sequential_18[1][0]              \n",
      "__________________________________________________________________________________________________\n",
      "dense_43 (Dense)                (None, 18)           11034       concatenate_6[0][0]              \n",
      "==================================================================================================\n",
      "Total params: 2,509,068\n",
      "Trainable params: 2,499,724\n",
      "Non-trainable params: 9,344\n",
      "__________________________________________________________________________________________________\n",
      "Train on 5195 samples, validate on 578 samples\n",
      "Epoch 1/25\n",
      "5195/5195 [==============================] - 8s 2ms/step - loss: 1.6159 - acc: 0.5143 - val_loss: 1.0825 - val_acc: 0.6522\n",
      "Epoch 2/25\n",
      "5195/5195 [==============================] - 1s 238us/step - loss: 0.7278 - acc: 0.7694 - val_loss: 0.5025 - val_acc: 0.8408\n",
      "Epoch 3/25\n",
      "5195/5195 [==============================] - 1s 238us/step - loss: 0.4195 - acc: 0.8724 - val_loss: 0.4096 - val_acc: 0.8616\n",
      "Epoch 4/25\n",
      "5195/5195 [==============================] - 1s 238us/step - loss: 0.3031 - acc: 0.9038 - val_loss: 0.3757 - val_acc: 0.8841\n",
      "Epoch 5/25\n",
      "5195/5195 [==============================] - 1s 237us/step - loss: 0.2230 - acc: 0.9253 - val_loss: 0.2877 - val_acc: 0.8979\n",
      "Epoch 6/25\n",
      "5195/5195 [==============================] - 1s 236us/step - loss: 0.1509 - acc: 0.9536 - val_loss: 0.2398 - val_acc: 0.9221\n",
      "Epoch 7/25\n",
      "5195/5195 [==============================] - 1s 237us/step - loss: 0.1199 - acc: 0.9627 - val_loss: 0.2549 - val_acc: 0.8979\n",
      "Epoch 8/25\n",
      "5195/5195 [==============================] - 1s 236us/step - loss: 0.0978 - acc: 0.9700 - val_loss: 0.2008 - val_acc: 0.9343\n",
      "Epoch 9/25\n",
      "5195/5195 [==============================] - 1s 240us/step - loss: 0.0870 - acc: 0.9707 - val_loss: 0.2291 - val_acc: 0.9221\n",
      "Epoch 10/25\n",
      "5195/5195 [==============================] - 1s 241us/step - loss: 0.0709 - acc: 0.9757 - val_loss: 0.1624 - val_acc: 0.9498\n",
      "Epoch 11/25\n",
      "5195/5195 [==============================] - 1s 240us/step - loss: 0.0495 - acc: 0.9827 - val_loss: 0.1274 - val_acc: 0.9585\n",
      "Epoch 12/25\n",
      "5195/5195 [==============================] - 1s 238us/step - loss: 0.0429 - acc: 0.9856 - val_loss: 0.1748 - val_acc: 0.9412\n",
      "Epoch 13/25\n",
      "5195/5195 [==============================] - 1s 241us/step - loss: 0.0403 - acc: 0.9869 - val_loss: 0.2134 - val_acc: 0.9308\n",
      "Epoch 14/25\n",
      "5195/5195 [==============================] - 1s 240us/step - loss: 0.0469 - acc: 0.9846 - val_loss: 0.1633 - val_acc: 0.9550\n",
      "###################################################################\n",
      "\n",
      "Results:\n",
      "\n",
      "1925/1925 [==============================] - 0s 234us/step\n",
      "Test set\n",
      "  Loss: 0.135\n",
      "  Accuracy: 0.958\n"
     ]
    },
    {
     "data": {
      "image/png": "[encoded data removed]",
      "text/plain": [
       "<Figure size 432x288 with 1 Axes>"
      ]
     },
     "metadata": {
      "tags": []
     },
     "output_type": "display_data"
    },
    {
     "data": {
      "image/png": "[encoded data removed]",
      "text/plain": [
       "<Figure size 432x288 with 1 Axes>"
      ]
     },
     "metadata": {
      "tags": []
     },
     "output_type": "display_data"
    },
    {
     "name": "stdout",
     "output_type": "stream",
     "text": [
      "\n",
      "Classfication Report for test:\n",
      "                     precision    recall  f1-score   support\n",
      "\n",
      "              Apex       0.67      0.80      0.73         5\n",
      "           Bladder       0.89      0.96      0.92        81\n",
      "     Bladder noisy       0.72      0.82      0.77        50\n",
      "              Body       0.96      1.00      0.98        69\n",
      "               CTV       0.95      0.92      0.94       269\n",
      "             Crura       1.00      0.57      0.73         7\n",
      "      Femoral head       0.96      1.00      0.98        55\n",
      " Femoral head left       0.94      1.00      0.97        75\n",
      "Femoral head right       1.00      0.98      0.99        66\n",
      "               GTV       0.87      0.52      0.65        25\n",
      "          Hydrogel       1.00      0.89      0.94         9\n",
      "             Other       1.00      1.00      1.00       656\n",
      "          Prostate       0.99      0.93      0.96       123\n",
      "    Prostate noisy       0.92      0.93      0.93        60\n",
      "            Rectum       0.95      0.98      0.96        91\n",
      "      Rectum noisy       0.96      0.91      0.93       146\n",
      "        Tolerance1       1.00      0.93      0.96        70\n",
      "        Tolerance2       0.96      1.00      0.98        68\n",
      "\n",
      "         micro avg       0.96      0.96      0.96      1925\n",
      "         macro avg       0.93      0.90      0.91      1925\n",
      "      weighted avg       0.96      0.96      0.96      1925\n",
      "       samples avg       0.96      0.96      0.96      1925\n",
      "\n",
      "###################################################################\n"
     ]
    },
    {
     "name": "stderr",
     "output_type": "stream",
     "text": [
      "/usr/local/lib/python3.6/dist-packages/sklearn/metrics/classification.py:1437: UndefinedMetricWarning: Precision and F-score are ill-defined and being set to 0.0 in samples with no predicted labels.\n",
      "  'precision', 'predicted', average, warn_for)\n"
     ]
    }
   ],
   "source": [
    "final_model = standardisation_model(X_train_cnn, X_train_rnn, X_test_cnn, X_test_rnn, y_train, y_test, k, my_tags=my_tags)"
   ]
  },
  {
   "cell_type": "markdown",
   "metadata": {
    "colab_type": "text",
    "id": "S8VjaarJl2Qk"
   },
   "source": [
    "# The End"
   ]
  }
 ],
 "metadata": {
  "accelerator": "GPU",
  "colab": {
   "collapsed_sections": [],
   "name": "02-models.ipynb",
   "provenance": [],
   "version": "0.3.2"
  },
  "kernelspec": {
   "display_name": "Python 3",
   "language": "python",
   "name": "python3"
  },
  "language_info": {
   "codemirror_mode": {
    "name": "ipython",
    "version": 3
   },
   "file_extension": ".py",
   "mimetype": "text/x-python",
   "name": "python",
   "nbconvert_exporter": "python",
   "pygments_lexer": "ipython3",
   "version": "3.7.1"
  }
 },
 "nbformat": 4,
 "nbformat_minor": 1
}
