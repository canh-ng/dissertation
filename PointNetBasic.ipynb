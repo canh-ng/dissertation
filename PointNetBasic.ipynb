{
  "nbformat": 4,
  "nbformat_minor": 0,
  "metadata": {
    "colab": {
      "name": "PointNetBasic.ipynb",
      "version": "0.3.2",
      "provenance": [],
      "collapsed_sections": []
    },
    "kernelspec": {
      "name": "python3",
      "display_name": "Python 3"
    },
    "accelerator": "GPU"
  },
  "cells": [
    {
      "metadata": {
        "colab_type": "text",
        "id": "LIspKaMirwJS"
      },
      "cell_type": "markdown",
      "source": [
        "# Prediction of radiotherapy plan violation from spatial arrangement of target and organ at risk structures using deep learning\n",
        "\n",
        "_By Phillip Hungerford,  University of New South Wales_\n",
        "\n",
        "## PointNet Basic Model Testing"
      ]
    },
    {
      "metadata": {
        "id": "Fsxb3os-4W3X",
        "colab_type": "code",
        "outputId": "5c7ee094-1732-4b43-ae1f-9d2a28b9c78b",
        "colab": {
          "base_uri": "https://localhost:8080/",
          "height": 106
        }
      },
      "cell_type": "code",
      "source": [
        "from google.colab import drive\n",
        "drive.mount('/content/drive')\n",
        "\n",
        "!cd drive\n",
        "\n",
        "!cd My Drive\n",
        "\n",
        "!cd Dissertation/5_Code/1_code\n",
        "\n",
        "!ls"
      ],
      "execution_count": 6,
      "outputs": [
        {
          "output_type": "stream",
          "text": [
            "Drive already mounted at /content/drive; to attempt to forcibly remount, call drive.mount(\"/content/drive\", force_remount=True).\n",
            "/bin/bash: line 0: cd: too many arguments\n",
            "/bin/bash: line 0: cd: Dissertation/5_Code/1_code: No such file or directory\n",
            "drive  sample_data\n"
          ],
          "name": "stdout"
        }
      ]
    },
    {
      "metadata": {
        "id": "Yp4c1K8Xu8c1",
        "colab_type": "code",
        "outputId": "41d1bf18-6dc3-4f9c-ace5-11c5e7cc8671",
        "colab": {
          "base_uri": "https://localhost:8080/",
          "height": 35
        }
      },
      "cell_type": "code",
      "source": [
        "cd drive"
      ],
      "execution_count": 7,
      "outputs": [
        {
          "output_type": "stream",
          "text": [
            "/content/drive\n"
          ],
          "name": "stdout"
        }
      ]
    },
    {
      "metadata": {
        "id": "cn8b40kp4tvq",
        "colab_type": "code",
        "outputId": "7d69f792-300e-4dfd-caa2-181a58f41d4c",
        "colab": {
          "base_uri": "https://localhost:8080/",
          "height": 35
        }
      },
      "cell_type": "code",
      "source": [
        "cd My Drive"
      ],
      "execution_count": 8,
      "outputs": [
        {
          "output_type": "stream",
          "text": [
            "/content/drive/My Drive\n"
          ],
          "name": "stdout"
        }
      ]
    },
    {
      "metadata": {
        "id": "LpwwnHlD4y0t",
        "colab_type": "code",
        "outputId": "0b013ded-88b0-4e1e-f419-a44534cb7149",
        "colab": {
          "base_uri": "https://localhost:8080/",
          "height": 35
        }
      },
      "cell_type": "code",
      "source": [
        "cd Dissertation/5_Code/1_code"
      ],
      "execution_count": 9,
      "outputs": [
        {
          "output_type": "stream",
          "text": [
            "/content/drive/My Drive/Dissertation/5_Code/1_code\n"
          ],
          "name": "stdout"
        }
      ]
    },
    {
      "metadata": {
        "id": "_F8QMAjB5e_Y",
        "colab_type": "code",
        "outputId": "94b369c7-0920-4246-dffd-11e0c5937862",
        "colab": {
          "base_uri": "https://localhost:8080/",
          "height": 225
        }
      },
      "cell_type": "code",
      "source": [
        "ls"
      ],
      "execution_count": 10,
      "outputs": [
        {
          "output_type": "stream",
          "text": [
            " 3D_medical_visualisation_script.py   my_model4096.h5\n",
            " data_prep.py                         original-voxel-model.ipynb\n",
            "'EDA&PreProcessing.ipynb'             plot.png\n",
            " keras-test.ipynb                     PointNetBasic.ipynb\n",
            " model_1024.h5                        PointNetFull.ipynb\n",
            " my_model10204D.h5                    \u001b[0m\u001b[01;34m__pycache__\u001b[0m/\n",
            " my_model1024xyzl.h5                  tf_util.py\n",
            " my_model_16_16_16.h5                 trainHistoryDict3768\n",
            " my_model20454D.h5                    train.py\n",
            " my_model31404D.h5                    voxel-model.ipynb\n",
            " my_model3140.h5                      voxels.ipynb\n",
            " my_model3768.h5                      weights.h5\n"
          ],
          "name": "stdout"
        }
      ]
    },
    {
      "metadata": {
        "colab_type": "text",
        "id": "MXQrflMUTLhf"
      },
      "cell_type": "markdown",
      "source": [
        "### 3.1. Install Dependencies"
      ]
    },
    {
      "metadata": {
        "id": "1q1g6uXG47wi",
        "colab_type": "code",
        "colab": {}
      },
      "cell_type": "code",
      "source": [
        "# for reading the ply files \n",
        "import numpy as np\n",
        "\n",
        "# To time \n",
        "import time"
      ],
      "execution_count": 0,
      "outputs": []
    },
    {
      "metadata": {
        "id": "xEya6kiCVAY2",
        "colab_type": "text"
      },
      "cell_type": "markdown",
      "source": [
        "# PointNet Basic\n"
      ]
    },
    {
      "metadata": {
        "id": "DY3DUvTctfmy",
        "colab_type": "text"
      },
      "cell_type": "markdown",
      "source": [
        "## Model 2: Extra-column (n,1024,4) -> (x,y,z,l)."
      ]
    },
    {
      "metadata": {
        "id": "iCtjaz87F9v7",
        "colab_type": "code",
        "outputId": "fe5668a3-0105-4451-c3a1-a3cee342f986",
        "colab": {
          "base_uri": "https://localhost:8080/",
          "height": 1527
        }
      },
      "cell_type": "code",
      "source": [
        "################################################################################\n",
        "import numpy as np\n",
        "\n",
        "# fix random seed for reproducibility\n",
        "seeds=61\n",
        "from numpy.random import seed\n",
        "import random\n",
        "random.seed(seeds)\n",
        "seed(seeds)\n",
        "\n",
        "from tensorflow import set_random_seed\n",
        "set_random_seed(1)\n",
        "################################################################################\n",
        "# Load 3768 data \n",
        "# num_points=3768\n",
        "# X = np.load('../2_pipeline/3768-body-xyzl.npy')\n",
        "\n",
        "# Load 3140 data that excludes the body\n",
        "num_points=3140\n",
        "X = np.load('../2_pipeline/3140-xyzl.npy')\n",
        "y = np.load('../2_pipeline/labels.npy')\n",
        "\n",
        "from sklearn.model_selection import train_test_split\n",
        "\n",
        "#split data into 1: train+validation set and 2: test set \n",
        "X_train_val, X_test, y_train_val, y_test = \\\n",
        "train_test_split(X, y, random_state=0, test_size=0.2)\n",
        "\n",
        "# split train+validation set into 1a) training and 1b) validation sets\n",
        "X_train, X_val, y_train, y_val = \\\n",
        "train_test_split(X_train_val, y_train_val, random_state=1, test_size=0.2)\n",
        "\n",
        "#from keras.utils import to_categorical\n",
        "#y_test = to_categorical(y_test)\n",
        "#y_train = to_categorical(y_train)\n",
        "\n",
        "print('Training shape is: ', X_train.shape)\n",
        "print('Validation shape is: ', X_val.shape)\n",
        "print('Test shape is: ', X_test.shape)\n",
        "\n",
        "################################################################################\n",
        "# Basic PointNet Keras\n",
        "################################################################################\n",
        "# Import dependencies\n",
        "import numpy as np\n",
        "import os\n",
        "import tensorflow as tf\n",
        "from keras.models import Sequential\n",
        "from keras.layers import Dense, MaxPooling1D, Convolution1D, Dropout, Flatten, BatchNormalization\n",
        "from keras.optimizers import SGD\n",
        "################################################################################\n",
        "# Hyperparameters \n",
        "max_epochs=200\n",
        "batch_size=32\n",
        "dropout_rate = 0.5\n",
        "opt = 'adam'\n",
        "#opt = SGD(lr=0.0001, momentum=0.9)\n",
        "\n",
        "# Class weights\n",
        "class_weight = {0: 0.2,\n",
        "                1: 0.8}\n",
        "################################################################################\n",
        "### POINTNET ARCHITECTURE\n",
        "################################################################################\n",
        "# Point functions (MLP implemented as conv1d)\n",
        "model = Sequential()\n",
        "model.add(Convolution1D(64, 1, input_shape=(num_points, 4), activation='relu'))\n",
        "model.add(BatchNormalization())\n",
        "model.add(Convolution1D(64, 1, activation='relu'))\n",
        "model.add(BatchNormalization())\n",
        "model.add(Convolution1D(64, 1, activation='relu'))\n",
        "model.add(BatchNormalization())\n",
        "model.add(Convolution1D(128, 1, activation='relu'))\n",
        "model.add(BatchNormalization())\n",
        "model.add(Convolution1D(1024, 1, activation='relu'))\n",
        "model.add(BatchNormalization())\n",
        "\n",
        "# Symmetric function: max pooling\n",
        "model.add(MaxPooling1D(pool_size=num_points))\n",
        "\n",
        "#fully connected\n",
        "model.add(Dense(512, activation='relu'))\n",
        "model.add(BatchNormalization())\n",
        "model.add(Dropout(rate=dropout_rate))\n",
        "model.add(Dense(256, activation='relu'))\n",
        "model.add(BatchNormalization())\n",
        "model.add(Dropout(rate=dropout_rate))\n",
        "model.add(Dense(1, activation='sigmoid'))\n",
        "model.add(Flatten())\n",
        "\n",
        " # MLP on global point cloud vector\n",
        "model.compile(loss='binary_crossentropy', optimizer=opt, metrics=['accuracy'])\n",
        "model.summary()\n",
        "\n",
        "################################################################################\n",
        "# Fit the model\n",
        "history = model.fit(X_train, y_train, batch_size=batch_size, epochs=max_epochs,\\\n",
        "                    shuffle=True, verbose=0, validation_data=(X_val, y_val),\\\n",
        "                    class_weight=class_weight)\n",
        "################################################################################\n",
        "\n",
        "# Save model\n",
        "#import pickle\n",
        "\n",
        "# Save history\n",
        "#with open('/trainHistoryDict', 'wb') as file_pi:\n",
        "        #pickle.dump(history.history, file_pi)\n",
        "\n",
        "# Save model\n",
        "#from keras.models import load_model\n",
        "#model.save('my_model'+str(num_points)+'4D.h5')  # creates a HDF5 file 'my_model.h5'\n",
        "#del model  # deletes the existing model\n",
        "\n",
        "################################################################################\n",
        "\n",
        "# Evaluate Model\n",
        "scores = model.evaluate(X_test, y_test, verbose=0)\n",
        "print(\"Average loss of: \", scores[0])\n",
        "print(\"Average accuracy of: \", scores[1])\n",
        "\n",
        "################################################################################\n",
        "# Classification Report\n",
        "from sklearn.metrics import classification_report\n",
        "# make predictions on the test set\n",
        "y_pred = model.predict(X_test)\n",
        " \n",
        "# show a nicely formatted classification report\n",
        "print(\"[INFO] evaluating network...\")\n",
        "print(classification_report(y_true=y_test, y_pred=y_pred.round()))\n",
        "\n",
        "# evaluate the model\n",
        "_, train_acc = model.evaluate(X_train, y_train, verbose=0)\n",
        "_, test_acc = model.evaluate(X_test, y_test, verbose=0)\n",
        "print('Train: %.3f, Test: %.3f' % (train_acc, test_acc))\n",
        "\n",
        "################################################################################\n",
        "import matplotlib.pyplot as plt\n",
        "# plot loss during training\n",
        "plt.subplot(211)\n",
        "plt.title('Loss')\n",
        "plt.plot(history.history['loss'], label='train')\n",
        "plt.plot(history.history['val_loss'], label='test')\n",
        "plt.legend()\n",
        "\n",
        "################################################################################\n",
        "\n",
        "# plot accuracy during training\n",
        "plt.subplot(212)\n",
        "plt.title('Accuracy')\n",
        "plt.plot(history.history['acc'], label='train')\n",
        "plt.plot(history.history['val_acc'], label='test')\n",
        "plt.legend()\n",
        "plt.show()\n",
        "\n",
        "################################################################################"
      ],
      "execution_count": 12,
      "outputs": [
        {
          "output_type": "stream",
          "text": [
            "Training shape is:  (182, 3140, 4)\n",
            "Validation shape is:  (46, 3140, 4)\n",
            "Test shape is:  (58, 3140, 4)\n",
            "WARNING:tensorflow:From /usr/local/lib/python3.6/dist-packages/tensorflow/python/framework/op_def_library.py:263: colocate_with (from tensorflow.python.framework.ops) is deprecated and will be removed in a future version.\n",
            "Instructions for updating:\n",
            "Colocations handled automatically by placer.\n"
          ],
          "name": "stdout"
        },
        {
          "output_type": "stream",
          "text": [
            "Using TensorFlow backend.\n"
          ],
          "name": "stderr"
        },
        {
          "output_type": "stream",
          "text": [
            "WARNING:tensorflow:From /usr/local/lib/python3.6/dist-packages/keras/backend/tensorflow_backend.py:3445: calling dropout (from tensorflow.python.ops.nn_ops) with keep_prob is deprecated and will be removed in a future version.\n",
            "Instructions for updating:\n",
            "Please use `rate` instead of `keep_prob`. Rate should be set to `rate = 1 - keep_prob`.\n",
            "_________________________________________________________________\n",
            "Layer (type)                 Output Shape              Param #   \n",
            "=================================================================\n",
            "conv1d_1 (Conv1D)            (None, 3140, 64)          320       \n",
            "_________________________________________________________________\n",
            "batch_normalization_1 (Batch (None, 3140, 64)          256       \n",
            "_________________________________________________________________\n",
            "conv1d_2 (Conv1D)            (None, 3140, 64)          4160      \n",
            "_________________________________________________________________\n",
            "batch_normalization_2 (Batch (None, 3140, 64)          256       \n",
            "_________________________________________________________________\n",
            "conv1d_3 (Conv1D)            (None, 3140, 64)          4160      \n",
            "_________________________________________________________________\n",
            "batch_normalization_3 (Batch (None, 3140, 64)          256       \n",
            "_________________________________________________________________\n",
            "conv1d_4 (Conv1D)            (None, 3140, 128)         8320      \n",
            "_________________________________________________________________\n",
            "batch_normalization_4 (Batch (None, 3140, 128)         512       \n",
            "_________________________________________________________________\n",
            "conv1d_5 (Conv1D)            (None, 3140, 1024)        132096    \n",
            "_________________________________________________________________\n",
            "batch_normalization_5 (Batch (None, 3140, 1024)        4096      \n",
            "_________________________________________________________________\n",
            "max_pooling1d_1 (MaxPooling1 (None, 1, 1024)           0         \n",
            "_________________________________________________________________\n",
            "dense_1 (Dense)              (None, 1, 512)            524800    \n",
            "_________________________________________________________________\n",
            "batch_normalization_6 (Batch (None, 1, 512)            2048      \n",
            "_________________________________________________________________\n",
            "dropout_1 (Dropout)          (None, 1, 512)            0         \n",
            "_________________________________________________________________\n",
            "dense_2 (Dense)              (None, 1, 256)            131328    \n",
            "_________________________________________________________________\n",
            "batch_normalization_7 (Batch (None, 1, 256)            1024      \n",
            "_________________________________________________________________\n",
            "dropout_2 (Dropout)          (None, 1, 256)            0         \n",
            "_________________________________________________________________\n",
            "dense_3 (Dense)              (None, 1, 1)              257       \n",
            "_________________________________________________________________\n",
            "flatten_1 (Flatten)          (None, 1)                 0         \n",
            "=================================================================\n",
            "Total params: 813,889\n",
            "Trainable params: 809,665\n",
            "Non-trainable params: 4,224\n",
            "_________________________________________________________________\n",
            "WARNING:tensorflow:From /usr/local/lib/python3.6/dist-packages/tensorflow/python/ops/math_ops.py:3066: to_int32 (from tensorflow.python.ops.math_ops) is deprecated and will be removed in a future version.\n",
            "Instructions for updating:\n",
            "Use tf.cast instead.\n",
            "Average loss of:  1.7351746312503158\n",
            "Average accuracy of:  0.7068965455581402\n",
            "[INFO] evaluating network...\n",
            "              precision    recall  f1-score   support\n",
            "\n",
            "         0.0       0.81      0.69      0.75        36\n",
            "         1.0       0.59      0.73      0.65        22\n",
            "\n",
            "   micro avg       0.71      0.71      0.71        58\n",
            "   macro avg       0.70      0.71      0.70        58\n",
            "weighted avg       0.73      0.71      0.71        58\n",
            "\n",
            "Train: 1.000, Test: 0.707\n"
          ],
          "name": "stdout"
        },
        {
          "output_type": "display_data",
          "data": {
            "image/png": "[encoded data removed]",
            "text/plain": [
              "<Figure size 432x288 with 2 Axes>"
            ]
          },
          "metadata": {
            "tags": []
          }
        }
      ]
    },
    {
      "metadata": {
        "id": "4UbFTMAN_O4N",
        "colab_type": "code",
        "colab": {
          "base_uri": "https://localhost:8080/",
          "height": 1129
        },
        "outputId": "29c7d8ba-9511-45ee-8dc4-41d3ae3754a0"
      },
      "cell_type": "code",
      "source": [
        "from sklearn.metrics import accuracy_score, confusion_matrix\n",
        "print(\"\\n###################### Model Performance ############################\")\n",
        "print(\"\\n#####################################################################\")\n",
        "# evaluate the model\n",
        "_, train_acc = model.evaluate(X_train, y_train, verbose=0)\n",
        "_, test_acc = model.evaluate(X_test, y_test, verbose=0)\n",
        "print('\\nTrain: %.3f, Test: %.3f' % (train_acc, test_acc))\n",
        "print(\"\\n#####################################################################\")\n",
        "################################################################################\n",
        "import matplotlib.pyplot as plt\n",
        "# plot loss during training\n",
        "plt.subplot(211)\n",
        "plt.title('Loss')\n",
        "plt.plot(history.history['loss'], label='train')\n",
        "plt.plot(history.history['val_loss'], label='test')\n",
        "plt.legend()\n",
        "\n",
        "################################################################################\n",
        "\n",
        "# plot accuracy during training\n",
        "plt.subplot(212)\n",
        "plt.title('Accuracy')\n",
        "plt.plot(history.history['acc'], label='train')\n",
        "plt.plot(history.history['val_acc'], label='test')\n",
        "plt.legend()\n",
        "plt.show()\n",
        "\n",
        "################################################################################\n",
        "print(\"\\n#####################################################################\")\n",
        "# Create the confusion matrix\n",
        "ann_cm = confusion_matrix(y_true = y_test, y_pred = y_pred.round())\n",
        "print(\"\\nOur test confusion matrix yields: \")\n",
        "print(ann_cm)\n",
        "print(\"\\n#####################################################################\")\n",
        "\n",
        "#Classification report\n",
        "ann_report = classification_report(y_test, y_pred.round())\n",
        "print(\"\\nClassfication Report for test:\\n\", ann_report)\n",
        "print(\"\\n#####################################################################\")\n",
        "\n",
        "#Calculate AUC score\n",
        "from sklearn.metrics import roc_auc_score\n",
        "ann_auc = roc_auc_score(y_test, y_pred.round())\n",
        "print(\"\\nOur testing AUC for ann is: \", ann_auc)\n",
        "\n",
        "from sklearn.metrics import roc_curve\n",
        "fpr_ann, tpr_ann, thresholds_ann = roc_curve(y_test, y_pred.round())\n",
        "\n",
        "# Plot AUC \n",
        "plt.figure()\n",
        "plt.plot(fpr_ann, tpr_ann, color='purple', lw=2, label='ANN (area = {:.3f})'.format(ann_auc))\n",
        "plt.plot([0, 1], [0, 1], color='blue', lw=2, linestyle='--')\n",
        "plt.xlabel('FPR')\n",
        "plt.ylabel('TPR')\n",
        "plt.title('ROC curve')\n",
        "plt.legend(loc='best')\n",
        "plt.show()\n",
        "print(\"\\n#####################################################################\")"
      ],
      "execution_count": 34,
      "outputs": [
        {
          "output_type": "stream",
          "text": [
            "\n",
            "###################### Model Performance ############################\n",
            "\n",
            "#####################################################################\n",
            "\n",
            "Train: 1.000, Test: 0.707\n",
            "\n",
            "#####################################################################\n"
          ],
          "name": "stdout"
        },
        {
          "output_type": "display_data",
          "data": {
            "image/png": "[encoded data removed]",
            "text/plain": [
              "<Figure size 432x288 with 2 Axes>"
            ]
          },
          "metadata": {
            "tags": []
          }
        },
        {
          "output_type": "stream",
          "text": [
            "\n",
            "#####################################################################\n",
            "\n",
            "Our test confusion matrix yields: \n",
            "[[25 11]\n",
            " [ 6 16]]\n",
            "\n",
            "#####################################################################\n",
            "\n",
            "Classfication Report for test:\n",
            "               precision    recall  f1-score   support\n",
            "\n",
            "         0.0       0.81      0.69      0.75        36\n",
            "         1.0       0.59      0.73      0.65        22\n",
            "\n",
            "   micro avg       0.71      0.71      0.71        58\n",
            "   macro avg       0.70      0.71      0.70        58\n",
            "weighted avg       0.73      0.71      0.71        58\n",
            "\n",
            "\n",
            "#####################################################################\n",
            "\n",
            "Our testing AUC for ann is:  0.7108585858585859\n"
          ],
          "name": "stdout"
        },
        {
          "output_type": "display_data",
          "data": {
            "image/png": "[encoded data removed]",
            "text/plain": [
              "<Figure size 432x288 with 1 Axes>"
            ]
          },
          "metadata": {
            "tags": []
          }
        },
        {
          "output_type": "stream",
          "text": [
            "\n",
            "#####################################################################\n"
          ],
          "name": "stdout"
        }
      ]
    },
    {
      "metadata": {
        "id": "pzS4_vc-2nn5",
        "colab_type": "code",
        "colab": {}
      },
      "cell_type": "code",
      "source": [
        "# Save model\n",
        "import pickle\n",
        "\n",
        "# Save history\n",
        "with open('/trainHistoryDict', 'wb') as file_pi:\n",
        "        pickle.dump(history.history, file_pi)\n",
        "\n",
        "# Save model\n",
        "from keras.models import load_model\n",
        "model.save('my_model'+str(num_points)+'.h5')  # creates a HDF5 file 'my_model.h5'\n",
        "#del model  # deletes the existing model"
      ],
      "execution_count": 0,
      "outputs": []
    },
    {
      "metadata": {
        "id": "KH05_bwo_vko",
        "colab_type": "text"
      },
      "cell_type": "markdown",
      "source": [
        "K FOLDS Cross validated score"
      ]
    },
    {
      "metadata": {
        "id": "Qer4WIVj_vVS",
        "colab_type": "code",
        "colab": {}
      },
      "cell_type": "code",
      "source": [
        "# define 5-fold cross validation test harness\n",
        "from sklearn.model_selection import StratifiedKFold\n",
        "kfold = StratifiedKFold(n_splits=5, shuffle=True, random_state=61)\n",
        "ann_cv_scores = []\n",
        "\n",
        "#Run loop for manual 5-fold cross validation\n",
        "for train, test in kfold.split(X, y):\n",
        "    #scale data\n",
        "    scaler = StandardScaler()\n",
        "    #fit on training\n",
        "    scaler.fit(X.iloc[train])\n",
        "    #build model with optimized parameters\n",
        "    model = Sequential()\n",
        "    model.add(Dense(H1, input_dim=8, activation='selu')) #use optimized hidden layer size\n",
        "    model.add(Dense(1, activation='sigmoid'))\n",
        "    # Compile model\n",
        "    model.compile(loss='binary_crossentropy', optimizer=sgd, metrics=['accuracy']) #with optimized optimizers\n",
        "    # Fit the model\n",
        "    model.fit(scaler.transform(X.iloc[train]), y[train], epochs=150, batch_size=10, verbose=0)\n",
        "    y_pred_ann = model.predict(scaler.transform(X.iloc[test]))\n",
        "    scores = roc_auc_score(y[test], y_pred_ann)\n",
        "    ann_cv_scores.append(scores)\n",
        "\n",
        "ann_auc_cv = numpy.mean(ann_cv_scores)\n",
        "print(\"ANN CV score: \", ann_auc_cv)\n",
        "\n",
        "print(\"\\n#####################################################################\")"
      ],
      "execution_count": 0,
      "outputs": []
    },
    {
      "metadata": {
        "id": "z0AzPtXd_-YF",
        "colab_type": "text"
      },
      "cell_type": "markdown",
      "source": [
        "Grid search"
      ]
    },
    {
      "metadata": {
        "id": "X0LOAUBi-pra",
        "colab_type": "code",
        "colab": {}
      },
      "cell_type": "code",
      "source": [
        "from sklearn.pipeline import Pipeline \n",
        "from sklearn.preprocessing import StandardScaler\n",
        "from sklearn.model_selection import GridSearchCV\n",
        "\n",
        "# Define the Pipeline we will use\n",
        "Scaler = StandardScaler()\n",
        "Log_Reg = LogisticRegression(penalty = 'l2')\n",
        "\n",
        "pipe = Pipeline([('Transform', Scaler), ('Estimator', Log_Reg)])\n",
        "\n",
        "# Define the parameter grid\n",
        "param_grid = {'Estimator__C': [0.001, 0.01, 0.1, 1, 10, 100],\n",
        "              'Estimator__class_weight': [{0:0.1, 1:0.9}, {0:0.2, 1:0.8}, \\\n",
        "                                          {0:0.3, 1:0.7}, {0:0.4, 1:0.6}, \\\n",
        "                                          {0:0.5, 1:0.5}]}\n",
        "              \n",
        "\n",
        "print(\"Parameter grid:\")\n",
        "print(\"class_weight: {}\".format(param_grid['Estimator__class_weight']))\n",
        "print(\"C: {}\".format(param_grid['Estimator__C']))\n",
        "\n",
        "# Now initialise the GridSearchCV class by passing it the pipeline we have created\n",
        "grid_search=GridSearchCV(pipe, param_grid=param_grid, cv=5, scoring='f1_macro')\n",
        "\n",
        "# We stratify in order to have the same number of classes in the different splits.\n",
        "X_train, X_test, y_train, y_test = \\\n",
        "train_test_split(X, y_binary, random_state=0, stratify=y_binary, test_size=0.2)\n",
        "\n",
        "## Find the best parameters\n",
        "# It takes a while to run ...\n",
        "grid_search.fit(X_train, y_train)\n",
        "print(\"Best parameters: {}\".format(grid_search.best_params_))\n",
        "print(\"Best cross-validation f1 score: {:.4f}\".format(grid_search.best_score_))\n",
        "\n",
        "## Visualise grid results\n",
        "import mglearn\n",
        "import warnings; warnings.simplefilter('ignore') #prevent warnings\n",
        "\n",
        "# convert results to DataFrame\n",
        "results = pd.DataFrame(grid_search.cv_results_) \n",
        "# show the first few rows \n",
        "display(results[:][:5])"
      ],
      "execution_count": 0,
      "outputs": []
    },
    {
      "metadata": {
        "colab_type": "code",
        "id": "YiIX-EMFpWxg",
        "colab": {}
      },
      "cell_type": "code",
      "source": [
        "# Load model.\n",
        "#model = load_model('my_model10204D.h5')"
      ],
      "execution_count": 0,
      "outputs": []
    },
    {
      "metadata": {
        "id": "cvm8Ri02pJUs",
        "colab_type": "text"
      },
      "cell_type": "markdown",
      "source": [
        "## 99. Cross Validation beta\n",
        "Note using different activation and loss functions as opposed to previous models. "
      ]
    },
    {
      "metadata": {
        "id": "phUG2LIVpI8V",
        "colab_type": "code",
        "outputId": "f22b05cf-b861-431c-951d-091c0c32d90e",
        "colab": {
          "base_uri": "https://localhost:8080/",
          "height": 105
        }
      },
      "cell_type": "code",
      "source": [
        "from keras.models import Sequential\n",
        "from keras.layers import Dense\n",
        "from sklearn.model_selection import StratifiedKFold\n",
        "import numpy\n",
        "\n",
        "# Load 1024 data \n",
        "X = np.load('../2_pipeline/1020-4D.npy')\n",
        "y = np.load('../2_pipeline/labels.npy')\n",
        "\n",
        "# fix random seed for reproducibility\n",
        "seed = 7\n",
        "numpy.random.seed(seed)\n",
        "\n",
        "# define 10-fold cross validation test harness\n",
        "kfold = StratifiedKFold(n_splits=4, shuffle=True, random_state=seed)\n",
        "cvscores = []\n",
        "\n",
        "for train, test in kfold.split(X, y):\n",
        "    ### POINTNET ARCHITECTURE\n",
        "    \n",
        "    # Point functions (MLP implemented as conv2d\n",
        "    model = Sequential()\n",
        "    model.add(Convolution2D(64, 1, input_shape=(num_points, 3, 3), activation='relu'))\n",
        "    model.add(Convolution2D(64, 1, activation='relu'))\n",
        "    model.add(Convolution2D(64, 1, activation='relu'))\n",
        "    model.add(Convolution2D(128, 1, activation='relu'))\n",
        "    model.add(Convolution2D(1024, 1, activation='relu'))\n",
        "\n",
        "    # Symmetric function: max pooling\n",
        "    model.add(MaxPooling2D(pool_size=(num_points,3), strides=None, padding='valid', data_format=None))\n",
        "\n",
        "    #fully connected\n",
        "    model.add(Dense(512, activation='relu'))\n",
        "    model.add(Dense(256, activation='relu'))\n",
        "    model.add(Dropout(rate=0.5))\n",
        "    model.add(Dense(1, activation='sigmoid'))\n",
        "    model.add(Flatten())\n",
        "\n",
        "    # Compile model\n",
        "    # MLP on global point cloud vector\n",
        "    model.compile(loss= 'binary_crossentropy', optimizer='adam', metrics=['accuracy'])\n",
        "    # evaluate the model\n",
        "    scores = model.evaluate(X[test], y[test], verbose=0)\n",
        "    print(\"%s: %.2f%%\" % (model.metrics_names[1], scores[1]*100))\n",
        "    cvscores.append(scores[1] * 100)\n",
        "\n",
        "print(\"%.2f%% (+/- %.2f%%)\" % (numpy.mean(cvscores), numpy.std(cvscores)))"
      ],
      "execution_count": 0,
      "outputs": [
        {
          "output_type": "stream",
          "text": [
            "acc: 69.44%\n",
            "acc: 69.44%\n",
            "acc: 69.01%\n",
            "acc: 30.99%\n",
            "59.72% (+/- 16.59%)\n"
          ],
          "name": "stdout"
        }
      ]
    },
    {
      "metadata": {
        "id": "gz3XKQVrfL2m",
        "colab_type": "text"
      },
      "cell_type": "markdown",
      "source": [
        "The model with 1024 points scored:\n",
        "* Test loss: 0.8002310043887089\n",
        "* Test accuracy: 0.631578951132925\n",
        "\n",
        "The model with body and 4096 points scored:\n",
        "* Test loss:  1.2039089792653135\n",
        "* Test accuracy:  0.6210526353434512\n",
        "\n",
        "The model without the body with 4096 points scored:\n",
        "* Test loss:  0.9736735845866956\n",
        "* Test accuracy:  0.5894736785637705\n",
        "\n",
        "The model without the body and 1024 points scored:\n",
        "* Test loss: x\n",
        "* Test accuracy: x\n",
        "\n",
        "Model with 4096 points scored:\n",
        "* Test loss of: 1.2039089792653135\n",
        "* Test accuracy of: 0.6210526353434512"
      ]
    },
    {
      "metadata": {
        "id": "67XEOdVGIldY",
        "colab_type": "text"
      },
      "cell_type": "markdown",
      "source": [
        "## Apply a grid search for hyperparameter optimization"
      ]
    },
    {
      "metadata": {
        "id": "ufKyP95IIk94",
        "colab_type": "code",
        "colab": {}
      },
      "cell_type": "code",
      "source": [
        ""
      ],
      "execution_count": 0,
      "outputs": []
    }
  ]
}